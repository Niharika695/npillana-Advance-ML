{
  "nbformat": 4,
  "nbformat_minor": 0,
  "metadata": {
    "colab": {
      "name": "Ass1_AML_1.ipynb",
      "provenance": [],
      "collapsed_sections": []
    },
    "kernelspec": {
      "name": "python3",
      "display_name": "Python 3"
    },
    "language_info": {
      "name": "python"
    }
  },
  "cells": [
    {
      "cell_type": "code",
      "execution_count": null,
      "metadata": {
        "id": "hAI45p7iIzRx"
      },
      "outputs": [],
      "source": [
        "#Importing the required modules\n",
        "import numpy as np\n",
        "import keras\n",
        "import matplotlib \n",
        "import matplotlib.pyplot as plt\n",
        "from keras import models\n",
        "from keras import layers"
      ]
    },
    {
      "cell_type": "code",
      "source": [
        "from keras.datasets import imdb\n",
        "\n",
        "(train_data, train_labels), (test_data, test_labels) = imdb.load_data(num_words=10000)"
      ],
      "metadata": {
        "id": "8pr7BCuYAykJ"
      },
      "execution_count": null,
      "outputs": []
    },
    {
      "cell_type": "code",
      "source": [
        "max([max(sequence) for sequence in train_data])"
      ],
      "metadata": {
        "colab": {
          "base_uri": "https://localhost:8080/"
        },
        "id": "snP-Tzf2A27g",
        "outputId": "30974f85-39d7-49cd-f02b-1c0a64642b10"
      },
      "execution_count": null,
      "outputs": [
        {
          "output_type": "execute_result",
          "data": {
            "text/plain": [
              "9999"
            ]
          },
          "metadata": {},
          "execution_count": 7
        }
      ]
    },
    {
      "cell_type": "code",
      "source": [
        "#Decoding the integer sequences back into sentences\n",
        "#mapping words to an integer index\n",
        "word_index = imdb.get_word_index()\n",
        "# We reverse it, mapping integer indices to words\n",
        "reverse_word_index = dict([(value, key) for (key, value) in word_index.items()])\n",
        "# We decode the review; note that our indices were offset by 3\n",
        "# because 0, 1 and 2 are reserved indices for \"padding\", \"start of sequence\", and \"unknown\".\n",
        "decoded_review = ' '.join([reverse_word_index.get(i - 3, '?') for i in train_data[0]])\n",
        "print(decoded_review)"
      ],
      "metadata": {
        "colab": {
          "base_uri": "https://localhost:8080/"
        },
        "id": "-ft4nmn6B6IY",
        "outputId": "db28e449-ae2f-415c-948a-b77a6d1399cd"
      },
      "execution_count": null,
      "outputs": [
        {
          "output_type": "stream",
          "name": "stdout",
          "text": [
            "? this film was just brilliant casting location scenery story direction everyone's really suited the part they played and you could just imagine being there robert ? is an amazing actor and now the same being director ? father came from the same scottish island as myself so i loved the fact there was a real connection with this film the witty remarks throughout the film were great it was just brilliant so much that i bought the film as soon as it was released for ? and would recommend it to everyone to watch and the fly fishing was amazing really cried at the end it was so sad and you know what they say if you cry at a film it must have been good and this definitely was also ? to the two little boy's that played the ? of norman and paul they were just brilliant children are often left out of the ? list i think because the stars that play them all grown up are such a big profile for the whole film but these children are amazing and should be praised for what they have done don't you think the whole story was so lovely because it was true and was someone's life after all that was shared with us all\n"
          ]
        }
      ]
    },
    {
      "cell_type": "code",
      "source": [
        "# Data Preparation\n",
        "\n",
        "def vectorize_sequences(sequences, dimension=10000):\n",
        "    # Create an all-zero matrix of shape (len(sequences), dimension)\n",
        "    results = np.zeros((len(sequences), dimension))\n",
        "    for i, sequence in enumerate(sequences):\n",
        "        results[i, sequence] = 1.  # set specific indices of results[i] to 1s\n",
        "    return results\n",
        "\n",
        "# Our vectorized training data\n",
        "x_train = vectorize_sequences(train_data)\n",
        "# Our vectorized test data\n",
        "x_test = vectorize_sequences(test_data)\n",
        "\n",
        "#Encoding the labels\n",
        "# Our vectorized labels\n",
        "y_train = np.asarray(train_labels).astype('float32')\n",
        "y_test = np.asarray(test_labels).astype('float32')"
      ],
      "metadata": {
        "id": "uz_6uIiLCY8a"
      },
      "execution_count": null,
      "outputs": []
    },
    {
      "cell_type": "code",
      "source": [
        "#Reference Base Model creation\n",
        "model = models.Sequential()\n",
        "model.add(layers.Dense(16, activation='relu', input_shape=(10000,)))\n",
        "model.add(layers.Dense(16, activation='relu'))\n",
        "model.add(layers.Dense(1, activation='sigmoid'))"
      ],
      "metadata": {
        "id": "bvDtbYYNH_aG"
      },
      "execution_count": null,
      "outputs": []
    },
    {
      "cell_type": "code",
      "source": [
        "#Model compilation\n",
        "\n",
        "model.compile(optimizer='rmsprop',\n",
        "loss='binary_crossentropy',\n",
        "metrics=['accuracy'])"
      ],
      "metadata": {
        "id": "91JBiXmaH_ny"
      },
      "execution_count": null,
      "outputs": []
    },
    {
      "cell_type": "code",
      "source": [
        "#Setting aside a validation set\n",
        "\n",
        "x_val = x_train[:10000]\n",
        "partial_x_train = x_train[10000:]\n",
        "y_val = y_train[:10000]\n",
        "partial_y_train = y_train[10000:]"
      ],
      "metadata": {
        "id": "FfGxTgkAH_rK"
      },
      "execution_count": null,
      "outputs": []
    },
    {
      "cell_type": "code",
      "source": [
        "#Training the model\n",
        "\n",
        "history = model.fit(partial_x_train,\n",
        "    partial_y_train,\n",
        "    epochs=20,\n",
        "    batch_size=512,\n",
        "    validation_data=(x_val, y_val))\n",
        "\n",
        "history_dict = history.history\n",
        "print(history_dict.keys())"
      ],
      "metadata": {
        "colab": {
          "base_uri": "https://localhost:8080/"
        },
        "id": "3r5uMghQH_uk",
        "outputId": "bb052a70-da5d-4d1a-8232-aea3a907f4d2"
      },
      "execution_count": null,
      "outputs": [
        {
          "output_type": "stream",
          "name": "stdout",
          "text": [
            "Epoch 1/20\n",
            "30/30 [==============================] - 2s 46ms/step - loss: 0.5214 - accuracy: 0.7939 - val_loss: 0.4109 - val_accuracy: 0.8465\n",
            "Epoch 2/20\n",
            "30/30 [==============================] - 1s 37ms/step - loss: 0.3140 - accuracy: 0.9021 - val_loss: 0.3091 - val_accuracy: 0.8871\n",
            "Epoch 3/20\n",
            "30/30 [==============================] - 1s 34ms/step - loss: 0.2302 - accuracy: 0.9243 - val_loss: 0.2802 - val_accuracy: 0.8902\n",
            "Epoch 4/20\n",
            "30/30 [==============================] - 1s 34ms/step - loss: 0.1825 - accuracy: 0.9401 - val_loss: 0.2870 - val_accuracy: 0.8838\n",
            "Epoch 5/20\n",
            "30/30 [==============================] - 1s 34ms/step - loss: 0.1495 - accuracy: 0.9519 - val_loss: 0.2777 - val_accuracy: 0.8914\n",
            "Epoch 6/20\n",
            "30/30 [==============================] - 1s 34ms/step - loss: 0.1218 - accuracy: 0.9616 - val_loss: 0.3017 - val_accuracy: 0.8799\n",
            "Epoch 7/20\n",
            "30/30 [==============================] - 1s 34ms/step - loss: 0.1019 - accuracy: 0.9692 - val_loss: 0.3069 - val_accuracy: 0.8822\n",
            "Epoch 8/20\n",
            "30/30 [==============================] - 1s 34ms/step - loss: 0.0823 - accuracy: 0.9759 - val_loss: 0.3304 - val_accuracy: 0.8836\n",
            "Epoch 9/20\n",
            "30/30 [==============================] - 1s 33ms/step - loss: 0.0690 - accuracy: 0.9803 - val_loss: 0.3768 - val_accuracy: 0.8770\n",
            "Epoch 10/20\n",
            "30/30 [==============================] - 1s 33ms/step - loss: 0.0564 - accuracy: 0.9852 - val_loss: 0.3706 - val_accuracy: 0.8797\n",
            "Epoch 11/20\n",
            "30/30 [==============================] - 1s 34ms/step - loss: 0.0471 - accuracy: 0.9882 - val_loss: 0.4026 - val_accuracy: 0.8770\n",
            "Epoch 12/20\n",
            "30/30 [==============================] - 1s 34ms/step - loss: 0.0356 - accuracy: 0.9928 - val_loss: 0.4269 - val_accuracy: 0.8770\n",
            "Epoch 13/20\n",
            "30/30 [==============================] - 1s 34ms/step - loss: 0.0287 - accuracy: 0.9954 - val_loss: 0.4601 - val_accuracy: 0.8724\n",
            "Epoch 14/20\n",
            "30/30 [==============================] - 1s 37ms/step - loss: 0.0224 - accuracy: 0.9962 - val_loss: 0.5278 - val_accuracy: 0.8623\n",
            "Epoch 15/20\n",
            "30/30 [==============================] - 1s 34ms/step - loss: 0.0172 - accuracy: 0.9973 - val_loss: 0.5322 - val_accuracy: 0.8679\n",
            "Epoch 16/20\n",
            "30/30 [==============================] - 1s 34ms/step - loss: 0.0140 - accuracy: 0.9979 - val_loss: 0.5811 - val_accuracy: 0.8706\n",
            "Epoch 17/20\n",
            "30/30 [==============================] - 1s 35ms/step - loss: 0.0120 - accuracy: 0.9984 - val_loss: 0.6008 - val_accuracy: 0.8686\n",
            "Epoch 18/20\n",
            "30/30 [==============================] - 1s 34ms/step - loss: 0.0061 - accuracy: 0.9998 - val_loss: 0.6461 - val_accuracy: 0.8708\n",
            "Epoch 19/20\n",
            "30/30 [==============================] - 1s 34ms/step - loss: 0.0072 - accuracy: 0.9993 - val_loss: 0.6699 - val_accuracy: 0.8666\n",
            "Epoch 20/20\n",
            "30/30 [==============================] - 1s 34ms/step - loss: 0.0039 - accuracy: 0.9999 - val_loss: 0.7122 - val_accuracy: 0.8683\n",
            "dict_keys(['loss', 'accuracy', 'val_loss', 'val_accuracy'])\n"
          ]
        }
      ]
    },
    {
      "cell_type": "code",
      "source": [
        "#Plot the training and validation loss\n",
        "\n",
        "loss = history.history['loss']\n",
        "val_loss = history.history['val_loss']\n",
        "epochs = range(1, len(val_loss) + 1)\n",
        "plt.plot(epochs, loss, 'bo', label='Training loss')\n",
        "plt.plot(epochs, val_loss, 'b', label='Validation loss')\n",
        "plt.title('Training and validation loss')\n",
        "plt.xlabel('Epochs')\n",
        "plt.ylabel('Loss')\n",
        "plt.legend()\n",
        "plt.show()"
      ],
      "metadata": {
        "colab": {
          "base_uri": "https://localhost:8080/",
          "height": 295
        },
        "id": "bhvEp3iiI3p6",
        "outputId": "e826bfbf-0f51-4b66-b492-606e909d5abf"
      },
      "execution_count": null,
      "outputs": [
        {
          "output_type": "display_data",
          "data": {
            "image/png": "[encoded data removed]",
            "text/plain": [
              "<Figure size 432x288 with 1 Axes>"
            ]
          },
          "metadata": {
            "needs_background": "light"
          }
        }
      ]
    },
    {
      "cell_type": "code",
      "source": [
        "#Plot the training and validation accuracy\n",
        "\n",
        "plt.clf() \n",
        "acc = history.history['accuracy']\n",
        "val_acc = history.history['val_accuracy']\n",
        "plt.plot(epochs, acc, 'bo', label='Training acc')\n",
        "plt.plot(epochs, val_acc, 'b', label='Validation acc')\n",
        "plt.title('Training and validation accuracy')\n",
        "plt.xlabel('Epochs')\n",
        "plt.ylabel('Accuracy')\n",
        "plt.legend()\n",
        "plt.show()"
      ],
      "metadata": {
        "colab": {
          "base_uri": "https://localhost:8080/",
          "height": 295
        },
        "id": "BG-r_Z7lI3tc",
        "outputId": "123a72a8-a88b-4b61-a02d-055f99a4fe1f"
      },
      "execution_count": null,
      "outputs": [
        {
          "output_type": "display_data",
          "data": {
            "image/png": "[encoded data removed]",
            "text/plain": [
              "<Figure size 432x288 with 1 Axes>"
            ]
          },
          "metadata": {
            "needs_background": "light"
          }
        }
      ]
    },
    {
      "cell_type": "code",
      "source": [
        "#Re-training the model from scratch\n",
        "\n",
        "model = models.Sequential()\n",
        "model.add(layers.Dense(16, activation='relu', input_shape=(10000,)))\n",
        "model.add(layers.Dense(16, activation='relu'))\n",
        "model.add(layers.Dense(1, activation='sigmoid'))\n",
        "model.compile(optimizer='rmsprop',\n",
        "loss='binary_crossentropy',\n",
        "metrics=['accuracy'])\n",
        "model.fit(x_train, y_train, epochs=5, batch_size=512)\n",
        "results = model.evaluate(x_test, y_test)"
      ],
      "metadata": {
        "colab": {
          "base_uri": "https://localhost:8080/"
        },
        "id": "h9MRHJBPI3x6",
        "outputId": "7f7a0bfb-56ea-4608-eac7-f4eed375048f"
      },
      "execution_count": null,
      "outputs": [
        {
          "output_type": "stream",
          "name": "stdout",
          "text": [
            "Epoch 1/5\n",
            "49/49 [==============================] - 3s 37ms/step - loss: 0.4502 - accuracy: 0.8206\n",
            "Epoch 2/5\n",
            "49/49 [==============================] - 1s 27ms/step - loss: 0.2557 - accuracy: 0.9092\n",
            "Epoch 3/5\n",
            "49/49 [==============================] - 1s 27ms/step - loss: 0.2010 - accuracy: 0.9266\n",
            "Epoch 4/5\n",
            "49/49 [==============================] - 1s 28ms/step - loss: 0.1677 - accuracy: 0.9409\n",
            "Epoch 5/5\n",
            "49/49 [==============================] - 1s 26ms/step - loss: 0.1428 - accuracy: 0.9506\n",
            "782/782 [==============================] - 2s 2ms/step - loss: 0.3220 - accuracy: 0.8771\n"
          ]
        }
      ]
    },
    {
      "cell_type": "code",
      "source": [
        "print(results)"
      ],
      "metadata": {
        "colab": {
          "base_uri": "https://localhost:8080/"
        },
        "id": "ujqJEV8wI31H",
        "outputId": "4f68f843-0d7f-4871-f47b-ae321493bd57"
      },
      "execution_count": null,
      "outputs": [
        {
          "output_type": "stream",
          "name": "stdout",
          "text": [
            "[0.32204729318618774, 0.8770800232887268]\n"
          ]
        }
      ]
    },
    {
      "cell_type": "markdown",
      "source": [
        "1. You used two hidden layers. Try using one or three hidden layers, and see how doing so affects validation and test accuracy."
      ],
      "metadata": {
        "id": "siwYGL5jI6YZ"
      }
    },
    {
      "cell_type": "code",
      "source": [
        "#Using three hidden layers\n",
        "model_3L = keras.Sequential([\n",
        "    layers.Dense(16, activation=\"relu\"),\n",
        "    layers.Dense(16, activation=\"relu\"),\n",
        "    layers.Dense(16, activation=\"relu\"),\n",
        "    layers.Dense(1, activation=\"sigmoid\")\n",
        "])\n",
        "\n",
        "model_3L.compile(optimizer=\"rmsprop\",\n",
        "              loss=\"binary_crossentropy\",\n",
        "              metrics=[\"accuracy\"])\n",
        "\n",
        "# Training our model\n",
        "\n",
        "history_3L = model_3L.fit(partial_x_train,\n",
        "                    partial_y_train,\n",
        "                    epochs=20,\n",
        "                    batch_size=512,\n",
        "                    validation_data=(x_val, y_val))"
      ],
      "metadata": {
        "colab": {
          "base_uri": "https://localhost:8080/"
        },
        "id": "nNgfwfAKJJTM",
        "outputId": "cd8923c8-611c-4c46-a8af-ad673539c3fa"
      },
      "execution_count": null,
      "outputs": [
        {
          "output_type": "stream",
          "name": "stdout",
          "text": [
            "Epoch 1/20\n",
            "30/30 [==============================] - 2s 51ms/step - loss: 0.5437 - accuracy: 0.7730 - val_loss: 0.4099 - val_accuracy: 0.8680\n",
            "Epoch 2/20\n",
            "30/30 [==============================] - 1s 35ms/step - loss: 0.3249 - accuracy: 0.8969 - val_loss: 0.3084 - val_accuracy: 0.8883\n",
            "Epoch 3/20\n",
            "30/30 [==============================] - 1s 35ms/step - loss: 0.2253 - accuracy: 0.9246 - val_loss: 0.2952 - val_accuracy: 0.8820\n",
            "Epoch 4/20\n",
            "30/30 [==============================] - 1s 34ms/step - loss: 0.1755 - accuracy: 0.9408 - val_loss: 0.2850 - val_accuracy: 0.8865\n",
            "Epoch 5/20\n",
            "30/30 [==============================] - 1s 34ms/step - loss: 0.1389 - accuracy: 0.9546 - val_loss: 0.2896 - val_accuracy: 0.8863\n",
            "Epoch 6/20\n",
            "30/30 [==============================] - 1s 34ms/step - loss: 0.1154 - accuracy: 0.9629 - val_loss: 0.3436 - val_accuracy: 0.8765\n",
            "Epoch 7/20\n",
            "30/30 [==============================] - 1s 35ms/step - loss: 0.0917 - accuracy: 0.9721 - val_loss: 0.3320 - val_accuracy: 0.8852\n",
            "Epoch 8/20\n",
            "30/30 [==============================] - 1s 34ms/step - loss: 0.0770 - accuracy: 0.9766 - val_loss: 0.3638 - val_accuracy: 0.8784\n",
            "Epoch 9/20\n",
            "30/30 [==============================] - 1s 35ms/step - loss: 0.0572 - accuracy: 0.9843 - val_loss: 0.4601 - val_accuracy: 0.8686\n",
            "Epoch 10/20\n",
            "30/30 [==============================] - 1s 38ms/step - loss: 0.0500 - accuracy: 0.9870 - val_loss: 0.4408 - val_accuracy: 0.8699\n",
            "Epoch 11/20\n",
            "30/30 [==============================] - 1s 35ms/step - loss: 0.0376 - accuracy: 0.9903 - val_loss: 0.4670 - val_accuracy: 0.8746\n",
            "Epoch 12/20\n",
            "30/30 [==============================] - 1s 34ms/step - loss: 0.0253 - accuracy: 0.9952 - val_loss: 0.6699 - val_accuracy: 0.8530\n",
            "Epoch 13/20\n",
            "30/30 [==============================] - 1s 34ms/step - loss: 0.0212 - accuracy: 0.9961 - val_loss: 0.8354 - val_accuracy: 0.8375\n",
            "Epoch 14/20\n",
            "30/30 [==============================] - 1s 34ms/step - loss: 0.0188 - accuracy: 0.9961 - val_loss: 0.5718 - val_accuracy: 0.8681\n",
            "Epoch 15/20\n",
            "30/30 [==============================] - 1s 34ms/step - loss: 0.0188 - accuracy: 0.9958 - val_loss: 0.6071 - val_accuracy: 0.8711\n",
            "Epoch 16/20\n",
            "30/30 [==============================] - 1s 34ms/step - loss: 0.0152 - accuracy: 0.9958 - val_loss: 0.6452 - val_accuracy: 0.8685\n",
            "Epoch 17/20\n",
            "30/30 [==============================] - 1s 34ms/step - loss: 0.0060 - accuracy: 0.9994 - val_loss: 0.6799 - val_accuracy: 0.8682\n",
            "Epoch 18/20\n",
            "30/30 [==============================] - 1s 35ms/step - loss: 0.0165 - accuracy: 0.9954 - val_loss: 0.7196 - val_accuracy: 0.8684\n",
            "Epoch 19/20\n",
            "30/30 [==============================] - 1s 34ms/step - loss: 0.0031 - accuracy: 0.9995 - val_loss: 0.7572 - val_accuracy: 0.8669\n",
            "Epoch 20/20\n",
            "30/30 [==============================] - 1s 34ms/step - loss: 0.0124 - accuracy: 0.9957 - val_loss: 0.8046 - val_accuracy: 0.8682\n"
          ]
        }
      ]
    },
    {
      "cell_type": "code",
      "source": [
        "# Plot the training and validation loss\n",
        "history_dict_3L = history_3L.history\n",
        "\n",
        "loss = history_3L.history['loss']\n",
        "val_loss = history_3L.history['val_loss']\n",
        "epochs = range(1, len(loss) + 1)\n",
        "plt.plot(epochs, loss, 'bo', label='Training loss')\n",
        "plt.plot(epochs, val_loss, 'b', label='Validation loss')\n",
        "plt.title('Training and validation loss')\n",
        "plt.xlabel('Epochs')\n",
        "plt.ylabel('Validation score')\n",
        "plt.legend()"
      ],
      "metadata": {
        "colab": {
          "base_uri": "https://localhost:8080/",
          "height": 313
        },
        "id": "GFr5AWHTJJWE",
        "outputId": "cb3cc9a9-327b-4fe6-ef7c-3a0fa2bd3027"
      },
      "execution_count": null,
      "outputs": [
        {
          "output_type": "execute_result",
          "data": {
            "text/plain": [
              "<matplotlib.legend.Legend at 0x7f8628750dd0>"
            ]
          },
          "metadata": {},
          "execution_count": 19
        },
        {
          "output_type": "display_data",
          "data": {
            "image/png": "[encoded data removed]",
            "text/plain": [
              "<Figure size 432x288 with 1 Axes>"
            ]
          },
          "metadata": {
            "needs_background": "light"
          }
        }
      ]
    },
    {
      "cell_type": "code",
      "source": [
        "# Plot the training and validation accuracy\n",
        "plt.clf()\n",
        "acc = history_dict_3L[\"accuracy\"]\n",
        "val_acc = history_dict_3L[\"val_accuracy\"]\n",
        "plt.plot(epochs, acc, \"bo\", label=\"Training acc\")\n",
        "plt.plot(epochs, val_acc, \"b\", label=\"Validation acc\")\n",
        "plt.title(\"Training and validation accuracy\")\n",
        "plt.xlabel(\"Epochs\")\n",
        "plt.ylabel(\"Accuracy\")\n",
        "plt.legend()\n",
        "plt.show()"
      ],
      "metadata": {
        "colab": {
          "base_uri": "https://localhost:8080/",
          "height": 295
        },
        "id": "Cf6xqEclJJZe",
        "outputId": "525ef444-12ff-4027-f17c-0ec9942d2bd4"
      },
      "execution_count": null,
      "outputs": [
        {
          "output_type": "display_data",
          "data": {
            "image/png": "[encoded data removed]",
            "text/plain": [
              "<Figure size 432x288 with 1 Axes>"
            ]
          },
          "metadata": {
            "needs_background": "light"
          }
        }
      ]
    },
    {
      "cell_type": "markdown",
      "source": [
        "An epoch means training the neural network with all the training data for one cycle .At fourth epoch point the validation loss is minimum and accuracy is decreasing at the fourth epoch point. This is Overfitting. To prevent overfitting, we can stop training after the fourth epoch and then we need to train a new network from scratch for those 4 ephocs inorder to evaluate it in our test data."
      ],
      "metadata": {
        "id": "Z439JPjtMb4z"
      }
    },
    {
      "cell_type": "code",
      "source": [
        "model_3LT = models.Sequential()\n",
        "model_3LT.add(layers.Dense(16, activation='relu', input_shape=(10000,)))\n",
        "model_3LT.add(layers.Dense(16, activation='relu'))\n",
        "model_3LT.add(layers.Dense(16, activation='relu'))\n",
        "model_3LT.add(layers.Dense(1, activation='sigmoid'))\n",
        "model_3LT.compile(optimizer='rmsprop',\n",
        "loss='binary_crossentropy',\n",
        "metrics=['accuracy'])\n",
        "model_3LT.fit(x_train, y_train, epochs=4, batch_size=512)\n",
        "results1 = model_3LT.evaluate(x_test, y_test)"
      ],
      "metadata": {
        "colab": {
          "base_uri": "https://localhost:8080/"
        },
        "id": "btrb4icdMcMn",
        "outputId": "35cabfd0-1fdf-4594-bf0d-6f704860b5b0"
      },
      "execution_count": null,
      "outputs": [
        {
          "output_type": "stream",
          "name": "stdout",
          "text": [
            "Epoch 1/4\n",
            "49/49 [==============================] - 2s 27ms/step - loss: 0.4803 - accuracy: 0.8107\n",
            "Epoch 2/4\n",
            "49/49 [==============================] - 1s 27ms/step - loss: 0.2625 - accuracy: 0.9084\n",
            "Epoch 3/4\n",
            "49/49 [==============================] - 1s 29ms/step - loss: 0.1976 - accuracy: 0.9292\n",
            "Epoch 4/4\n",
            "49/49 [==============================] - 2s 45ms/step - loss: 0.1614 - accuracy: 0.9429\n",
            "782/782 [==============================] - 2s 2ms/step - loss: 0.3085 - accuracy: 0.8812\n"
          ]
        }
      ]
    },
    {
      "cell_type": "code",
      "source": [
        "print(results1)"
      ],
      "metadata": {
        "colab": {
          "base_uri": "https://localhost:8080/"
        },
        "id": "LtdI7WwXMjiE",
        "outputId": "30ad9afa-4d67-4a0c-a34e-bda3581f6d3d"
      },
      "execution_count": null,
      "outputs": [
        {
          "output_type": "stream",
          "name": "stdout",
          "text": [
            "[0.3085187077522278, 0.8812400102615356]\n"
          ]
        }
      ]
    },
    {
      "cell_type": "markdown",
      "source": [
        "We have seen a slight increase in the test accuracy when used three hidden layers."
      ],
      "metadata": {
        "id": "PCII1ftAMkTK"
      }
    },
    {
      "cell_type": "markdown",
      "source": [
        "2. Try using layers with more hidden units or fewer hidden units: 32 units, 64 units, and so on."
      ],
      "metadata": {
        "id": "SofXct2NJKQY"
      }
    },
    {
      "cell_type": "code",
      "source": [
        "model_2L = keras.Sequential([\n",
        "    layers.Dense(32, activation=\"relu\"),\n",
        "    layers.Dense(64, activation=\"relu\"),\n",
        "    layers.Dense(1, activation=\"sigmoid\")\n",
        "])\n",
        "model_2L.compile(optimizer=\"rmsprop\",\n",
        "              loss=\"binary_crossentropy\",\n",
        "              metrics=[\"accuracy\"])"
      ],
      "metadata": {
        "id": "AMuHSGVZJrjJ"
      },
      "execution_count": null,
      "outputs": []
    },
    {
      "cell_type": "code",
      "source": [
        "  history_2L = model_2L.fit(partial_x_train,\n",
        "                    partial_y_train,\n",
        "                    epochs=20,\n",
        "                    batch_size=512,\n",
        "                    validation_data=(x_val, y_val))"
      ],
      "metadata": {
        "colab": {
          "base_uri": "https://localhost:8080/"
        },
        "id": "4JF-gs5tJrmg",
        "outputId": "57ca37fc-209b-42d0-971c-c64d636e7498"
      },
      "execution_count": null,
      "outputs": [
        {
          "output_type": "stream",
          "name": "stdout",
          "text": [
            "Epoch 1/20\n",
            "30/30 [==============================] - 2s 53ms/step - loss: 0.4821 - accuracy: 0.7847 - val_loss: 0.3916 - val_accuracy: 0.8330\n",
            "Epoch 2/20\n",
            "30/30 [==============================] - 1s 43ms/step - loss: 0.2646 - accuracy: 0.9049 - val_loss: 0.2909 - val_accuracy: 0.8838\n",
            "Epoch 3/20\n",
            "30/30 [==============================] - 1s 42ms/step - loss: 0.1966 - accuracy: 0.9293 - val_loss: 0.3201 - val_accuracy: 0.8692\n",
            "Epoch 4/20\n",
            "30/30 [==============================] - 1s 43ms/step - loss: 0.1578 - accuracy: 0.9445 - val_loss: 0.2821 - val_accuracy: 0.8883\n",
            "Epoch 5/20\n",
            "30/30 [==============================] - 1s 43ms/step - loss: 0.1193 - accuracy: 0.9595 - val_loss: 0.3163 - val_accuracy: 0.8778\n",
            "Epoch 6/20\n",
            "30/30 [==============================] - 1s 42ms/step - loss: 0.0929 - accuracy: 0.9707 - val_loss: 0.3311 - val_accuracy: 0.8795\n",
            "Epoch 7/20\n",
            "30/30 [==============================] - 1s 42ms/step - loss: 0.0718 - accuracy: 0.9777 - val_loss: 0.3585 - val_accuracy: 0.8823\n",
            "Epoch 8/20\n",
            "30/30 [==============================] - 1s 42ms/step - loss: 0.0552 - accuracy: 0.9836 - val_loss: 0.4051 - val_accuracy: 0.8753\n",
            "Epoch 9/20\n",
            "30/30 [==============================] - 1s 43ms/step - loss: 0.0401 - accuracy: 0.9894 - val_loss: 0.4306 - val_accuracy: 0.8766\n",
            "Epoch 10/20\n",
            "30/30 [==============================] - 1s 43ms/step - loss: 0.0365 - accuracy: 0.9898 - val_loss: 0.4755 - val_accuracy: 0.8740\n",
            "Epoch 11/20\n",
            "30/30 [==============================] - 1s 42ms/step - loss: 0.0286 - accuracy: 0.9915 - val_loss: 0.4998 - val_accuracy: 0.8724\n",
            "Epoch 12/20\n",
            "30/30 [==============================] - 1s 44ms/step - loss: 0.0100 - accuracy: 0.9992 - val_loss: 0.5471 - val_accuracy: 0.8701\n",
            "Epoch 13/20\n",
            "30/30 [==============================] - 1s 43ms/step - loss: 0.0172 - accuracy: 0.9949 - val_loss: 0.5807 - val_accuracy: 0.8711\n",
            "Epoch 14/20\n",
            "30/30 [==============================] - 1s 43ms/step - loss: 0.0163 - accuracy: 0.9951 - val_loss: 0.6234 - val_accuracy: 0.8684\n",
            "Epoch 15/20\n",
            "30/30 [==============================] - 1s 43ms/step - loss: 0.0032 - accuracy: 0.9999 - val_loss: 0.6522 - val_accuracy: 0.8701\n",
            "Epoch 16/20\n",
            "30/30 [==============================] - 1s 43ms/step - loss: 0.0187 - accuracy: 0.9942 - val_loss: 0.7098 - val_accuracy: 0.8655\n",
            "Epoch 17/20\n",
            "30/30 [==============================] - 1s 43ms/step - loss: 0.0017 - accuracy: 0.9999 - val_loss: 0.7180 - val_accuracy: 0.8692\n",
            "Epoch 18/20\n",
            "30/30 [==============================] - 1s 43ms/step - loss: 0.0012 - accuracy: 0.9999 - val_loss: 0.7644 - val_accuracy: 0.8675\n",
            "Epoch 19/20\n",
            "30/30 [==============================] - 1s 43ms/step - loss: 0.0144 - accuracy: 0.9957 - val_loss: 0.8048 - val_accuracy: 0.8653\n",
            "Epoch 20/20\n",
            "30/30 [==============================] - 1s 42ms/step - loss: 5.5231e-04 - accuracy: 1.0000 - val_loss: 0.8304 - val_accuracy: 0.8669\n"
          ]
        }
      ]
    },
    {
      "cell_type": "code",
      "source": [
        "history_dict_2L = history_2L.history\n",
        "loss_values = history_dict_2L[\"loss\"]\n",
        "val_loss_values = history_dict_2L[\"val_loss\"]\n",
        "epochs = range(1, len(loss_values) + 1)\n",
        "plt.plot(epochs, loss_values, \"bo\", label=\"Training loss\")\n",
        "plt.plot(epochs, val_loss_values, \"b\", label=\"Validation loss\")\n",
        "plt.title(\"Training and validation loss\")\n",
        "plt.xlabel(\"Epochs\")\n",
        "plt.ylabel(\"Loss\")\n",
        "plt.legend()\n",
        "plt.show()"
      ],
      "metadata": {
        "colab": {
          "base_uri": "https://localhost:8080/",
          "height": 295
        },
        "id": "zD2vf5uVJr27",
        "outputId": "0483aec1-085f-4743-ea36-7869c7854008"
      },
      "execution_count": null,
      "outputs": [
        {
          "output_type": "display_data",
          "data": {
            "image/png": "[encoded data removed]",
            "text/plain": [
              "<Figure size 432x288 with 1 Axes>"
            ]
          },
          "metadata": {
            "needs_background": "light"
          }
        }
      ]
    },
    {
      "cell_type": "code",
      "source": [
        "plt.clf()\n",
        "acc = history_dict_2L[\"accuracy\"]\n",
        "val_acc = history_dict_2L[\"val_accuracy\"]\n",
        "plt.plot(epochs, acc, \"bo\", label=\"Training acc\")\n",
        "plt.plot(epochs, val_acc, \"b\", label=\"Validation acc\")\n",
        "plt.title(\"Training and validation accuracy\")\n",
        "plt.xlabel(\"Epochs\")\n",
        "plt.ylabel(\"Accuracy\")\n",
        "plt.legend()\n",
        "plt.show()"
      ],
      "metadata": {
        "colab": {
          "base_uri": "https://localhost:8080/",
          "height": 295
        },
        "id": "IJE4rH5OMxXh",
        "outputId": "33dc92fd-744d-4094-a3f3-1f2668675340"
      },
      "execution_count": null,
      "outputs": [
        {
          "output_type": "display_data",
          "data": {
            "image/png": "[encoded data removed]",
            "text/plain": [
              "<Figure size 432x288 with 1 Axes>"
            ]
          },
          "metadata": {
            "needs_background": "light"
          }
        }
      ]
    },
    {
      "cell_type": "markdown",
      "source": [
        "At fourth epoch point the validation loss is minimum and accuracy is decreasing at the fourth epoch point. This is Overfitting. To prevent overfitting, we can stop training after the fourth epoch and then we need to train a new network from scratch for those 4 ephocs inorder to evaluate it in our test data."
      ],
      "metadata": {
        "id": "RgZi3k4PM_xY"
      }
    },
    {
      "cell_type": "code",
      "source": [
        "model_2LT = models.Sequential()\n",
        "model_2LT.add(layers.Dense(32, activation='relu', input_shape=(10000,)))\n",
        "model_2LT.add(layers.Dense(64, activation='relu'))\n",
        "model_2LT.add(layers.Dense(1, activation='sigmoid'))\n",
        "model_2LT.compile(optimizer='rmsprop',\n",
        "loss='binary_crossentropy',\n",
        "metrics=['accuracy'])\n",
        "model_2LT.fit(x_train, y_train, epochs=4, batch_size=512)\n",
        "results2 = model_2LT.evaluate(x_test, y_test)"
      ],
      "metadata": {
        "colab": {
          "base_uri": "https://localhost:8080/"
        },
        "id": "HbWazZmIMxbA",
        "outputId": "2a774a7d-ba21-480b-d2a3-1ef912aca452"
      },
      "execution_count": null,
      "outputs": [
        {
          "output_type": "stream",
          "name": "stdout",
          "text": [
            "Epoch 1/4\n",
            "49/49 [==============================] - 4s 47ms/step - loss: 0.4149 - accuracy: 0.8238\n",
            "Epoch 2/4\n",
            "49/49 [==============================] - 2s 36ms/step - loss: 0.2380 - accuracy: 0.9118\n",
            "Epoch 3/4\n",
            "49/49 [==============================] - 2s 32ms/step - loss: 0.1885 - accuracy: 0.9288\n",
            "Epoch 4/4\n",
            "49/49 [==============================] - 2s 31ms/step - loss: 0.1604 - accuracy: 0.9403\n",
            "782/782 [==============================] - 2s 2ms/step - loss: 0.3301 - accuracy: 0.8754\n"
          ]
        }
      ]
    },
    {
      "cell_type": "code",
      "source": [
        "print(results2)"
      ],
      "metadata": {
        "colab": {
          "base_uri": "https://localhost:8080/"
        },
        "id": "OPDAyKSnMxp_",
        "outputId": "9b4e4455-c97a-452a-e349-c3fb159e7dba"
      },
      "execution_count": null,
      "outputs": [
        {
          "output_type": "stream",
          "name": "stdout",
          "text": [
            "[0.3300537168979645, 0.8754400014877319]\n"
          ]
        }
      ]
    },
    {
      "cell_type": "markdown",
      "source": [
        "We have seen a slight decrease in the test accuracy when used more hidden units(32,64)"
      ],
      "metadata": {
        "id": "h_mDlKmONF_T"
      }
    },
    {
      "cell_type": "markdown",
      "source": [
        "3. Try using the mse loss function instead of binary_crossentropy."
      ],
      "metadata": {
        "id": "UKlpXxLoJsOe"
      }
    },
    {
      "cell_type": "code",
      "source": [
        "model_mse = keras.Sequential([\n",
        "    layers.Dense(16, activation=\"relu\"),\n",
        "    layers.Dense(16, activation=\"relu\"),\n",
        "    layers.Dense(1, activation=\"sigmoid\")\n",
        "])\n",
        "model_mse.compile(optimizer=\"rmsprop\",\n",
        "              loss=\"mse\",\n",
        "              metrics=[\"accuracy\"])"
      ],
      "metadata": {
        "id": "6kS8aRTbJu7e"
      },
      "execution_count": null,
      "outputs": []
    },
    {
      "cell_type": "code",
      "source": [
        "# Training our model\n",
        "\n",
        "history_mse = model_mse.fit(partial_x_train,\n",
        "                    partial_y_train,\n",
        "                    epochs=20,\n",
        "                    batch_size=512,\n",
        "                    validation_data=(x_val, y_val))"
      ],
      "metadata": {
        "colab": {
          "base_uri": "https://localhost:8080/"
        },
        "id": "uJlPvRBvJu-G",
        "outputId": "f4e77291-3f92-4185-a78d-c86b1ce8f9e4"
      },
      "execution_count": null,
      "outputs": [
        {
          "output_type": "stream",
          "name": "stdout",
          "text": [
            "Epoch 1/20\n",
            "30/30 [==============================] - 2s 44ms/step - loss: 0.1760 - accuracy: 0.7855 - val_loss: 0.1248 - val_accuracy: 0.8720\n",
            "Epoch 2/20\n",
            "30/30 [==============================] - 1s 34ms/step - loss: 0.0961 - accuracy: 0.9017 - val_loss: 0.0942 - val_accuracy: 0.8895\n",
            "Epoch 3/20\n",
            "30/30 [==============================] - 1s 36ms/step - loss: 0.0671 - accuracy: 0.9259 - val_loss: 0.0896 - val_accuracy: 0.8838\n",
            "Epoch 4/20\n",
            "30/30 [==============================] - 1s 33ms/step - loss: 0.0512 - accuracy: 0.9456 - val_loss: 0.0830 - val_accuracy: 0.8902\n",
            "Epoch 5/20\n",
            "30/30 [==============================] - 1s 34ms/step - loss: 0.0401 - accuracy: 0.9580 - val_loss: 0.0828 - val_accuracy: 0.8868\n",
            "Epoch 6/20\n",
            "30/30 [==============================] - 1s 34ms/step - loss: 0.0328 - accuracy: 0.9676 - val_loss: 0.0866 - val_accuracy: 0.8838\n",
            "Epoch 7/20\n",
            "30/30 [==============================] - 1s 33ms/step - loss: 0.0268 - accuracy: 0.9742 - val_loss: 0.0883 - val_accuracy: 0.8806\n",
            "Epoch 8/20\n",
            "30/30 [==============================] - 1s 33ms/step - loss: 0.0231 - accuracy: 0.9785 - val_loss: 0.0996 - val_accuracy: 0.8662\n",
            "Epoch 9/20\n",
            "30/30 [==============================] - 1s 33ms/step - loss: 0.0175 - accuracy: 0.9847 - val_loss: 0.0900 - val_accuracy: 0.8793\n",
            "Epoch 10/20\n",
            "30/30 [==============================] - 1s 33ms/step - loss: 0.0146 - accuracy: 0.9872 - val_loss: 0.0968 - val_accuracy: 0.8738\n",
            "Epoch 11/20\n",
            "30/30 [==============================] - 1s 34ms/step - loss: 0.0126 - accuracy: 0.9887 - val_loss: 0.0946 - val_accuracy: 0.8766\n",
            "Epoch 12/20\n",
            "30/30 [==============================] - 1s 33ms/step - loss: 0.0097 - accuracy: 0.9925 - val_loss: 0.0966 - val_accuracy: 0.8754\n",
            "Epoch 13/20\n",
            "30/30 [==============================] - 1s 34ms/step - loss: 0.0088 - accuracy: 0.9926 - val_loss: 0.0985 - val_accuracy: 0.8756\n",
            "Epoch 14/20\n",
            "30/30 [==============================] - 1s 33ms/step - loss: 0.0075 - accuracy: 0.9935 - val_loss: 0.0996 - val_accuracy: 0.8749\n",
            "Epoch 15/20\n",
            "30/30 [==============================] - 1s 33ms/step - loss: 0.0048 - accuracy: 0.9963 - val_loss: 0.1201 - val_accuracy: 0.8502\n",
            "Epoch 16/20\n",
            "30/30 [==============================] - 1s 34ms/step - loss: 0.0061 - accuracy: 0.9951 - val_loss: 0.1037 - val_accuracy: 0.8710\n",
            "Epoch 17/20\n",
            "30/30 [==============================] - 1s 33ms/step - loss: 0.0035 - accuracy: 0.9973 - val_loss: 0.1049 - val_accuracy: 0.8717\n",
            "Epoch 18/20\n",
            "30/30 [==============================] - 1s 33ms/step - loss: 0.0051 - accuracy: 0.9951 - val_loss: 0.1065 - val_accuracy: 0.8699\n",
            "Epoch 19/20\n",
            "30/30 [==============================] - 1s 33ms/step - loss: 0.0029 - accuracy: 0.9975 - val_loss: 0.1076 - val_accuracy: 0.8686\n",
            "Epoch 20/20\n",
            "30/30 [==============================] - 1s 33ms/step - loss: 0.0045 - accuracy: 0.9955 - val_loss: 0.1089 - val_accuracy: 0.8672\n"
          ]
        }
      ]
    },
    {
      "cell_type": "code",
      "source": [
        "# Plotting the training and validation loss\n",
        "history_dict_mse = history_mse.history\n",
        "loss_values = history_dict_mse[\"loss\"]\n",
        "val_loss_values = history_dict_mse[\"val_loss\"]\n",
        "epochs = range(1, len(loss_values) + 1)\n",
        "plt.plot(epochs, loss_values, \"bo\", label=\"Training loss\")\n",
        "plt.plot(epochs, val_loss_values, \"b\", label=\"Validation loss\")\n",
        "plt.title(\"Training and validation loss\")\n",
        "plt.xlabel(\"Epochs\")\n",
        "plt.ylabel(\"Loss\")\n",
        "plt.legend()\n",
        "plt.show()"
      ],
      "metadata": {
        "colab": {
          "base_uri": "https://localhost:8080/",
          "height": 295
        },
        "id": "Y2K-TrfaNYhI",
        "outputId": "a0ae641c-4a98-401a-ed87-6dad8edb9cb3"
      },
      "execution_count": null,
      "outputs": [
        {
          "output_type": "display_data",
          "data": {
            "image/png": "[encoded data removed]",
            "text/plain": [
              "<Figure size 432x288 with 1 Axes>"
            ]
          },
          "metadata": {
            "needs_background": "light"
          }
        }
      ]
    },
    {
      "cell_type": "code",
      "source": [
        "# Plotting the training and validation accuracy\n",
        "plt.clf()\n",
        "acc = history_dict_mse[\"accuracy\"]\n",
        "val_acc = history_dict_mse[\"val_accuracy\"]\n",
        "plt.plot(epochs, acc, \"bo\", label=\"Training acc\")\n",
        "plt.plot(epochs, val_acc, \"b\", label=\"Validation acc\")\n",
        "plt.title(\"Training and validation accuracy\")\n",
        "plt.xlabel(\"Epochs\")\n",
        "plt.ylabel(\"Accuracy\")\n",
        "plt.legend()\n",
        "plt.show()"
      ],
      "metadata": {
        "colab": {
          "base_uri": "https://localhost:8080/",
          "height": 295
        },
        "id": "Zai-SVhKNYj-",
        "outputId": "a0421b10-bdf2-4484-fcaa-6dd8f7818201"
      },
      "execution_count": null,
      "outputs": [
        {
          "output_type": "display_data",
          "data": {
            "image/png": "[encoded data removed]",
            "text/plain": [
              "<Figure size 432x288 with 1 Axes>"
            ]
          },
          "metadata": {
            "needs_background": "light"
          }
        }
      ]
    },
    {
      "cell_type": "markdown",
      "source": [
        "At fourth epoch point the validation loss is minimum and accuracy is decreasing at the fourth epoch point. This is Overfitting. To prevent overfitting, we can stop training after the fourth epoch and then we need to train a new network from scratch for those 4 ephocs inorder to evaluate it in our test data."
      ],
      "metadata": {
        "id": "zeWw3mlLNhef"
      }
    },
    {
      "cell_type": "code",
      "source": [
        "model_Tmse = models.Sequential()\n",
        "model_Tmse.add(layers.Dense(16, activation='relu', input_shape=(10000,)))\n",
        "model_Tmse.add(layers.Dense(16, activation='relu'))\n",
        "model_Tmse.add(layers.Dense(1, activation='sigmoid'))\n",
        "model_Tmse.compile(optimizer='rmsprop',\n",
        "loss='mse',\n",
        "metrics=['accuracy'])\n",
        "model_Tmse.fit(x_train, y_train, epochs=4, batch_size=512)\n",
        "results3 = model_Tmse.evaluate(x_test, y_test)\n"
      ],
      "metadata": {
        "colab": {
          "base_uri": "https://localhost:8080/"
        },
        "id": "0Eq-87w6NYng",
        "outputId": "625165cf-56ec-4ca9-910e-2c877b181389"
      },
      "execution_count": null,
      "outputs": [
        {
          "output_type": "stream",
          "name": "stdout",
          "text": [
            "Epoch 1/4\n",
            "49/49 [==============================] - 2s 27ms/step - loss: 0.1524 - accuracy: 0.8154\n",
            "Epoch 2/4\n",
            "49/49 [==============================] - 1s 27ms/step - loss: 0.0779 - accuracy: 0.9098\n",
            "Epoch 3/4\n",
            "49/49 [==============================] - 1s 26ms/step - loss: 0.0593 - accuracy: 0.9296\n",
            "Epoch 4/4\n",
            "49/49 [==============================] - 1s 26ms/step - loss: 0.0474 - accuracy: 0.9452\n",
            "782/782 [==============================] - 2s 2ms/step - loss: 0.0866 - accuracy: 0.8829\n"
          ]
        }
      ]
    },
    {
      "cell_type": "code",
      "source": [
        "print(results3)"
      ],
      "metadata": {
        "colab": {
          "base_uri": "https://localhost:8080/"
        },
        "id": "UpbgPkiONkrX",
        "outputId": "16d83aad-d6b3-4186-8160-db580c06ca3d"
      },
      "execution_count": null,
      "outputs": [
        {
          "output_type": "stream",
          "name": "stdout",
          "text": [
            "[0.08661215007305145, 0.8829200267791748]\n"
          ]
        }
      ]
    },
    {
      "cell_type": "markdown",
      "source": [
        "We have seen a slight increase in the test accuracy when used mse loss function."
      ],
      "metadata": {
        "id": "4R61B3lHNnO5"
      }
    },
    {
      "cell_type": "markdown",
      "source": [
        "4. Try using the tanh activation (an activation that was popular in the early days of neural networks) instead of relu.\n"
      ],
      "metadata": {
        "id": "5ko592KdnFwJ"
      }
    },
    {
      "cell_type": "code",
      "source": [
        "model_tanh = keras.Sequential([\n",
        "    layers.Dense(16, activation=\"tanh\"),\n",
        "    layers.Dense(16, activation=\"tanh\"),\n",
        "    layers.Dense(1, activation=\"sigmoid\")\n",
        "    ])\n",
        "model_tanh.compile(optimizer=\"rmsprop\",\n",
        "              loss=\"mse\",\n",
        "              metrics=[\"accuracy\"])"
      ],
      "metadata": {
        "id": "RMZZ2zbDJ6Z2"
      },
      "execution_count": null,
      "outputs": []
    },
    {
      "cell_type": "code",
      "source": [
        "history_tanh = model_tanh.fit(partial_x_train,\n",
        "                    partial_y_train,\n",
        "                    epochs=20,\n",
        "                    batch_size=512,\n",
        "                    validation_data=(x_val, y_val))"
      ],
      "metadata": {
        "colab": {
          "base_uri": "https://localhost:8080/"
        },
        "id": "iHgn7-n2J6c_",
        "outputId": "7eeaf2fa-00d8-40b0-c27e-cee3425d5bd8"
      },
      "execution_count": null,
      "outputs": [
        {
          "output_type": "stream",
          "name": "stdout",
          "text": [
            "Epoch 1/20\n",
            "30/30 [==============================] - 2s 43ms/step - loss: 0.1586 - accuracy: 0.7899 - val_loss: 0.1069 - val_accuracy: 0.8801\n",
            "Epoch 2/20\n",
            "30/30 [==============================] - 1s 34ms/step - loss: 0.0811 - accuracy: 0.9080 - val_loss: 0.0974 - val_accuracy: 0.8692\n",
            "Epoch 3/20\n",
            "30/30 [==============================] - 1s 34ms/step - loss: 0.0550 - accuracy: 0.9364 - val_loss: 0.0825 - val_accuracy: 0.8901\n",
            "Epoch 4/20\n",
            "30/30 [==============================] - 1s 34ms/step - loss: 0.0421 - accuracy: 0.9519 - val_loss: 0.0826 - val_accuracy: 0.8898\n",
            "Epoch 5/20\n",
            "30/30 [==============================] - 1s 37ms/step - loss: 0.0323 - accuracy: 0.9623 - val_loss: 0.0869 - val_accuracy: 0.8830\n",
            "Epoch 6/20\n",
            "30/30 [==============================] - 1s 33ms/step - loss: 0.0241 - accuracy: 0.9727 - val_loss: 0.0951 - val_accuracy: 0.8764\n",
            "Epoch 7/20\n",
            "30/30 [==============================] - 1s 34ms/step - loss: 0.0197 - accuracy: 0.9783 - val_loss: 0.1123 - val_accuracy: 0.8576\n",
            "Epoch 8/20\n",
            "30/30 [==============================] - 1s 33ms/step - loss: 0.0152 - accuracy: 0.9841 - val_loss: 0.1000 - val_accuracy: 0.8755\n",
            "Epoch 9/20\n",
            "30/30 [==============================] - 1s 34ms/step - loss: 0.0130 - accuracy: 0.9863 - val_loss: 0.1033 - val_accuracy: 0.8719\n",
            "Epoch 10/20\n",
            "30/30 [==============================] - 1s 34ms/step - loss: 0.0113 - accuracy: 0.9877 - val_loss: 0.1064 - val_accuracy: 0.8707\n",
            "Epoch 11/20\n",
            "30/30 [==============================] - 1s 34ms/step - loss: 0.0091 - accuracy: 0.9903 - val_loss: 0.1081 - val_accuracy: 0.8713\n",
            "Epoch 12/20\n",
            "30/30 [==============================] - 1s 33ms/step - loss: 0.0062 - accuracy: 0.9941 - val_loss: 0.1358 - val_accuracy: 0.8455\n",
            "Epoch 13/20\n",
            "30/30 [==============================] - 1s 33ms/step - loss: 0.0082 - accuracy: 0.9912 - val_loss: 0.1149 - val_accuracy: 0.8653\n",
            "Epoch 14/20\n",
            "30/30 [==============================] - 1s 34ms/step - loss: 0.0093 - accuracy: 0.9895 - val_loss: 0.1149 - val_accuracy: 0.8677\n",
            "Epoch 15/20\n",
            "30/30 [==============================] - 1s 34ms/step - loss: 0.0044 - accuracy: 0.9957 - val_loss: 0.1166 - val_accuracy: 0.8663\n",
            "Epoch 16/20\n",
            "30/30 [==============================] - 1s 33ms/step - loss: 0.0050 - accuracy: 0.9950 - val_loss: 0.1388 - val_accuracy: 0.8457\n",
            "Epoch 17/20\n",
            "30/30 [==============================] - 1s 34ms/step - loss: 0.0050 - accuracy: 0.9951 - val_loss: 0.1189 - val_accuracy: 0.8657\n",
            "Epoch 18/20\n",
            "30/30 [==============================] - 1s 34ms/step - loss: 0.0040 - accuracy: 0.9960 - val_loss: 0.1205 - val_accuracy: 0.8630\n",
            "Epoch 19/20\n",
            "30/30 [==============================] - 1s 33ms/step - loss: 0.0085 - accuracy: 0.9901 - val_loss: 0.1212 - val_accuracy: 0.8635\n",
            "Epoch 20/20\n",
            "30/30 [==============================] - 1s 32ms/step - loss: 0.0037 - accuracy: 0.9963 - val_loss: 0.1220 - val_accuracy: 0.8635\n"
          ]
        }
      ]
    },
    {
      "cell_type": "code",
      "source": [
        "history_dict_tanh = history_tanh.history\n",
        "loss_values = history_dict_tanh[\"loss\"]\n",
        "val_loss_values = history_dict_tanh[\"val_loss\"]\n",
        "epochs = range(1, len(loss_values) + 1)\n",
        "plt.plot(epochs, loss_values, \"bo\", label=\"Training loss\")\n",
        "plt.plot(epochs, val_loss_values, \"b\", label=\"Validation loss\")\n",
        "plt.title(\"Training and validation loss\")\n",
        "plt.xlabel(\"Epochs\")\n",
        "plt.ylabel(\"Loss\")\n",
        "plt.legend()\n",
        "plt.show()"
      ],
      "metadata": {
        "colab": {
          "base_uri": "https://localhost:8080/",
          "height": 295
        },
        "id": "GbTSb3eIJ6gK",
        "outputId": "7a8e13e5-c83d-49e2-f111-925805f59410"
      },
      "execution_count": null,
      "outputs": [
        {
          "output_type": "display_data",
          "data": {
            "image/png": "[encoded data removed]",
            "text/plain": [
              "<Figure size 432x288 with 1 Axes>"
            ]
          },
          "metadata": {
            "needs_background": "light"
          }
        }
      ]
    },
    {
      "cell_type": "code",
      "source": [
        "# Plotting the training and validation accuracy\n",
        "plt.clf()\n",
        "acc = history_dict_tanh[\"accuracy\"]\n",
        "val_acc = history_dict_tanh[\"val_accuracy\"]\n",
        "plt.plot(epochs, acc, \"bo\", label=\"Training acc\")\n",
        "plt.plot(epochs, val_acc, \"b\", label=\"Validation acc\")\n",
        "plt.title(\"Training and validation accuracy\")\n",
        "plt.xlabel(\"Epochs\")\n",
        "plt.ylabel(\"Accuracy\")\n",
        "plt.legend()\n",
        "plt.show()"
      ],
      "metadata": {
        "colab": {
          "base_uri": "https://localhost:8080/",
          "height": 295
        },
        "id": "o87jqSanNv3l",
        "outputId": "b5a7a1d7-65ce-4008-b4ab-62ae8c224cce"
      },
      "execution_count": null,
      "outputs": [
        {
          "output_type": "display_data",
          "data": {
            "image/png": "[encoded data removed]",
            "text/plain": [
              "<Figure size 432x288 with 1 Axes>"
            ]
          },
          "metadata": {
            "needs_background": "light"
          }
        }
      ]
    },
    {
      "cell_type": "markdown",
      "source": [
        "At third epoch point the validation loss is minimum and accuracy is decreasing at the third epoch point. This is Overfitting. To prevent overfitting, we can stop training after the third epoch and then we need to train a new network from scratch for those 3 ephocs inorder to evaluate it in our test data."
      ],
      "metadata": {
        "id": "FKFs0A6FN2nK"
      }
    },
    {
      "cell_type": "code",
      "source": [
        "model_Ttanh = models.Sequential()\n",
        "model_Ttanh.add(layers.Dense(16, activation='tanh', input_shape=(10000,)))\n",
        "model_Ttanh.add(layers.Dense(16, activation='tanh'))\n",
        "model_Ttanh.add(layers.Dense(1, activation='sigmoid'))\n",
        "model_Ttanh.compile(optimizer='rmsprop',\n",
        "loss='binary_crossentropy',\n",
        "metrics=['accuracy'])\n",
        "model_Ttanh.fit(x_train, y_train, epochs=3, batch_size=512)\n",
        "results4 = model_Ttanh.evaluate(x_test, y_test)"
      ],
      "metadata": {
        "colab": {
          "base_uri": "https://localhost:8080/"
        },
        "id": "V9InlaXaNv6b",
        "outputId": "a7249821-2e08-494e-a88e-a93185b61036"
      },
      "execution_count": null,
      "outputs": [
        {
          "output_type": "stream",
          "name": "stdout",
          "text": [
            "Epoch 1/3\n",
            "49/49 [==============================] - 2s 28ms/step - loss: 0.4318 - accuracy: 0.8271\n",
            "Epoch 2/3\n",
            "49/49 [==============================] - 1s 26ms/step - loss: 0.2386 - accuracy: 0.9155\n",
            "Epoch 3/3\n",
            "49/49 [==============================] - 1s 26ms/step - loss: 0.1798 - accuracy: 0.9346\n",
            "782/782 [==============================] - 2s 2ms/step - loss: 0.2974 - accuracy: 0.8815\n"
          ]
        }
      ]
    },
    {
      "cell_type": "code",
      "source": [
        "print(results4)"
      ],
      "metadata": {
        "colab": {
          "base_uri": "https://localhost:8080/"
        },
        "id": "i4icveB8Nv96",
        "outputId": "c6f88227-a835-481b-be66-e240be6bb015"
      },
      "execution_count": null,
      "outputs": [
        {
          "output_type": "stream",
          "name": "stdout",
          "text": [
            "[0.29738688468933105, 0.8814799785614014]\n"
          ]
        }
      ]
    },
    {
      "cell_type": "markdown",
      "source": [
        "We have seen a slight increase in the test accuracy when used tanh activation."
      ],
      "metadata": {
        "id": "1vDayYUVN9W7"
      }
    },
    {
      "cell_type": "markdown",
      "source": [
        "5. Use any technique we studied in class, and these include regularization, dropout, etc., to get your model to perform better on validation."
      ],
      "metadata": {
        "id": "acjIrm64J66r"
      }
    },
    {
      "cell_type": "code",
      "source": [
        "from keras import models\n",
        "from keras import layers\n",
        "model_D = models.Sequential()\n",
        "model_D.add(layers.Dense(16, activation='relu', input_shape=(10000,)))\n",
        "model_D.add(layers.Dropout(0.3))\n",
        "model_D.add(layers.Dense(16, activation='relu'))\n",
        "model_D.add(layers.Dropout(0.3))\n",
        "model_D.add(layers.Dense(1, activation='sigmoid'))"
      ],
      "metadata": {
        "id": "KWNiSPxLN-nE"
      },
      "execution_count": null,
      "outputs": []
    },
    {
      "cell_type": "code",
      "source": [
        "model_D.compile(optimizer=\"rmsprop\",\n",
        "              loss=\"binary_crossentropy\",\n",
        "              metrics=[\"accuracy\"])"
      ],
      "metadata": {
        "id": "NRHBph63N-p9"
      },
      "execution_count": null,
      "outputs": []
    },
    {
      "cell_type": "code",
      "source": [
        "history_D = model_D.fit(partial_x_train,\n",
        "                    partial_y_train,\n",
        "                    epochs=20,\n",
        "                    batch_size=512,\n",
        "                    validation_data=(x_val, y_val))"
      ],
      "metadata": {
        "colab": {
          "base_uri": "https://localhost:8080/"
        },
        "id": "gvqf-qUAN-tX",
        "outputId": "e0feccbe-2569-4a4b-9520-69261fbaf198"
      },
      "execution_count": null,
      "outputs": [
        {
          "output_type": "stream",
          "name": "stdout",
          "text": [
            "Epoch 1/20\n",
            "30/30 [==============================] - 2s 44ms/step - loss: 0.5933 - accuracy: 0.6887 - val_loss: 0.4514 - val_accuracy: 0.8541\n",
            "Epoch 2/20\n",
            "30/30 [==============================] - 1s 36ms/step - loss: 0.4283 - accuracy: 0.8334 - val_loss: 0.3514 - val_accuracy: 0.8785\n",
            "Epoch 3/20\n",
            "30/30 [==============================] - 1s 35ms/step - loss: 0.3333 - accuracy: 0.8829 - val_loss: 0.2931 - val_accuracy: 0.8888\n",
            "Epoch 4/20\n",
            "30/30 [==============================] - 1s 36ms/step - loss: 0.2721 - accuracy: 0.9098 - val_loss: 0.2759 - val_accuracy: 0.8910\n",
            "Epoch 5/20\n",
            "30/30 [==============================] - 1s 36ms/step - loss: 0.2259 - accuracy: 0.9295 - val_loss: 0.2694 - val_accuracy: 0.8920\n",
            "Epoch 6/20\n",
            "30/30 [==============================] - 1s 38ms/step - loss: 0.1878 - accuracy: 0.9402 - val_loss: 0.2883 - val_accuracy: 0.8877\n",
            "Epoch 7/20\n",
            "30/30 [==============================] - 1s 36ms/step - loss: 0.1572 - accuracy: 0.9522 - val_loss: 0.2981 - val_accuracy: 0.8873\n",
            "Epoch 8/20\n",
            "30/30 [==============================] - 1s 38ms/step - loss: 0.1313 - accuracy: 0.9609 - val_loss: 0.3034 - val_accuracy: 0.8873\n",
            "Epoch 9/20\n",
            "30/30 [==============================] - 1s 38ms/step - loss: 0.1068 - accuracy: 0.9689 - val_loss: 0.3193 - val_accuracy: 0.8868\n",
            "Epoch 10/20\n",
            "30/30 [==============================] - 1s 34ms/step - loss: 0.0926 - accuracy: 0.9736 - val_loss: 0.3723 - val_accuracy: 0.8814\n",
            "Epoch 11/20\n",
            "30/30 [==============================] - 1s 36ms/step - loss: 0.0754 - accuracy: 0.9784 - val_loss: 0.3815 - val_accuracy: 0.8847\n",
            "Epoch 12/20\n",
            "30/30 [==============================] - 1s 35ms/step - loss: 0.0638 - accuracy: 0.9821 - val_loss: 0.3998 - val_accuracy: 0.8854\n",
            "Epoch 13/20\n",
            "30/30 [==============================] - 1s 35ms/step - loss: 0.0533 - accuracy: 0.9854 - val_loss: 0.4426 - val_accuracy: 0.8829\n",
            "Epoch 14/20\n",
            "30/30 [==============================] - 3s 92ms/step - loss: 0.0430 - accuracy: 0.9888 - val_loss: 0.4937 - val_accuracy: 0.8822\n",
            "Epoch 15/20\n",
            "30/30 [==============================] - 1s 35ms/step - loss: 0.0381 - accuracy: 0.9893 - val_loss: 0.5175 - val_accuracy: 0.8816\n",
            "Epoch 16/20\n",
            "30/30 [==============================] - 1s 35ms/step - loss: 0.0283 - accuracy: 0.9927 - val_loss: 0.5720 - val_accuracy: 0.8785\n",
            "Epoch 17/20\n",
            "30/30 [==============================] - 1s 35ms/step - loss: 0.0293 - accuracy: 0.9928 - val_loss: 0.5989 - val_accuracy: 0.8810\n",
            "Epoch 18/20\n",
            "30/30 [==============================] - 1s 35ms/step - loss: 0.0247 - accuracy: 0.9929 - val_loss: 0.6507 - val_accuracy: 0.8795\n",
            "Epoch 19/20\n",
            "30/30 [==============================] - 1s 36ms/step - loss: 0.0227 - accuracy: 0.9946 - val_loss: 0.6778 - val_accuracy: 0.8780\n",
            "Epoch 20/20\n",
            "30/30 [==============================] - 1s 34ms/step - loss: 0.0176 - accuracy: 0.9955 - val_loss: 0.7213 - val_accuracy: 0.8767\n"
          ]
        }
      ]
    },
    {
      "cell_type": "code",
      "source": [
        "# Plot the training and validation loss\n",
        "history_dict_D = history_D.history\n",
        "val_loss_values = history_dict_D[\"val_loss\"]\n",
        "epochs = range(1, len(val_loss_values) + 1)\n",
        "plt.plot(epochs, val_loss_values, \"b\", label=\"Dropout Model Val loss\")\n",
        "plt.plot(epochs, history_dict[\"val_loss\"], \"bo\", label=\"Base Model Val loss\")\n",
        "plt.title(\"Validation loss\")\n",
        "plt.xlabel(\"Epochs\")\n",
        "plt.ylabel(\"Loss\")\n",
        "plt.legend()\n",
        "plt.show()"
      ],
      "metadata": {
        "colab": {
          "base_uri": "https://localhost:8080/",
          "height": 295
        },
        "id": "7PqdOl99N-_D",
        "outputId": "b4d7bb76-43dc-4aab-9781-ae3692abd63c"
      },
      "execution_count": null,
      "outputs": [
        {
          "output_type": "display_data",
          "data": {
            "image/png": "[encoded data removed]",
            "text/plain": [
              "<Figure size 432x288 with 1 Axes>"
            ]
          },
          "metadata": {
            "needs_background": "light"
          }
        }
      ]
    },
    {
      "cell_type": "code",
      "source": [
        "# Plot the training and validation accuracy\n",
        "plt.clf()\n",
        "\n",
        "history_dict_D = history_D.history\n",
        "val_acc = history_dict_D[\"val_accuracy\"]\n",
        "plt.plot(epochs, val_acc, \"b\", label=\"Dropout Model Val accuracy\")\n",
        "plt.plot(epochs, history_dict[\"val_accuracy\"], \"g\", label=\"Base Model Val accuracy\")\n",
        "plt.title(\"Validation accuracy\")\n",
        "plt.xlabel(\"Epochs\")\n",
        "plt.ylabel(\"Accuracy\")\n",
        "plt.legend()\n",
        "plt.show()"
      ],
      "metadata": {
        "colab": {
          "base_uri": "https://localhost:8080/",
          "height": 295
        },
        "id": "1tdWjQbqON2r",
        "outputId": "83218d4d-eabb-4b8b-f6fa-b4f8d1d07003"
      },
      "execution_count": null,
      "outputs": [
        {
          "output_type": "display_data",
          "data": {
            "image/png": "[encoded data removed]",
            "text/plain": [
              "<Figure size 432x288 with 1 Axes>"
            ]
          },
          "metadata": {
            "needs_background": "light"
          }
        }
      ]
    },
    {
      "cell_type": "markdown",
      "source": [
        "Dropout regularization is a technique to prevent neural networks from overfitting. Dropout works by randomly disabling neurons and their corresponding connections. This prevents the network from relying too much on single neurons and forces all neurons to learn to generalize better resulting in increasing the performance of the network and prevents overfitting."
      ],
      "metadata": {
        "id": "cgynyIfXOZ66"
      }
    }
  ]
}