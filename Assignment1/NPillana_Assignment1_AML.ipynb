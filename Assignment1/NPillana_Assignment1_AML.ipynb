{
  "nbformat": 4,
  "nbformat_minor": 0,
  "metadata": {
    "colab": {
      "name": "Ass1_AML_1.ipynb",
      "provenance": [],
      "collapsed_sections": []
    },
    "kernelspec": {
      "name": "python3",
      "display_name": "Python 3"
    },
    "language_info": {
      "name": "python"
    }
  },
  "cells": [
    {
      "cell_type": "code",
      "execution_count": 2,
      "metadata": {
        "id": "hAI45p7iIzRx"
      },
      "outputs": [],
      "source": [
        "#Importing the required modules\n",
        "import numpy as np\n",
        "import keras\n",
        "import matplotlib \n",
        "import matplotlib.pyplot as plt\n",
        "from keras import models\n",
        "from keras import layers"
      ]
    },
    {
      "cell_type": "code",
      "source": [
        "from keras.datasets import imdb\n",
        "\n",
        "(train_data, train_labels), (test_data, test_labels) = imdb.load_data(num_words=10000)"
      ],
      "metadata": {
        "id": "8pr7BCuYAykJ"
      },
      "execution_count": 3,
      "outputs": []
    },
    {
      "cell_type": "markdown",
      "source": [
        "We have vectorize dataset by creating all-zero matrix."
      ],
      "metadata": {
        "id": "k_NdORnjwfo6"
      }
    },
    {
      "cell_type": "code",
      "source": [
        "max([max(sequence) for sequence in train_data])"
      ],
      "metadata": {
        "colab": {
          "base_uri": "https://localhost:8080/"
        },
        "id": "snP-Tzf2A27g",
        "outputId": "8b53f2d3-4d39-4e9d-fa26-00420e6b4f8d"
      },
      "execution_count": 4,
      "outputs": [
        {
          "output_type": "execute_result",
          "data": {
            "text/plain": [
              "9999"
            ]
          },
          "metadata": {},
          "execution_count": 4
        }
      ]
    },
    {
      "cell_type": "code",
      "source": [
        "#Decoding the integer sequences back into sentences\n",
        "#mapping words to an integer index\n",
        "word_index = imdb.get_word_index()\n",
        "# We reverse it, mapping integer indices to words\n",
        "reverse_word_index = dict([(value, key) for (key, value) in word_index.items()])\n",
        "# We decode the review; note that our indices were offset by 3\n",
        "# because 0, 1 and 2 are reserved indices for \"padding\", \"start of sequence\", and \"unknown\".\n",
        "decoded_review = ' '.join([reverse_word_index.get(i - 3, '?') for i in train_data[0]])\n",
        "print(decoded_review)"
      ],
      "metadata": {
        "colab": {
          "base_uri": "https://localhost:8080/"
        },
        "id": "-ft4nmn6B6IY",
        "outputId": "90605033-e1d0-4cbf-a637-874dd02963f0"
      },
      "execution_count": 5,
      "outputs": [
        {
          "output_type": "stream",
          "name": "stdout",
          "text": [
            "? this film was just brilliant casting location scenery story direction everyone's really suited the part they played and you could just imagine being there robert ? is an amazing actor and now the same being director ? father came from the same scottish island as myself so i loved the fact there was a real connection with this film the witty remarks throughout the film were great it was just brilliant so much that i bought the film as soon as it was released for ? and would recommend it to everyone to watch and the fly fishing was amazing really cried at the end it was so sad and you know what they say if you cry at a film it must have been good and this definitely was also ? to the two little boy's that played the ? of norman and paul they were just brilliant children are often left out of the ? list i think because the stars that play them all grown up are such a big profile for the whole film but these children are amazing and should be praised for what they have done don't you think the whole story was so lovely because it was true and was someone's life after all that was shared with us all\n"
          ]
        }
      ]
    },
    {
      "cell_type": "code",
      "source": [
        "# Data Preparation\n",
        "\n",
        "def vectorize_sequences(sequences, dimension=10000):\n",
        "    # Create an all-zero matrix of shape (len(sequences), dimension)\n",
        "    results = np.zeros((len(sequences), dimension))\n",
        "    for i, sequence in enumerate(sequences):\n",
        "        results[i, sequence] = 1.  # set specific indices of results[i] to 1s\n",
        "    return results\n",
        "\n",
        "# Our vectorized training data\n",
        "x_train = vectorize_sequences(train_data)\n",
        "# Our vectorized test data\n",
        "x_test = vectorize_sequences(test_data)\n",
        "\n",
        "#Encoding the labels\n",
        "# Our vectorized labels\n",
        "y_train = np.asarray(train_labels).astype('float32')\n",
        "y_test = np.asarray(test_labels).astype('float32')"
      ],
      "metadata": {
        "id": "uz_6uIiLCY8a"
      },
      "execution_count": 6,
      "outputs": []
    },
    {
      "cell_type": "markdown",
      "source": [
        ""
      ],
      "metadata": {
        "id": "sKPGiHzCxAXP"
      }
    },
    {
      "cell_type": "code",
      "source": [
        "#Reference Base Model creation\n",
        "model = models.Sequential()\n",
        "model.add(layers.Dense(16, activation='relu', input_shape=(10000,)))\n",
        "model.add(layers.Dense(16, activation='relu'))\n",
        "model.add(layers.Dense(1, activation='sigmoid'))"
      ],
      "metadata": {
        "id": "bvDtbYYNH_aG"
      },
      "execution_count": 7,
      "outputs": []
    },
    {
      "cell_type": "markdown",
      "source": [
        "Now we will define the model"
      ],
      "metadata": {
        "id": "JrQQIuHCxHmW"
      }
    },
    {
      "cell_type": "code",
      "source": [
        "#Model compilation\n",
        "\n",
        "model.compile(optimizer='rmsprop',\n",
        "loss='binary_crossentropy',\n",
        "metrics=['accuracy'])"
      ],
      "metadata": {
        "id": "91JBiXmaH_ny"
      },
      "execution_count": 8,
      "outputs": []
    },
    {
      "cell_type": "code",
      "source": [
        "#Setting aside a validation set\n",
        "\n",
        "x_val = x_train[:10000]\n",
        "partial_x_train = x_train[10000:]\n",
        "y_val = y_train[:10000]\n",
        "partial_y_train = y_train[10000:]"
      ],
      "metadata": {
        "id": "FfGxTgkAH_rK"
      },
      "execution_count": 9,
      "outputs": []
    },
    {
      "cell_type": "code",
      "source": [
        "#Training the model\n",
        "\n",
        "history = model.fit(partial_x_train,\n",
        "    partial_y_train,\n",
        "    epochs=20,\n",
        "    batch_size=512,\n",
        "    validation_data=(x_val, y_val))\n",
        "\n",
        "history_dict = history.history\n",
        "print(history_dict.keys())"
      ],
      "metadata": {
        "colab": {
          "base_uri": "https://localhost:8080/"
        },
        "id": "3r5uMghQH_uk",
        "outputId": "891e071e-7b11-4ca5-d145-2da2f0be5a7b"
      },
      "execution_count": 10,
      "outputs": [
        {
          "output_type": "stream",
          "name": "stdout",
          "text": [
            "Epoch 1/20\n",
            "30/30 [==============================] - 2s 48ms/step - loss: 0.5075 - accuracy: 0.7813 - val_loss: 0.3910 - val_accuracy: 0.8539\n",
            "Epoch 2/20\n",
            "30/30 [==============================] - 1s 36ms/step - loss: 0.2953 - accuracy: 0.9059 - val_loss: 0.3075 - val_accuracy: 0.8822\n",
            "Epoch 3/20\n",
            "30/30 [==============================] - 1s 36ms/step - loss: 0.2194 - accuracy: 0.9263 - val_loss: 0.2864 - val_accuracy: 0.8867\n",
            "Epoch 4/20\n",
            "30/30 [==============================] - 1s 39ms/step - loss: 0.1743 - accuracy: 0.9439 - val_loss: 0.2744 - val_accuracy: 0.8906\n",
            "Epoch 5/20\n",
            "30/30 [==============================] - 1s 36ms/step - loss: 0.1419 - accuracy: 0.9545 - val_loss: 0.2866 - val_accuracy: 0.8879\n",
            "Epoch 6/20\n",
            "30/30 [==============================] - 1s 35ms/step - loss: 0.1183 - accuracy: 0.9649 - val_loss: 0.2934 - val_accuracy: 0.8864\n",
            "Epoch 7/20\n",
            "30/30 [==============================] - 1s 36ms/step - loss: 0.0977 - accuracy: 0.9707 - val_loss: 0.3189 - val_accuracy: 0.8835\n",
            "Epoch 8/20\n",
            "30/30 [==============================] - 1s 36ms/step - loss: 0.0822 - accuracy: 0.9773 - val_loss: 0.3391 - val_accuracy: 0.8766\n",
            "Epoch 9/20\n",
            "30/30 [==============================] - 1s 36ms/step - loss: 0.0680 - accuracy: 0.9814 - val_loss: 0.3548 - val_accuracy: 0.8787\n",
            "Epoch 10/20\n",
            "30/30 [==============================] - 2s 55ms/step - loss: 0.0566 - accuracy: 0.9849 - val_loss: 0.3805 - val_accuracy: 0.8778\n",
            "Epoch 11/20\n",
            "30/30 [==============================] - 1s 50ms/step - loss: 0.0449 - accuracy: 0.9896 - val_loss: 0.4083 - val_accuracy: 0.8746\n",
            "Epoch 12/20\n",
            "30/30 [==============================] - 2s 50ms/step - loss: 0.0378 - accuracy: 0.9921 - val_loss: 0.4902 - val_accuracy: 0.8618\n",
            "Epoch 13/20\n",
            "30/30 [==============================] - 1s 36ms/step - loss: 0.0297 - accuracy: 0.9940 - val_loss: 0.4973 - val_accuracy: 0.8692\n",
            "Epoch 14/20\n",
            "30/30 [==============================] - 1s 35ms/step - loss: 0.0249 - accuracy: 0.9954 - val_loss: 0.5006 - val_accuracy: 0.8708\n",
            "Epoch 15/20\n",
            "30/30 [==============================] - 1s 37ms/step - loss: 0.0201 - accuracy: 0.9971 - val_loss: 0.5351 - val_accuracy: 0.8674\n",
            "Epoch 16/20\n",
            "30/30 [==============================] - 1s 36ms/step - loss: 0.0170 - accuracy: 0.9969 - val_loss: 0.5817 - val_accuracy: 0.8671\n",
            "Epoch 17/20\n",
            "30/30 [==============================] - 1s 36ms/step - loss: 0.0147 - accuracy: 0.9975 - val_loss: 0.6114 - val_accuracy: 0.8625\n",
            "Epoch 18/20\n",
            "30/30 [==============================] - 1s 36ms/step - loss: 0.0114 - accuracy: 0.9983 - val_loss: 0.6378 - val_accuracy: 0.8640\n",
            "Epoch 19/20\n",
            "30/30 [==============================] - 1s 35ms/step - loss: 0.0060 - accuracy: 0.9998 - val_loss: 0.6725 - val_accuracy: 0.8629\n",
            "Epoch 20/20\n",
            "30/30 [==============================] - 1s 36ms/step - loss: 0.0073 - accuracy: 0.9993 - val_loss: 0.7277 - val_accuracy: 0.8584\n",
            "dict_keys(['loss', 'accuracy', 'val_loss', 'val_accuracy'])\n"
          ]
        }
      ]
    },
    {
      "cell_type": "code",
      "source": [
        "#Plot the training and validation loss\n",
        "\n",
        "loss = history.history['loss']\n",
        "val_loss = history.history['val_loss']\n",
        "epochs = range(1, len(val_loss) + 1)\n",
        "plt.plot(epochs, loss, 'bo', label='Training loss')\n",
        "plt.plot(epochs, val_loss, 'b', label='Validation loss')\n",
        "plt.title('Training and validation loss')\n",
        "plt.xlabel('Epochs')\n",
        "plt.ylabel('Loss')\n",
        "plt.legend()\n",
        "plt.show()"
      ],
      "metadata": {
        "colab": {
          "base_uri": "https://localhost:8080/",
          "height": 295
        },
        "id": "bhvEp3iiI3p6",
        "outputId": "e7f0a18d-89e9-485d-aad1-82e7f47ef333"
      },
      "execution_count": 11,
      "outputs": [
        {
          "output_type": "display_data",
          "data": {
            "image/png": "[encoded data removed]",
            "text/plain": [
              "<Figure size 432x288 with 1 Axes>"
            ]
          },
          "metadata": {
            "needs_background": "light"
          }
        }
      ]
    },
    {
      "cell_type": "code",
      "source": [
        "#Plot the training and validation accuracy\n",
        "\n",
        "plt.clf() \n",
        "acc = history.history['accuracy']\n",
        "val_acc = history.history['val_accuracy']\n",
        "plt.plot(epochs, acc, 'bo', label='Training acc')\n",
        "plt.plot(epochs, val_acc, 'b', label='Validation acc')\n",
        "plt.title('Training and validation accuracy')\n",
        "plt.xlabel('Epochs')\n",
        "plt.ylabel('Accuracy')\n",
        "plt.legend()\n",
        "plt.show()"
      ],
      "metadata": {
        "colab": {
          "base_uri": "https://localhost:8080/",
          "height": 295
        },
        "id": "BG-r_Z7lI3tc",
        "outputId": "ecab8beb-57db-47fd-9caf-a9dfe1554209"
      },
      "execution_count": 12,
      "outputs": [
        {
          "output_type": "display_data",
          "data": {
            "image/png": "[encoded data removed]",
            "text/plain": [
              "<Figure size 432x288 with 1 Axes>"
            ]
          },
          "metadata": {
            "needs_background": "light"
          }
        }
      ]
    },
    {
      "cell_type": "code",
      "source": [
        "#Re-training the model from scratch\n",
        "\n",
        "model = models.Sequential()\n",
        "model.add(layers.Dense(16, activation='relu', input_shape=(10000,)))\n",
        "model.add(layers.Dense(16, activation='relu'))\n",
        "model.add(layers.Dense(1, activation='sigmoid'))\n",
        "model.compile(optimizer='rmsprop',\n",
        "loss='binary_crossentropy',\n",
        "metrics=['accuracy'])\n",
        "model.fit(x_train, y_train, epochs=5, batch_size=512)\n",
        "results = model.evaluate(x_test, y_test)"
      ],
      "metadata": {
        "colab": {
          "base_uri": "https://localhost:8080/"
        },
        "id": "h9MRHJBPI3x6",
        "outputId": "0ceb242f-88ab-49cb-fa99-9802b9ca010f"
      },
      "execution_count": 13,
      "outputs": [
        {
          "output_type": "stream",
          "name": "stdout",
          "text": [
            "Epoch 1/5\n",
            "49/49 [==============================] - 2s 28ms/step - loss: 0.4629 - accuracy: 0.8277\n",
            "Epoch 2/5\n",
            "49/49 [==============================] - 1s 28ms/step - loss: 0.2646 - accuracy: 0.9088\n",
            "Epoch 3/5\n",
            "49/49 [==============================] - 1s 28ms/step - loss: 0.2016 - accuracy: 0.9292\n",
            "Epoch 4/5\n",
            "49/49 [==============================] - 1s 28ms/step - loss: 0.1684 - accuracy: 0.9398\n",
            "Epoch 5/5\n",
            "49/49 [==============================] - 1s 28ms/step - loss: 0.1454 - accuracy: 0.9494\n",
            "782/782 [==============================] - 2s 2ms/step - loss: 0.3325 - accuracy: 0.8726\n"
          ]
        }
      ]
    },
    {
      "cell_type": "code",
      "source": [
        "print(results)"
      ],
      "metadata": {
        "colab": {
          "base_uri": "https://localhost:8080/"
        },
        "id": "ujqJEV8wI31H",
        "outputId": "b2a01be7-7ef7-494b-c79d-1ef0c126fca7"
      },
      "execution_count": 14,
      "outputs": [
        {
          "output_type": "stream",
          "name": "stdout",
          "text": [
            "[0.33247843384742737, 0.8726000189781189]\n"
          ]
        }
      ]
    },
    {
      "cell_type": "markdown",
      "source": [
        "1. You used two hidden layers. Try using one or three hidden layers, and see how doing so affects validation and test accuracy."
      ],
      "metadata": {
        "id": "siwYGL5jI6YZ"
      }
    },
    {
      "cell_type": "code",
      "source": [
        "#Using three hidden layers\n",
        "model_3L = keras.Sequential([\n",
        "    layers.Dense(16, activation=\"relu\"),\n",
        "    layers.Dense(16, activation=\"relu\"),\n",
        "    layers.Dense(16, activation=\"relu\"),\n",
        "    layers.Dense(1, activation=\"sigmoid\")\n",
        "])\n",
        "\n",
        "model_3L.compile(optimizer=\"rmsprop\",\n",
        "              loss=\"binary_crossentropy\",\n",
        "              metrics=[\"accuracy\"])\n",
        "\n",
        "# Training our model\n",
        "\n",
        "history_3L = model_3L.fit(partial_x_train,\n",
        "                    partial_y_train,\n",
        "                    epochs=20,\n",
        "                    batch_size=512,\n",
        "                    validation_data=(x_val, y_val))\n",
        "history__3L = history_3L.history\n",
        "history__3L.keys()\n",
        "model_3L.fit(partial_x_train, partial_y_train, epochs=4, batch_size=512)\n",
        "result_3L = model_3L.evaluate(x_val, y_val)\n",
        "result_3L"
      ],
      "metadata": {
        "colab": {
          "base_uri": "https://localhost:8080/"
        },
        "id": "nNgfwfAKJJTM",
        "outputId": "de2d786b-2aa2-4c63-a1dc-1f2866d5664c"
      },
      "execution_count": 15,
      "outputs": [
        {
          "output_type": "stream",
          "name": "stdout",
          "text": [
            "Epoch 1/20\n",
            "30/30 [==============================] - 2s 45ms/step - loss: 0.5348 - accuracy: 0.7896 - val_loss: 0.4163 - val_accuracy: 0.8534\n",
            "Epoch 2/20\n",
            "30/30 [==============================] - 1s 35ms/step - loss: 0.3158 - accuracy: 0.9033 - val_loss: 0.3044 - val_accuracy: 0.8873\n",
            "Epoch 3/20\n",
            "30/30 [==============================] - 1s 35ms/step - loss: 0.2237 - accuracy: 0.9291 - val_loss: 0.2825 - val_accuracy: 0.8896\n",
            "Epoch 4/20\n",
            "30/30 [==============================] - 1s 35ms/step - loss: 0.1718 - accuracy: 0.9429 - val_loss: 0.2723 - val_accuracy: 0.8895\n",
            "Epoch 5/20\n",
            "30/30 [==============================] - 1s 35ms/step - loss: 0.1372 - accuracy: 0.9556 - val_loss: 0.3110 - val_accuracy: 0.8811\n",
            "Epoch 6/20\n",
            "30/30 [==============================] - 1s 35ms/step - loss: 0.1144 - accuracy: 0.9623 - val_loss: 0.2985 - val_accuracy: 0.8856\n",
            "Epoch 7/20\n",
            "30/30 [==============================] - 1s 36ms/step - loss: 0.0940 - accuracy: 0.9701 - val_loss: 0.3319 - val_accuracy: 0.8820\n",
            "Epoch 8/20\n",
            "30/30 [==============================] - 1s 35ms/step - loss: 0.0761 - accuracy: 0.9776 - val_loss: 0.4055 - val_accuracy: 0.8690\n",
            "Epoch 9/20\n",
            "30/30 [==============================] - 1s 36ms/step - loss: 0.0660 - accuracy: 0.9797 - val_loss: 0.3979 - val_accuracy: 0.8715\n",
            "Epoch 10/20\n",
            "30/30 [==============================] - 1s 36ms/step - loss: 0.0507 - accuracy: 0.9867 - val_loss: 0.4151 - val_accuracy: 0.8750\n",
            "Epoch 11/20\n",
            "30/30 [==============================] - 1s 36ms/step - loss: 0.0429 - accuracy: 0.9885 - val_loss: 0.4449 - val_accuracy: 0.8713\n",
            "Epoch 12/20\n",
            "30/30 [==============================] - 1s 35ms/step - loss: 0.0359 - accuracy: 0.9909 - val_loss: 0.4679 - val_accuracy: 0.8750\n",
            "Epoch 13/20\n",
            "30/30 [==============================] - 1s 36ms/step - loss: 0.0282 - accuracy: 0.9931 - val_loss: 0.5001 - val_accuracy: 0.8722\n",
            "Epoch 14/20\n",
            "30/30 [==============================] - 1s 35ms/step - loss: 0.0194 - accuracy: 0.9966 - val_loss: 0.5921 - val_accuracy: 0.8634\n",
            "Epoch 15/20\n",
            "30/30 [==============================] - 1s 36ms/step - loss: 0.0159 - accuracy: 0.9976 - val_loss: 0.5985 - val_accuracy: 0.8691\n",
            "Epoch 16/20\n",
            "30/30 [==============================] - 1s 35ms/step - loss: 0.0152 - accuracy: 0.9961 - val_loss: 0.6571 - val_accuracy: 0.8649\n",
            "Epoch 17/20\n",
            "30/30 [==============================] - 1s 36ms/step - loss: 0.0071 - accuracy: 0.9995 - val_loss: 0.6476 - val_accuracy: 0.8671\n",
            "Epoch 18/20\n",
            "30/30 [==============================] - 1s 36ms/step - loss: 0.0121 - accuracy: 0.9969 - val_loss: 0.6843 - val_accuracy: 0.8668\n",
            "Epoch 19/20\n",
            "30/30 [==============================] - 1s 36ms/step - loss: 0.0039 - accuracy: 0.9999 - val_loss: 0.7258 - val_accuracy: 0.8657\n",
            "Epoch 20/20\n",
            "30/30 [==============================] - 1s 36ms/step - loss: 0.0115 - accuracy: 0.9965 - val_loss: 0.7672 - val_accuracy: 0.8652\n",
            "Epoch 1/4\n",
            "30/30 [==============================] - 1s 28ms/step - loss: 0.0021 - accuracy: 0.9999\n",
            "Epoch 2/4\n",
            "30/30 [==============================] - 1s 28ms/step - loss: 0.0113 - accuracy: 0.9964\n",
            "Epoch 3/4\n",
            "30/30 [==============================] - 1s 28ms/step - loss: 0.0013 - accuracy: 0.9999\n",
            "Epoch 4/4\n",
            "30/30 [==============================] - 1s 27ms/step - loss: 0.0012 - accuracy: 0.9999\n",
            "313/313 [==============================] - 1s 2ms/step - loss: 0.9071 - accuracy: 0.8616\n"
          ]
        },
        {
          "output_type": "execute_result",
          "data": {
            "text/plain": [
              "[0.9071192145347595, 0.8615999817848206]"
            ]
          },
          "metadata": {},
          "execution_count": 15
        }
      ]
    },
    {
      "cell_type": "code",
      "source": [
        "# Plot the training and validation loss\n",
        "history_dict_3L = history_3L.history\n",
        "\n",
        "loss = history_3L.history['loss']\n",
        "val_loss = history_3L.history['val_loss']\n",
        "epochs = range(1, len(loss) + 1)\n",
        "plt.plot(epochs, loss, 'bo', label='Training loss')\n",
        "plt.plot(epochs, val_loss, 'b', label='Validation loss')\n",
        "plt.title('Training and validation loss')\n",
        "plt.xlabel('Epochs')\n",
        "plt.ylabel('Validation score')\n",
        "plt.legend()\n"
      ],
      "metadata": {
        "colab": {
          "base_uri": "https://localhost:8080/",
          "height": 313
        },
        "id": "GFr5AWHTJJWE",
        "outputId": "c352dcc6-f426-4fe3-9dc3-6b3f81871f78"
      },
      "execution_count": 16,
      "outputs": [
        {
          "output_type": "execute_result",
          "data": {
            "text/plain": [
              "<matplotlib.legend.Legend at 0x7f46742b4750>"
            ]
          },
          "metadata": {},
          "execution_count": 16
        },
        {
          "output_type": "display_data",
          "data": {
            "image/png": "[encoded data removed]",
            "text/plain": [
              "<Figure size 432x288 with 1 Axes>"
            ]
          },
          "metadata": {
            "needs_background": "light"
          }
        }
      ]
    },
    {
      "cell_type": "code",
      "source": [
        "# Plot the training and validation accuracy\n",
        "plt.clf()\n",
        "acc = history_dict_3L[\"accuracy\"]\n",
        "val_acc = history_dict_3L[\"val_accuracy\"]\n",
        "plt.plot(epochs, acc, \"bo\", label=\"Training acc\")\n",
        "plt.plot(epochs, val_acc, \"b\", label=\"Validation acc\")\n",
        "plt.title(\"Training and validation accuracy\")\n",
        "plt.xlabel(\"Epochs\")\n",
        "plt.ylabel(\"Accuracy\")\n",
        "plt.legend()\n",
        "plt.show()"
      ],
      "metadata": {
        "colab": {
          "base_uri": "https://localhost:8080/",
          "height": 295
        },
        "id": "Cf6xqEclJJZe",
        "outputId": "d2f8584b-7e26-49d9-c1fe-5d4279f6f6d1"
      },
      "execution_count": 17,
      "outputs": [
        {
          "output_type": "display_data",
          "data": {
            "image/png": "[encoded data removed]",
            "text/plain": [
              "<Figure size 432x288 with 1 Axes>"
            ]
          },
          "metadata": {
            "needs_background": "light"
          }
        }
      ]
    },
    {
      "cell_type": "markdown",
      "source": [
        "An epoch means training the neural network with all the training data for one cycle .At fourth epoch point the validation loss is minimum and accuracy is decreasing at the fourth epoch point. This is Overfitting. To prevent overfitting, we can stop training after the fourth epoch and then we need to train a new network from scratch for those 4 ephocs inorder to evaluate it in our test data."
      ],
      "metadata": {
        "id": "Z439JPjtMb4z"
      }
    },
    {
      "cell_type": "code",
      "source": [
        "model_3LT = models.Sequential()\n",
        "model_3LT.add(layers.Dense(16, activation='relu', input_shape=(10000,)))\n",
        "model_3LT.add(layers.Dense(16, activation='relu'))\n",
        "model_3LT.add(layers.Dense(16, activation='relu'))\n",
        "model_3LT.add(layers.Dense(1, activation='sigmoid'))\n",
        "model_3LT.compile(optimizer='rmsprop',\n",
        "loss='binary_crossentropy',\n",
        "metrics=['accuracy'])\n",
        "model_3LT.fit(x_train, y_train, epochs=4, batch_size=512)\n",
        "results1 = model_3LT.evaluate(x_test, y_test)"
      ],
      "metadata": {
        "colab": {
          "base_uri": "https://localhost:8080/"
        },
        "id": "btrb4icdMcMn",
        "outputId": "3570b20f-fdbd-49a7-f842-aa4146674363"
      },
      "execution_count": 18,
      "outputs": [
        {
          "output_type": "stream",
          "name": "stdout",
          "text": [
            "Epoch 1/4\n",
            "49/49 [==============================] - 2s 28ms/step - loss: 0.4877 - accuracy: 0.7976\n",
            "Epoch 2/4\n",
            "49/49 [==============================] - 1s 28ms/step - loss: 0.2658 - accuracy: 0.9061\n",
            "Epoch 3/4\n",
            "49/49 [==============================] - 1s 27ms/step - loss: 0.2000 - accuracy: 0.9283\n",
            "Epoch 4/4\n",
            "49/49 [==============================] - 1s 27ms/step - loss: 0.1689 - accuracy: 0.9392\n",
            "782/782 [==============================] - 2s 2ms/step - loss: 0.2974 - accuracy: 0.8830\n"
          ]
        }
      ]
    },
    {
      "cell_type": "code",
      "source": [
        "print(results1)"
      ],
      "metadata": {
        "colab": {
          "base_uri": "https://localhost:8080/"
        },
        "id": "LtdI7WwXMjiE",
        "outputId": "ad1fdac7-d2e1-4a9f-d48c-0da2da0dc84c"
      },
      "execution_count": 19,
      "outputs": [
        {
          "output_type": "stream",
          "name": "stdout",
          "text": [
            "[0.2973765730857849, 0.8830400109291077]\n"
          ]
        }
      ]
    },
    {
      "cell_type": "markdown",
      "source": [
        "We have seen a slight increase in the test accuracy when used three hidden layers."
      ],
      "metadata": {
        "id": "PCII1ftAMkTK"
      }
    },
    {
      "cell_type": "markdown",
      "source": [
        "2. Try using layers with more hidden units or fewer hidden units: 32 units, 64 units, and so on."
      ],
      "metadata": {
        "id": "SofXct2NJKQY"
      }
    },
    {
      "cell_type": "code",
      "source": [
        "model_2L = keras.Sequential([\n",
        "    layers.Dense(32, activation=\"relu\"),\n",
        "    layers.Dense(64, activation=\"relu\"),\n",
        "    layers.Dense(1, activation=\"sigmoid\")\n",
        "])\n",
        "model_2L.compile(optimizer=\"rmsprop\",\n",
        "              loss=\"binary_crossentropy\",\n",
        "              metrics=[\"accuracy\"])"
      ],
      "metadata": {
        "id": "AMuHSGVZJrjJ"
      },
      "execution_count": 20,
      "outputs": []
    },
    {
      "cell_type": "code",
      "source": [
        "  history_2L = model_2L.fit(partial_x_train,\n",
        "                    partial_y_train,\n",
        "                    epochs=20,\n",
        "                    batch_size=512,\n",
        "                    validation_data=(x_val, y_val))\n",
        "history__2L = history_2L.history\n",
        "history__2L.keys()\n",
        "model_2L.fit(partial_x_train, partial_y_train, epochs=4, batch_size=512)\n",
        "result_2L = model_2L.evaluate(x_val, y_val)\n",
        "result_2L"
      ],
      "metadata": {
        "colab": {
          "base_uri": "https://localhost:8080/"
        },
        "id": "4JF-gs5tJrmg",
        "outputId": "342395be-0384-4cb4-8574-337afba8461e"
      },
      "execution_count": 21,
      "outputs": [
        {
          "output_type": "stream",
          "name": "stdout",
          "text": [
            "Epoch 1/20\n",
            "30/30 [==============================] - 2s 51ms/step - loss: 0.4743 - accuracy: 0.7909 - val_loss: 0.3536 - val_accuracy: 0.8590\n",
            "Epoch 2/20\n",
            "30/30 [==============================] - 1s 42ms/step - loss: 0.2558 - accuracy: 0.9097 - val_loss: 0.3065 - val_accuracy: 0.8736\n",
            "Epoch 3/20\n",
            "30/30 [==============================] - 1s 41ms/step - loss: 0.1942 - accuracy: 0.9286 - val_loss: 0.2741 - val_accuracy: 0.8884\n",
            "Epoch 4/20\n",
            "30/30 [==============================] - 1s 41ms/step - loss: 0.1483 - accuracy: 0.9483 - val_loss: 0.2909 - val_accuracy: 0.8868\n",
            "Epoch 5/20\n",
            "30/30 [==============================] - 1s 42ms/step - loss: 0.1099 - accuracy: 0.9638 - val_loss: 0.3489 - val_accuracy: 0.8717\n",
            "Epoch 6/20\n",
            "30/30 [==============================] - 1s 42ms/step - loss: 0.0918 - accuracy: 0.9687 - val_loss: 0.3382 - val_accuracy: 0.8799\n",
            "Epoch 7/20\n",
            "30/30 [==============================] - 1s 41ms/step - loss: 0.0694 - accuracy: 0.9771 - val_loss: 0.3623 - val_accuracy: 0.8785\n",
            "Epoch 8/20\n",
            "30/30 [==============================] - 1s 41ms/step - loss: 0.0574 - accuracy: 0.9821 - val_loss: 0.3957 - val_accuracy: 0.8779\n",
            "Epoch 9/20\n",
            "30/30 [==============================] - 1s 43ms/step - loss: 0.0418 - accuracy: 0.9879 - val_loss: 0.4370 - val_accuracy: 0.8767\n",
            "Epoch 10/20\n",
            "30/30 [==============================] - 1s 41ms/step - loss: 0.0321 - accuracy: 0.9918 - val_loss: 0.4604 - val_accuracy: 0.8745\n",
            "Epoch 11/20\n",
            "30/30 [==============================] - 1s 41ms/step - loss: 0.0151 - accuracy: 0.9975 - val_loss: 0.6738 - val_accuracy: 0.8508\n",
            "Epoch 12/20\n",
            "30/30 [==============================] - 1s 42ms/step - loss: 0.0254 - accuracy: 0.9925 - val_loss: 0.5504 - val_accuracy: 0.8694\n",
            "Epoch 13/20\n",
            "30/30 [==============================] - 1s 41ms/step - loss: 0.0059 - accuracy: 0.9997 - val_loss: 0.5797 - val_accuracy: 0.8726\n",
            "Epoch 14/20\n",
            "30/30 [==============================] - 1s 42ms/step - loss: 0.0234 - accuracy: 0.9929 - val_loss: 0.6125 - val_accuracy: 0.8706\n",
            "Epoch 15/20\n",
            "30/30 [==============================] - 1s 41ms/step - loss: 0.0028 - accuracy: 0.9999 - val_loss: 0.6482 - val_accuracy: 0.8709\n",
            "Epoch 16/20\n",
            "30/30 [==============================] - 1s 41ms/step - loss: 0.0039 - accuracy: 0.9993 - val_loss: 1.0530 - val_accuracy: 0.8305\n",
            "Epoch 17/20\n",
            "30/30 [==============================] - 1s 43ms/step - loss: 0.0036 - accuracy: 0.9991 - val_loss: 0.7345 - val_accuracy: 0.8679\n",
            "Epoch 18/20\n",
            "30/30 [==============================] - 1s 41ms/step - loss: 9.2688e-04 - accuracy: 0.9999 - val_loss: 0.8019 - val_accuracy: 0.8635\n",
            "Epoch 19/20\n",
            "30/30 [==============================] - 1s 41ms/step - loss: 0.0164 - accuracy: 0.9951 - val_loss: 0.8346 - val_accuracy: 0.8667\n",
            "Epoch 20/20\n",
            "30/30 [==============================] - 1s 41ms/step - loss: 4.2373e-04 - accuracy: 0.9999 - val_loss: 0.8522 - val_accuracy: 0.8668\n",
            "Epoch 1/4\n",
            "30/30 [==============================] - 1s 32ms/step - loss: 3.2521e-04 - accuracy: 1.0000\n",
            "Epoch 2/4\n",
            "30/30 [==============================] - 1s 32ms/step - loss: 2.2070e-04 - accuracy: 1.0000\n",
            "Epoch 3/4\n",
            "30/30 [==============================] - 1s 32ms/step - loss: 0.0172 - accuracy: 0.9961\n",
            "Epoch 4/4\n",
            "30/30 [==============================] - 1s 32ms/step - loss: 1.4553e-04 - accuracy: 1.0000\n",
            "313/313 [==============================] - 1s 2ms/step - loss: 0.9875 - accuracy: 0.8647\n"
          ]
        },
        {
          "output_type": "execute_result",
          "data": {
            "text/plain": [
              "[0.9875267744064331, 0.8647000193595886]"
            ]
          },
          "metadata": {},
          "execution_count": 21
        }
      ]
    },
    {
      "cell_type": "code",
      "source": [
        "history_dict_2L = history_2L.history\n",
        "loss_values = history_dict_2L[\"loss\"]\n",
        "val_loss_values = history_dict_2L[\"val_loss\"]\n",
        "epochs = range(1, len(loss_values) + 1)\n",
        "plt.plot(epochs, loss_values, \"bo\", label=\"Training loss\")\n",
        "plt.plot(epochs, val_loss_values, \"b\", label=\"Validation loss\")\n",
        "plt.title(\"Training and validation loss\")\n",
        "plt.xlabel(\"Epochs\")\n",
        "plt.ylabel(\"Loss\")\n",
        "plt.legend()\n",
        "plt.show()"
      ],
      "metadata": {
        "colab": {
          "base_uri": "https://localhost:8080/",
          "height": 295
        },
        "id": "zD2vf5uVJr27",
        "outputId": "efcd2677-9de7-4341-c9cd-55ef56c982b2"
      },
      "execution_count": 22,
      "outputs": [
        {
          "output_type": "display_data",
          "data": {
            "image/png": "[encoded data removed]",
            "text/plain": [
              "<Figure size 432x288 with 1 Axes>"
            ]
          },
          "metadata": {
            "needs_background": "light"
          }
        }
      ]
    },
    {
      "cell_type": "code",
      "source": [
        "plt.clf()\n",
        "acc = history_dict_2L[\"accuracy\"]\n",
        "val_acc = history_dict_2L[\"val_accuracy\"]\n",
        "plt.plot(epochs, acc, \"bo\", label=\"Training acc\")\n",
        "plt.plot(epochs, val_acc, \"b\", label=\"Validation acc\")\n",
        "plt.title(\"Training and validation accuracy\")\n",
        "plt.xlabel(\"Epochs\")\n",
        "plt.ylabel(\"Accuracy\")\n",
        "plt.legend()\n",
        "plt.show()"
      ],
      "metadata": {
        "colab": {
          "base_uri": "https://localhost:8080/",
          "height": 295
        },
        "id": "IJE4rH5OMxXh",
        "outputId": "4897dccd-f036-450d-a97e-8990004306ef"
      },
      "execution_count": 23,
      "outputs": [
        {
          "output_type": "display_data",
          "data": {
            "image/png": "[encoded data removed]",
            "text/plain": [
              "<Figure size 432x288 with 1 Axes>"
            ]
          },
          "metadata": {
            "needs_background": "light"
          }
        }
      ]
    },
    {
      "cell_type": "markdown",
      "source": [
        "At fourth epoch point the validation loss is minimum and accuracy is decreasing at the fourth epoch point. This is Overfitting. To prevent overfitting, we can stop training after the fourth epoch and then we need to train a new network from scratch for those 4 ephocs inorder to evaluate it in our test data."
      ],
      "metadata": {
        "id": "RgZi3k4PM_xY"
      }
    },
    {
      "cell_type": "code",
      "source": [
        "model_2LT = models.Sequential()\n",
        "model_2LT.add(layers.Dense(32, activation='relu', input_shape=(10000,)))\n",
        "model_2LT.add(layers.Dense(64, activation='relu'))\n",
        "model_2LT.add(layers.Dense(1, activation='sigmoid'))\n",
        "model_2LT.compile(optimizer='rmsprop',\n",
        "loss='binary_crossentropy',\n",
        "metrics=['accuracy'])\n",
        "model_2LT.fit(x_train, y_train, epochs=4, batch_size=512)\n",
        "results2 = model_2LT.evaluate(x_test, y_test)"
      ],
      "metadata": {
        "colab": {
          "base_uri": "https://localhost:8080/"
        },
        "id": "HbWazZmIMxbA",
        "outputId": "9eeb29c1-2aa3-4afb-efb4-123da8e0c00c"
      },
      "execution_count": 24,
      "outputs": [
        {
          "output_type": "stream",
          "name": "stdout",
          "text": [
            "Epoch 1/4\n",
            "49/49 [==============================] - 2s 32ms/step - loss: 0.4299 - accuracy: 0.8182\n",
            "Epoch 2/4\n",
            "49/49 [==============================] - 2s 32ms/step - loss: 0.2398 - accuracy: 0.9094\n",
            "Epoch 3/4\n",
            "49/49 [==============================] - 2s 33ms/step - loss: 0.1878 - accuracy: 0.9315\n",
            "Epoch 4/4\n",
            "49/49 [==============================] - 2s 33ms/step - loss: 0.1584 - accuracy: 0.9411\n",
            "782/782 [==============================] - 2s 2ms/step - loss: 0.3355 - accuracy: 0.8740\n"
          ]
        }
      ]
    },
    {
      "cell_type": "code",
      "source": [
        "print(results2)"
      ],
      "metadata": {
        "colab": {
          "base_uri": "https://localhost:8080/"
        },
        "id": "OPDAyKSnMxp_",
        "outputId": "2801af93-6748-473e-c395-fcce7a1be4cd"
      },
      "execution_count": 25,
      "outputs": [
        {
          "output_type": "stream",
          "name": "stdout",
          "text": [
            "[0.3355393409729004, 0.873960018157959]\n"
          ]
        }
      ]
    },
    {
      "cell_type": "markdown",
      "source": [
        "We have seen a slight decrease in the test accuracy when used more hidden units(32,64)"
      ],
      "metadata": {
        "id": "h_mDlKmONF_T"
      }
    },
    {
      "cell_type": "markdown",
      "source": [
        "3. Try using the mse loss function instead of binary_crossentropy."
      ],
      "metadata": {
        "id": "UKlpXxLoJsOe"
      }
    },
    {
      "cell_type": "code",
      "source": [
        "model_mse = keras.Sequential([\n",
        "    layers.Dense(16, activation=\"relu\"),\n",
        "    layers.Dense(16, activation=\"relu\"),\n",
        "    layers.Dense(1, activation=\"sigmoid\")\n",
        "])\n",
        "model_mse.compile(optimizer=\"rmsprop\",\n",
        "              loss=\"mse\",\n",
        "              metrics=[\"accuracy\"])"
      ],
      "metadata": {
        "id": "6kS8aRTbJu7e"
      },
      "execution_count": 26,
      "outputs": []
    },
    {
      "cell_type": "code",
      "source": [
        "# Training our model\n",
        "\n",
        "history_mse = model_mse.fit(partial_x_train,\n",
        "                    partial_y_train,\n",
        "                    epochs=20,\n",
        "                    batch_size=512,\n",
        "                    validation_data=(x_val, y_val))\n",
        "history__mse = history_mse.history\n",
        "history__mse.keys()\n",
        "model_mse.fit(partial_x_train, partial_y_train, epochs=4, batch_size=512)\n",
        "result_mse = model_mse.evaluate(x_val, y_val)\n",
        "result_mse"
      ],
      "metadata": {
        "colab": {
          "base_uri": "https://localhost:8080/"
        },
        "id": "uJlPvRBvJu-G",
        "outputId": "f0966e94-636f-41b2-988c-ba4ce3a09a6d"
      },
      "execution_count": 27,
      "outputs": [
        {
          "output_type": "stream",
          "name": "stdout",
          "text": [
            "Epoch 1/20\n",
            "30/30 [==============================] - 2s 44ms/step - loss: 0.1865 - accuracy: 0.7628 - val_loss: 0.1306 - val_accuracy: 0.8653\n",
            "Epoch 2/20\n",
            "30/30 [==============================] - 1s 34ms/step - loss: 0.0993 - accuracy: 0.9011 - val_loss: 0.0987 - val_accuracy: 0.8848\n",
            "Epoch 3/20\n",
            "30/30 [==============================] - 1s 34ms/step - loss: 0.0681 - accuracy: 0.9309 - val_loss: 0.0885 - val_accuracy: 0.8866\n",
            "Epoch 4/20\n",
            "30/30 [==============================] - 1s 34ms/step - loss: 0.0514 - accuracy: 0.9481 - val_loss: 0.0835 - val_accuracy: 0.8893\n",
            "Epoch 5/20\n",
            "30/30 [==============================] - 1s 34ms/step - loss: 0.0405 - accuracy: 0.9591 - val_loss: 0.0883 - val_accuracy: 0.8798\n",
            "Epoch 6/20\n",
            "30/30 [==============================] - 1s 34ms/step - loss: 0.0331 - accuracy: 0.9687 - val_loss: 0.0951 - val_accuracy: 0.8698\n",
            "Epoch 7/20\n",
            "30/30 [==============================] - 1s 35ms/step - loss: 0.0266 - accuracy: 0.9746 - val_loss: 0.0869 - val_accuracy: 0.8823\n",
            "Epoch 8/20\n",
            "30/30 [==============================] - 1s 34ms/step - loss: 0.0216 - accuracy: 0.9805 - val_loss: 0.0881 - val_accuracy: 0.8821\n",
            "Epoch 9/20\n",
            "30/30 [==============================] - 1s 34ms/step - loss: 0.0175 - accuracy: 0.9855 - val_loss: 0.0904 - val_accuracy: 0.8791\n",
            "Epoch 10/20\n",
            "30/30 [==============================] - 1s 35ms/step - loss: 0.0141 - accuracy: 0.9891 - val_loss: 0.0922 - val_accuracy: 0.8771\n",
            "Epoch 11/20\n",
            "30/30 [==============================] - 1s 35ms/step - loss: 0.0118 - accuracy: 0.9906 - val_loss: 0.0951 - val_accuracy: 0.8758\n",
            "Epoch 12/20\n",
            "30/30 [==============================] - 1s 35ms/step - loss: 0.0102 - accuracy: 0.9919 - val_loss: 0.0961 - val_accuracy: 0.8755\n",
            "Epoch 13/20\n",
            "30/30 [==============================] - 1s 35ms/step - loss: 0.0079 - accuracy: 0.9933 - val_loss: 0.0977 - val_accuracy: 0.8734\n",
            "Epoch 14/20\n",
            "30/30 [==============================] - 1s 35ms/step - loss: 0.0055 - accuracy: 0.9963 - val_loss: 0.1030 - val_accuracy: 0.8686\n",
            "Epoch 15/20\n",
            "30/30 [==============================] - 1s 35ms/step - loss: 0.0046 - accuracy: 0.9967 - val_loss: 0.1104 - val_accuracy: 0.8635\n",
            "Epoch 16/20\n",
            "30/30 [==============================] - 1s 35ms/step - loss: 0.0036 - accuracy: 0.9973 - val_loss: 0.1036 - val_accuracy: 0.8695\n",
            "Epoch 17/20\n",
            "30/30 [==============================] - 1s 34ms/step - loss: 0.0054 - accuracy: 0.9947 - val_loss: 0.1051 - val_accuracy: 0.8685\n",
            "Epoch 18/20\n",
            "30/30 [==============================] - 1s 34ms/step - loss: 0.0026 - accuracy: 0.9977 - val_loss: 0.1067 - val_accuracy: 0.8679\n",
            "Epoch 19/20\n",
            "30/30 [==============================] - 1s 34ms/step - loss: 0.0046 - accuracy: 0.9954 - val_loss: 0.1081 - val_accuracy: 0.8661\n",
            "Epoch 20/20\n",
            "30/30 [==============================] - 1s 34ms/step - loss: 0.0022 - accuracy: 0.9979 - val_loss: 0.1094 - val_accuracy: 0.8646\n",
            "Epoch 1/4\n",
            "30/30 [==============================] - 1s 27ms/step - loss: 0.0041 - accuracy: 0.9955\n",
            "Epoch 2/4\n",
            "30/30 [==============================] - 1s 27ms/step - loss: 0.0018 - accuracy: 0.9983\n",
            "Epoch 3/4\n",
            "30/30 [==============================] - 1s 27ms/step - loss: 0.0017 - accuracy: 0.9985\n",
            "Epoch 4/4\n",
            "30/30 [==============================] - 1s 26ms/step - loss: 0.0030 - accuracy: 0.9969\n",
            "313/313 [==============================] - 1s 2ms/step - loss: 0.1129 - accuracy: 0.8637\n"
          ]
        },
        {
          "output_type": "execute_result",
          "data": {
            "text/plain": [
              "[0.11288627982139587, 0.8636999726295471]"
            ]
          },
          "metadata": {},
          "execution_count": 27
        }
      ]
    },
    {
      "cell_type": "code",
      "source": [
        "# Plotting the training and validation loss\n",
        "history_dict_mse = history_mse.history\n",
        "loss_values = history_dict_mse[\"loss\"]\n",
        "val_loss_values = history_dict_mse[\"val_loss\"]\n",
        "epochs = range(1, len(loss_values) + 1)\n",
        "plt.plot(epochs, loss_values, \"bo\", label=\"Training loss\")\n",
        "plt.plot(epochs, val_loss_values, \"b\", label=\"Validation loss\")\n",
        "plt.title(\"Training and validation loss\")\n",
        "plt.xlabel(\"Epochs\")\n",
        "plt.ylabel(\"Loss\")\n",
        "plt.legend()\n",
        "plt.show()"
      ],
      "metadata": {
        "colab": {
          "base_uri": "https://localhost:8080/",
          "height": 295
        },
        "id": "Y2K-TrfaNYhI",
        "outputId": "ee06b55a-832c-4fca-dabd-a7870b256ec7"
      },
      "execution_count": 28,
      "outputs": [
        {
          "output_type": "display_data",
          "data": {
            "image/png": "[encoded data removed]",
            "text/plain": [
              "<Figure size 432x288 with 1 Axes>"
            ]
          },
          "metadata": {
            "needs_background": "light"
          }
        }
      ]
    },
    {
      "cell_type": "code",
      "source": [
        "# Plotting the training and validation accuracy\n",
        "plt.clf()\n",
        "acc = history_dict_mse[\"accuracy\"]\n",
        "val_acc = history_dict_mse[\"val_accuracy\"]\n",
        "plt.plot(epochs, acc, \"bo\", label=\"Training acc\")\n",
        "plt.plot(epochs, val_acc, \"b\", label=\"Validation acc\")\n",
        "plt.title(\"Training and validation accuracy\")\n",
        "plt.xlabel(\"Epochs\")\n",
        "plt.ylabel(\"Accuracy\")\n",
        "plt.legend()\n",
        "plt.show()"
      ],
      "metadata": {
        "colab": {
          "base_uri": "https://localhost:8080/",
          "height": 295
        },
        "id": "Zai-SVhKNYj-",
        "outputId": "632c87bc-b6c8-44ae-962c-cc83d203fedf"
      },
      "execution_count": 29,
      "outputs": [
        {
          "output_type": "display_data",
          "data": {
            "image/png": "[encoded data removed]",
            "text/plain": [
              "<Figure size 432x288 with 1 Axes>"
            ]
          },
          "metadata": {
            "needs_background": "light"
          }
        }
      ]
    },
    {
      "cell_type": "markdown",
      "source": [
        "At fourth epoch point the validation loss is minimum and accuracy is decreasing at the fourth epoch point. This is Overfitting. To prevent overfitting, we can stop training after the fourth epoch and then we need to train a new network from scratch for those 4 ephocs inorder to evaluate it in our test data."
      ],
      "metadata": {
        "id": "zeWw3mlLNhef"
      }
    },
    {
      "cell_type": "code",
      "source": [
        "model_Tmse = models.Sequential()\n",
        "model_Tmse.add(layers.Dense(16, activation='relu', input_shape=(10000,)))\n",
        "model_Tmse.add(layers.Dense(16, activation='relu'))\n",
        "model_Tmse.add(layers.Dense(1, activation='sigmoid'))\n",
        "model_Tmse.compile(optimizer='rmsprop',\n",
        "loss='mse',\n",
        "metrics=['accuracy'])\n",
        "model_Tmse.fit(x_train, y_train, epochs=4, batch_size=512)\n",
        "results3 = model_Tmse.evaluate(x_test, y_test)\n"
      ],
      "metadata": {
        "colab": {
          "base_uri": "https://localhost:8080/"
        },
        "id": "0Eq-87w6NYng",
        "outputId": "afecc6ca-6556-431e-957e-6afe85d4126a"
      },
      "execution_count": 30,
      "outputs": [
        {
          "output_type": "stream",
          "name": "stdout",
          "text": [
            "Epoch 1/4\n",
            "49/49 [==============================] - 2s 27ms/step - loss: 0.1465 - accuracy: 0.8186\n",
            "Epoch 2/4\n",
            "49/49 [==============================] - 1s 27ms/step - loss: 0.0766 - accuracy: 0.9121\n",
            "Epoch 3/4\n",
            "49/49 [==============================] - 1s 27ms/step - loss: 0.0583 - accuracy: 0.9325\n",
            "Epoch 4/4\n",
            "49/49 [==============================] - 1s 27ms/step - loss: 0.0485 - accuracy: 0.9436\n",
            "782/782 [==============================] - 2s 2ms/step - loss: 0.0874 - accuracy: 0.8816\n"
          ]
        }
      ]
    },
    {
      "cell_type": "code",
      "source": [
        "print(results3)"
      ],
      "metadata": {
        "colab": {
          "base_uri": "https://localhost:8080/"
        },
        "id": "UpbgPkiONkrX",
        "outputId": "80eada4c-03c5-4bc0-976d-236d827b0dbe"
      },
      "execution_count": 31,
      "outputs": [
        {
          "output_type": "stream",
          "name": "stdout",
          "text": [
            "[0.08737115561962128, 0.8816400170326233]\n"
          ]
        }
      ]
    },
    {
      "cell_type": "markdown",
      "source": [
        "We have seen a slight increase in the test accuracy when used mse loss function."
      ],
      "metadata": {
        "id": "4R61B3lHNnO5"
      }
    },
    {
      "cell_type": "markdown",
      "source": [
        "4. Try using the tanh activation (an activation that was popular in the early days of neural networks) instead of relu.\n"
      ],
      "metadata": {
        "id": "5ko592KdnFwJ"
      }
    },
    {
      "cell_type": "code",
      "source": [
        "model_tanh = keras.Sequential([\n",
        "    layers.Dense(16, activation=\"tanh\"),\n",
        "    layers.Dense(16, activation=\"tanh\"),\n",
        "    layers.Dense(1, activation=\"sigmoid\")\n",
        "    ])\n",
        "model_tanh.compile(optimizer=\"rmsprop\",\n",
        "              loss=\"mse\",\n",
        "              metrics=[\"accuracy\"])"
      ],
      "metadata": {
        "id": "RMZZ2zbDJ6Z2"
      },
      "execution_count": 32,
      "outputs": []
    },
    {
      "cell_type": "code",
      "source": [
        "history_tanh = model_tanh.fit(partial_x_train,\n",
        "                    partial_y_train,\n",
        "                    epochs=20,\n",
        "                    batch_size=512,\n",
        "                    validation_data=(x_val, y_val))\n",
        "history__tanh = history_tanh.history\n",
        "history__tanh.keys()\n",
        "model_tanh.fit(partial_x_train, partial_y_train, epochs=4, batch_size=512)\n",
        "result_tanh = model_tanh.evaluate(x_val, y_val)\n",
        "result_tanh"
      ],
      "metadata": {
        "colab": {
          "base_uri": "https://localhost:8080/"
        },
        "id": "iHgn7-n2J6c_",
        "outputId": "1df84482-9a57-43b2-88d2-9d17c8198d28"
      },
      "execution_count": 33,
      "outputs": [
        {
          "output_type": "stream",
          "name": "stdout",
          "text": [
            "Epoch 1/20\n",
            "30/30 [==============================] - 2s 45ms/step - loss: 0.1578 - accuracy: 0.7935 - val_loss: 0.1313 - val_accuracy: 0.8227\n",
            "Epoch 2/20\n",
            "30/30 [==============================] - 1s 36ms/step - loss: 0.0823 - accuracy: 0.9092 - val_loss: 0.0884 - val_accuracy: 0.8860\n",
            "Epoch 3/20\n",
            "30/30 [==============================] - 1s 36ms/step - loss: 0.0564 - accuracy: 0.9349 - val_loss: 0.0839 - val_accuracy: 0.8856\n",
            "Epoch 4/20\n",
            "30/30 [==============================] - 1s 36ms/step - loss: 0.0418 - accuracy: 0.9518 - val_loss: 0.0831 - val_accuracy: 0.8863\n",
            "Epoch 5/20\n",
            "30/30 [==============================] - 1s 36ms/step - loss: 0.0299 - accuracy: 0.9671 - val_loss: 0.1162 - val_accuracy: 0.8453\n",
            "Epoch 6/20\n",
            "30/30 [==============================] - 1s 36ms/step - loss: 0.0256 - accuracy: 0.9711 - val_loss: 0.0961 - val_accuracy: 0.8742\n",
            "Epoch 7/20\n",
            "30/30 [==============================] - 1s 36ms/step - loss: 0.0202 - accuracy: 0.9779 - val_loss: 0.0945 - val_accuracy: 0.8765\n",
            "Epoch 8/20\n",
            "30/30 [==============================] - 1s 36ms/step - loss: 0.0155 - accuracy: 0.9837 - val_loss: 0.0987 - val_accuracy: 0.8756\n",
            "Epoch 9/20\n",
            "30/30 [==============================] - 1s 35ms/step - loss: 0.0132 - accuracy: 0.9861 - val_loss: 0.1071 - val_accuracy: 0.8683\n",
            "Epoch 10/20\n",
            "30/30 [==============================] - 1s 36ms/step - loss: 0.0135 - accuracy: 0.9846 - val_loss: 0.1053 - val_accuracy: 0.8731\n",
            "Epoch 11/20\n",
            "30/30 [==============================] - 1s 35ms/step - loss: 0.0079 - accuracy: 0.9920 - val_loss: 0.1154 - val_accuracy: 0.8638\n",
            "Epoch 12/20\n",
            "30/30 [==============================] - 1s 36ms/step - loss: 0.0100 - accuracy: 0.9892 - val_loss: 0.1105 - val_accuracy: 0.8699\n",
            "Epoch 13/20\n",
            "30/30 [==============================] - 1s 36ms/step - loss: 0.0057 - accuracy: 0.9947 - val_loss: 0.1131 - val_accuracy: 0.8668\n",
            "Epoch 14/20\n",
            "30/30 [==============================] - 1s 36ms/step - loss: 0.0091 - accuracy: 0.9899 - val_loss: 0.1141 - val_accuracy: 0.8694\n",
            "Epoch 15/20\n",
            "30/30 [==============================] - 1s 36ms/step - loss: 0.0047 - accuracy: 0.9955 - val_loss: 0.1155 - val_accuracy: 0.8692\n",
            "Epoch 16/20\n",
            "30/30 [==============================] - 1s 36ms/step - loss: 0.0045 - accuracy: 0.9956 - val_loss: 0.1453 - val_accuracy: 0.8388\n",
            "Epoch 17/20\n",
            "30/30 [==============================] - 1s 36ms/step - loss: 0.0087 - accuracy: 0.9901 - val_loss: 0.1168 - val_accuracy: 0.8666\n",
            "Epoch 18/20\n",
            "30/30 [==============================] - 1s 35ms/step - loss: 0.0042 - accuracy: 0.9959 - val_loss: 0.1176 - val_accuracy: 0.8672\n",
            "Epoch 19/20\n",
            "30/30 [==============================] - 1s 35ms/step - loss: 0.0071 - accuracy: 0.9916 - val_loss: 0.1198 - val_accuracy: 0.8645\n",
            "Epoch 20/20\n",
            "30/30 [==============================] - 1s 36ms/step - loss: 0.0040 - accuracy: 0.9961 - val_loss: 0.1211 - val_accuracy: 0.8633\n",
            "Epoch 1/4\n",
            "30/30 [==============================] - 1s 27ms/step - loss: 0.0039 - accuracy: 0.9961\n",
            "Epoch 2/4\n",
            "30/30 [==============================] - 1s 29ms/step - loss: 0.0076 - accuracy: 0.9913\n",
            "Epoch 3/4\n",
            "30/30 [==============================] - 1s 28ms/step - loss: 0.0036 - accuracy: 0.9964\n",
            "Epoch 4/4\n",
            "30/30 [==============================] - 1s 27ms/step - loss: 0.0035 - accuracy: 0.9965\n",
            "313/313 [==============================] - 1s 2ms/step - loss: 0.1237 - accuracy: 0.8610\n"
          ]
        },
        {
          "output_type": "execute_result",
          "data": {
            "text/plain": [
              "[0.12367520481348038, 0.8610000014305115]"
            ]
          },
          "metadata": {},
          "execution_count": 33
        }
      ]
    },
    {
      "cell_type": "code",
      "source": [
        "history_dict_tanh = history_tanh.history\n",
        "loss_values = history_dict_tanh[\"loss\"]\n",
        "val_loss_values = history_dict_tanh[\"val_loss\"]\n",
        "epochs = range(1, len(loss_values) + 1)\n",
        "plt.plot(epochs, loss_values, \"bo\", label=\"Training loss\")\n",
        "plt.plot(epochs, val_loss_values, \"b\", label=\"Validation loss\")\n",
        "plt.title(\"Training and validation loss\")\n",
        "plt.xlabel(\"Epochs\")\n",
        "plt.ylabel(\"Loss\")\n",
        "plt.legend()\n",
        "plt.show()"
      ],
      "metadata": {
        "colab": {
          "base_uri": "https://localhost:8080/",
          "height": 295
        },
        "id": "GbTSb3eIJ6gK",
        "outputId": "56bc7a1a-eb3d-4886-c911-4bec03b9da05"
      },
      "execution_count": 34,
      "outputs": [
        {
          "output_type": "display_data",
          "data": {
            "image/png": "[encoded data removed]",
            "text/plain": [
              "<Figure size 432x288 with 1 Axes>"
            ]
          },
          "metadata": {
            "needs_background": "light"
          }
        }
      ]
    },
    {
      "cell_type": "code",
      "source": [
        "# Plotting the training and validation accuracy\n",
        "plt.clf()\n",
        "acc = history_dict_tanh[\"accuracy\"]\n",
        "val_acc = history_dict_tanh[\"val_accuracy\"]\n",
        "plt.plot(epochs, acc, \"bo\", label=\"Training acc\")\n",
        "plt.plot(epochs, val_acc, \"b\", label=\"Validation acc\")\n",
        "plt.title(\"Training and validation accuracy\")\n",
        "plt.xlabel(\"Epochs\")\n",
        "plt.ylabel(\"Accuracy\")\n",
        "plt.legend()\n",
        "plt.show()"
      ],
      "metadata": {
        "colab": {
          "base_uri": "https://localhost:8080/",
          "height": 295
        },
        "id": "o87jqSanNv3l",
        "outputId": "f247b228-b080-4a28-b0e7-ba79cbb779c9"
      },
      "execution_count": 35,
      "outputs": [
        {
          "output_type": "display_data",
          "data": {
            "image/png": "[encoded data removed]",
            "text/plain": [
              "<Figure size 432x288 with 1 Axes>"
            ]
          },
          "metadata": {
            "needs_background": "light"
          }
        }
      ]
    },
    {
      "cell_type": "markdown",
      "source": [
        "At third epoch point the validation loss is minimum and accuracy is decreasing at the third epoch point. This is Overfitting. To prevent overfitting, we can stop training after the third epoch and then we need to train a new network from scratch for those 3 ephocs inorder to evaluate it in our test data."
      ],
      "metadata": {
        "id": "FKFs0A6FN2nK"
      }
    },
    {
      "cell_type": "code",
      "source": [
        "model_Ttanh = models.Sequential()\n",
        "model_Ttanh.add(layers.Dense(16, activation='tanh', input_shape=(10000,)))\n",
        "model_Ttanh.add(layers.Dense(16, activation='tanh'))\n",
        "model_Ttanh.add(layers.Dense(1, activation='sigmoid'))\n",
        "model_Ttanh.compile(optimizer='rmsprop',\n",
        "loss='binary_crossentropy',\n",
        "metrics=['accuracy'])\n",
        "model_Ttanh.fit(x_train, y_train, epochs=3, batch_size=512)\n",
        "results_4 = model_Ttanh.evaluate(x_test, y_test)"
      ],
      "metadata": {
        "colab": {
          "base_uri": "https://localhost:8080/"
        },
        "id": "V9InlaXaNv6b",
        "outputId": "b21840dc-519c-46a0-d8d3-a3c068d3a518"
      },
      "execution_count": 36,
      "outputs": [
        {
          "output_type": "stream",
          "name": "stdout",
          "text": [
            "Epoch 1/3\n",
            "49/49 [==============================] - 2s 30ms/step - loss: 0.4126 - accuracy: 0.8316\n",
            "Epoch 2/3\n",
            "49/49 [==============================] - 1s 29ms/step - loss: 0.2292 - accuracy: 0.9156\n",
            "Epoch 3/3\n",
            "49/49 [==============================] - 1s 29ms/step - loss: 0.1776 - accuracy: 0.9350\n",
            "782/782 [==============================] - 2s 2ms/step - loss: 0.3047 - accuracy: 0.8794\n"
          ]
        }
      ]
    },
    {
      "cell_type": "code",
      "source": [
        "print(results_4)"
      ],
      "metadata": {
        "colab": {
          "base_uri": "https://localhost:8080/"
        },
        "id": "i4icveB8Nv96",
        "outputId": "f6ccc940-5700-412b-99de-6623d0a3ae06"
      },
      "execution_count": 38,
      "outputs": [
        {
          "output_type": "stream",
          "name": "stdout",
          "text": [
            "[0.304705947637558, 0.8794400095939636]\n"
          ]
        }
      ]
    },
    {
      "cell_type": "markdown",
      "source": [
        "We have seen a slight increase in the test accuracy when used tanh activation."
      ],
      "metadata": {
        "id": "1vDayYUVN9W7"
      }
    },
    {
      "cell_type": "markdown",
      "source": [
        "5. Use any technique we studied in class, and these include regularization, dropout, etc., to get your model to perform better on validation."
      ],
      "metadata": {
        "id": "acjIrm64J66r"
      }
    },
    {
      "cell_type": "code",
      "source": [
        "# DropOut\n",
        "from keras import models\n",
        "from keras import layers\n",
        "model_D = models.Sequential()\n",
        "model_D.add(layers.Dense(16, activation='relu', input_shape=(10000,)))\n",
        "model_D.add(layers.Dropout(0.3))\n",
        "model_D.add(layers.Dense(16, activation='relu'))\n",
        "model_D.add(layers.Dropout(0.3))\n",
        "model_D.add(layers.Dense(1, activation='sigmoid'))"
      ],
      "metadata": {
        "id": "KWNiSPxLN-nE"
      },
      "execution_count": 39,
      "outputs": []
    },
    {
      "cell_type": "code",
      "source": [
        "model_D.compile(optimizer=\"rmsprop\",\n",
        "              loss=\"binary_crossentropy\",\n",
        "              metrics=[\"accuracy\"])\n",
        "history_D = model_D.fit(partial_x_train,\n",
        "                    partial_y_train,\n",
        "                    epochs=4,\n",
        "                    batch_size=512,\n",
        "                    validation_data=(x_val, y_val))\n",
        "\n",
        "history__D = history_D.history\n",
        "history__D.keys()\n",
        "model_D.fit(partial_x_train, partial_y_train, epochs=4, batch_size=512)\n",
        "result_D = model_D.evaluate(x_val, y_val)\n",
        "result_D"
      ],
      "metadata": {
        "id": "NRHBph63N-p9",
        "colab": {
          "base_uri": "https://localhost:8080/"
        },
        "outputId": "ce3c670b-beb5-4d5b-d96e-fdf40e1ed768"
      },
      "execution_count": 40,
      "outputs": [
        {
          "output_type": "stream",
          "name": "stdout",
          "text": [
            "Epoch 1/4\n",
            "30/30 [==============================] - 2s 47ms/step - loss: 0.6022 - accuracy: 0.6785 - val_loss: 0.4688 - val_accuracy: 0.8370\n",
            "Epoch 2/4\n",
            "30/30 [==============================] - 1s 37ms/step - loss: 0.4407 - accuracy: 0.8222 - val_loss: 0.3568 - val_accuracy: 0.8802\n",
            "Epoch 3/4\n",
            "30/30 [==============================] - 1s 38ms/step - loss: 0.3493 - accuracy: 0.8752 - val_loss: 0.3118 - val_accuracy: 0.8873\n",
            "Epoch 4/4\n",
            "30/30 [==============================] - 1s 34ms/step - loss: 0.2882 - accuracy: 0.9023 - val_loss: 0.2931 - val_accuracy: 0.8867\n",
            "Epoch 1/4\n",
            "30/30 [==============================] - 1s 27ms/step - loss: 0.2368 - accuracy: 0.9222\n",
            "Epoch 2/4\n",
            "30/30 [==============================] - 1s 27ms/step - loss: 0.2008 - accuracy: 0.9343\n",
            "Epoch 3/4\n",
            "30/30 [==============================] - 1s 27ms/step - loss: 0.1709 - accuracy: 0.9462\n",
            "Epoch 4/4\n",
            "30/30 [==============================] - 1s 27ms/step - loss: 0.1388 - accuracy: 0.9595\n",
            "313/313 [==============================] - 1s 2ms/step - loss: 0.2998 - accuracy: 0.8885\n"
          ]
        },
        {
          "output_type": "execute_result",
          "data": {
            "text/plain": [
              "[0.2998028099536896, 0.8884999752044678]"
            ]
          },
          "metadata": {},
          "execution_count": 40
        }
      ]
    },
    {
      "cell_type": "markdown",
      "source": [
        ""
      ],
      "metadata": {
        "id": "X95f_Fe66YD2"
      }
    },
    {
      "cell_type": "markdown",
      "source": [
        ""
      ],
      "metadata": {
        "id": "1YqC7bE06XsA"
      }
    },
    {
      "cell_type": "code",
      "source": [
        "# Plot the training and validation loss\n",
        "history_dict_D = history_D.history\n",
        "loss_values = history_dict_D[\"loss\"]\n",
        "val_loss_values = history_dict_D[\"val_loss\"]\n",
        "epochs = range(1, len(val_loss_values) + 1)\n",
        "plt.plot(epochs, loss_values, \"b\", label=\"Dropout Model Val loss\")\n",
        "plt.plot(epochs, history__D[\"val_loss\"], \"bo\", label=\"Base Model Val loss\")\n",
        "plt.title(\"Validation loss\")\n",
        "plt.xlabel(\"Epochs\")\n",
        "plt.ylabel(\"Loss\")\n",
        "plt.legend()\n",
        "plt.show()"
      ],
      "metadata": {
        "colab": {
          "base_uri": "https://localhost:8080/",
          "height": 295
        },
        "id": "7PqdOl99N-_D",
        "outputId": "eca794c4-1508-4c09-adc5-dca0e682e301"
      },
      "execution_count": 55,
      "outputs": [
        {
          "output_type": "display_data",
          "data": {
            "image/png": "[encoded data removed]",
            "text/plain": [
              "<Figure size 432x288 with 1 Axes>"
            ]
          },
          "metadata": {
            "needs_background": "light"
          }
        }
      ]
    },
    {
      "cell_type": "code",
      "source": [
        "# Plot the training and validation accuracy\n",
        "plt.clf()\n",
        "\n",
        "history_dict_D = history_D.history\n",
        "val_acc = history_dict_D[\"val_accuracy\"]\n",
        "plt.plot(epochs, val_acc, \"b\", label=\"Dropout Model Val accuracy\")\n",
        "plt.plot(epochs, history__D[\"val_accuracy\"], \"g\", label=\"Base Model Val accuracy\")\n",
        "plt.title(\"Validation accuracy\")\n",
        "plt.xlabel(\"Epochs\")\n",
        "plt.ylabel(\"Accuracy\")\n",
        "plt.legend()\n",
        "plt.show()"
      ],
      "metadata": {
        "colab": {
          "base_uri": "https://localhost:8080/",
          "height": 295
        },
        "id": "1tdWjQbqON2r",
        "outputId": "e3c99540-2fb3-4924-96b2-d0f9c00d86fa"
      },
      "execution_count": 56,
      "outputs": [
        {
          "output_type": "display_data",
          "data": {
            "image/png": "[encoded data removed]",
            "text/plain": [
              "<Figure size 432x288 with 1 Axes>"
            ]
          },
          "metadata": {
            "needs_background": "light"
          }
        }
      ]
    },
    {
      "cell_type": "markdown",
      "source": [
        "Dropout regularization is a technique to prevent neural networks from overfitting. Dropout works by randomly disabling neurons and their corresponding connections. This prevents the network from relying too much on single neurons and forces all neurons to learn to generalize better resulting in increasing the performance of the network and prevents overfitting."
      ],
      "metadata": {
        "id": "cgynyIfXOZ66"
      }
    },
    {
      "cell_type": "markdown",
      "source": [
        "Final Summary"
      ],
      "metadata": {
        "id": "InQavxAnJNYj"
      }
    },
    {
      "cell_type": "code",
      "source": [
        "import numpy as np\n",
        "all_Loss= np.array([result_D[0],result_tanh[0],result_mse[0],result_2L[0],result_3L[0]])*100\n",
        "all_Loss\n",
        "all_Accuracy= np.array([result_D[1],result_tanh[1],result_mse[1],result_2L[1],result_3L[1]])*100\n",
        "all_Accuracy\n",
        "Labels=['Model_Dropout','Model_tanh','Model_mse','model_2L','model_3L']\n",
        "plt.clf()\n",
        "\n",
        "fig, ax = plt.subplots()\n",
        "ax.scatter(all_Loss,all_Accuracy)\n",
        "for i, txt in enumerate(Labels):\n",
        "    ax.annotate(txt, (all_Loss[i],all_Accuracy[i] ))\n",
        "plt.title(\"Final Summary for Accuracy and Loss\")\n",
        "plt.ylabel(\"Accuracy\")\n",
        "plt.xlabel(\"Loss\")\n",
        "\n",
        "plt.show()"
      ],
      "metadata": {
        "colab": {
          "base_uri": "https://localhost:8080/",
          "height": 313
        },
        "id": "UYJf0vii3qDI",
        "outputId": "cf796cad-d51b-45fc-ba2e-dbf333adbb64"
      },
      "execution_count": 52,
      "outputs": [
        {
          "output_type": "display_data",
          "data": {
            "text/plain": [
              "<Figure size 432x288 with 0 Axes>"
            ]
          },
          "metadata": {}
        },
        {
          "output_type": "display_data",
          "data": {
            "image/png": "[encoded data removed]",
            "text/plain": [
              "<Figure size 432x288 with 1 Axes>"
            ]
          },
          "metadata": {
            "needs_background": "light"
          }
        }
      ]
    },
    {
      "cell_type": "markdown",
      "source": [
        "From above graph, model dropout has the maximum accuracy and loss.By Increasing the number of hidden layers We have seen a slight decrease in the test accuracy or deflection in the loss function.\n",
        "Loss value is low when compared to binary cross entropy,while using “MSE” as loss function for IMDB dataset.We have seen a slight increase in the test accuracy when used mse loss function.\n",
        "The accuracy of tanh activation function is low.Less overfitting is less in regularization model . It shows better accuracy and gives a lower loss. "
      ],
      "metadata": {
        "id": "JPUtOR7KFtFX"
      }
    }
  ]
}