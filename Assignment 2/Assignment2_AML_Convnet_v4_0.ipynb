{
  "cells": [
    {
      "cell_type": "markdown",
      "metadata": {
        "id": "M_w9GJQWLJf0"
      },
      "source": [
        "##**Assignment 2 - Deep learning for computer vision**"
      ]
    },
    {
      "cell_type": "markdown",
      "metadata": {
        "id": "QutUglegLJf8"
      },
      "source": [
        "## Objective : Deep learning for computer vision convents can be used successfully to classify images. It is used to help teach computers to “see” and to use visual information to perform visual tasks that humans can.Specifically, consider the Cats & Dogs example. There are two approaches to classifying Cats & Dogs using convnets: Training a network from scratch, versus using a pretrained convnet. While small datasets can lead to overfitting, thus making training a network for prediction more difficult, you also saw several techniques to reduce overfitting, and these include data augmentation and regularization. In this assignment, we will examine the relationship between training samples and the choice of training your model from scratch, versus using a pretrained convnet.\n",
        "\n",
        "## Date Source : The data set has been imported from Kaggle which contains Training and Test sets with 25000 & 12500 images of cats & dogs which are equal. But, we are going to use only 2000 to build the model.\n",
        "\n"
      ]
    },
    {
      "cell_type": "markdown",
      "metadata": {
        "id": "iBiW9ZHHLJf9"
      },
      "source": [
        "### Downloading the data from Kaggle"
      ]
    },
    {
      "cell_type": "code",
      "execution_count": 1,
      "metadata": {
        "id": "viYjmM2HLJf9",
        "colab": {
          "resources": {
            "http://localhost:8080/nbextensions/google.colab/files.js": {
              "data": "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",
              "ok": true,
              "headers": [
                [
                  "content-type",
                  "application/javascript"
                ]
              ],
              "status": 200,
              "status_text": ""
            }
          },
          "base_uri": "https://localhost:8080/",
          "height": 91
        },
        "outputId": "8a5b5747-c31b-478b-a447-b84f696e7a7f"
      },
      "outputs": [
        {
          "output_type": "display_data",
          "data": {
            "text/plain": [
              "<IPython.core.display.HTML object>"
            ],
            "text/html": [
              "\n",
              "     <input type=\"file\" id=\"files-64556ae7-b29a-453e-9000-bbc0d581c567\" name=\"files[]\" multiple disabled\n",
              "        style=\"border:none\" />\n",
              "     <output id=\"result-64556ae7-b29a-453e-9000-bbc0d581c567\">\n",
              "      Upload widget is only available when the cell has been executed in the\n",
              "      current browser session. Please rerun this cell to enable.\n",
              "      </output>\n",
              "      <script src=\"/nbextensions/google.colab/files.js\"></script> "
            ]
          },
          "metadata": {}
        },
        {
          "output_type": "stream",
          "name": "stdout",
          "text": [
            "Saving kaggle.json to kaggle.json\n"
          ]
        },
        {
          "output_type": "execute_result",
          "data": {
            "text/plain": [
              "{'kaggle.json': b'{\"username\":\"npillana\",\"key\":\"19e4599873232020b8f4ce1504f5f254\"}'}"
            ]
          },
          "metadata": {},
          "execution_count": 1
        }
      ],
      "source": [
        "from google.colab import files\n",
        "files.upload()"
      ]
    },
    {
      "cell_type": "code",
      "execution_count": 2,
      "metadata": {
        "id": "bnd8M_zRLJf9"
      },
      "outputs": [],
      "source": [
        "!mkdir ~/.kaggle\n",
        "!cp kaggle.json ~/.kaggle/\n",
        "!chmod 600 ~/.kaggle/kaggle.json"
      ]
    },
    {
      "cell_type": "code",
      "execution_count": 3,
      "metadata": {
        "colab": {
          "base_uri": "https://localhost:8080/"
        },
        "id": "606RcoSyLJf-",
        "outputId": "0019a4ef-6e1d-434d-de66-730c096e9800"
      },
      "outputs": [
        {
          "output_type": "stream",
          "name": "stdout",
          "text": [
            "Downloading dogs-vs-cats.zip to /content\n",
            "100% 812M/812M [00:06<00:00, 148MB/s]\n",
            "100% 812M/812M [00:06<00:00, 128MB/s]\n"
          ]
        }
      ],
      "source": [
        "!kaggle competitions download -c dogs-vs-cats"
      ]
    },
    {
      "cell_type": "code",
      "execution_count": 4,
      "metadata": {
        "id": "y8UWwdXcMOcE"
      },
      "outputs": [],
      "source": [
        "!unzip -qq dogs-vs-cats.zip"
      ]
    },
    {
      "cell_type": "code",
      "execution_count": 5,
      "metadata": {
        "id": "ABcoW4YHHkgU"
      },
      "outputs": [],
      "source": [
        "!unzip -qq train.zip\n"
      ]
    },
    {
      "cell_type": "code",
      "execution_count": 6,
      "metadata": {
        "id": "SQfT9robXvf_"
      },
      "outputs": [],
      "source": [
        "!unzip -qq test1.zip"
      ]
    },
    {
      "cell_type": "markdown",
      "metadata": {
        "id": "y_d0PlVSTP3P"
      },
      "source": [
        "**Q1. Consider the Cats & Dogs example. Start initially with a training sample of 1000, a validation sample of 500, and a test sample of 500 (like in the text). Use any technique to reduce overfitting and improve performance in developing a network that you train from scratch. What performance did you achieve?**"
      ]
    },
    {
      "cell_type": "markdown",
      "metadata": {
        "id": "yOSrvzI-9cVW"
      },
      "source": [
        "#### Test Accuracy - 73.5%\n",
        "\n",
        "#### Training Accuraccy - 99.3%\n",
        "\n",
        "#### Validation Accuracy - 74.20%"
      ]
    },
    {
      "cell_type": "markdown",
      "metadata": {
        "id": "cTtWpwnPz7b5"
      },
      "source": [
        "**Copying images to training, validation, and test directories**"
      ]
    },
    {
      "cell_type": "code",
      "execution_count": 7,
      "metadata": {
        "id": "mkM9Kg1uLJf-"
      },
      "outputs": [],
      "source": [
        "import os, shutil, pathlib\n",
        "\n",
        "original_dir = pathlib.Path(\"train\")\n",
        "new_base_dir = pathlib.Path(\"cats_vs_dogs_small\")\n",
        "\n",
        "def make_subset(subset_name, start_index, end_index):\n",
        "    for category in (\"cat\", \"dog\"):\n",
        "        dir = new_base_dir / subset_name / category\n",
        "        os.makedirs(dir)\n",
        "        fnames = [f\"{category}.{i}.jpg\" for i in range(start_index, end_index)]\n",
        "        for fname in fnames:\n",
        "            shutil.copyfile(src=original_dir / fname,\n",
        "                            dst=dir / fname)\n",
        "#Creating training, Test and validation sets.\n",
        "#Training has 1000 samples, test has 500 samples and validation has 500 samples.\n",
        "make_subset(\"train\", start_index=0, end_index=1000)\n",
        "make_subset(\"validation\", start_index=1000, end_index=1500)\n",
        "make_subset(\"test\", start_index=1500, end_index=2000)"
      ]
    },
    {
      "cell_type": "markdown",
      "metadata": {
        "id": "A0Kl-Y9HuD5-"
      },
      "source": [
        "##Data Preprocessing\n",
        "####First lets Convert the data into Preprocessed floating point tensors before being fed into the model.\n",
        "####Since the data is in the JPEG file format. We need to follow below  steps of  preprocess:\n",
        "#### Read the pictures\n",
        "#### Convert JPEG content into RGB grid of pixels.\n",
        "#### Convert RGB grid of pixels into floating point tensors.\n",
        "#### Resize them and Convert them into batches.\n"
      ]
    },
    {
      "cell_type": "markdown",
      "metadata": {
        "id": "z4fboVketrcu"
      },
      "source": [
        "**Using image_dataset_from_directory to read images**"
      ]
    },
    {
      "cell_type": "code",
      "execution_count": 8,
      "metadata": {
        "colab": {
          "base_uri": "https://localhost:8080/"
        },
        "id": "n2KO6Tz_LJgA",
        "outputId": "e1ebe4c0-f8dc-4bae-f9a6-71c3620096fd"
      },
      "outputs": [
        {
          "output_type": "stream",
          "name": "stdout",
          "text": [
            "Found 2000 files belonging to 2 classes.\n",
            "Found 1000 files belonging to 2 classes.\n",
            "Found 1000 files belonging to 2 classes.\n"
          ]
        }
      ],
      "source": [
        "from tensorflow.keras.utils import image_dataset_from_directory\n",
        "\n",
        "train_dataset = image_dataset_from_directory(\n",
        "    new_base_dir / \"train\",\n",
        "    image_size=(180, 180),\n",
        "    batch_size=32)\n",
        "validation_dataset = image_dataset_from_directory(\n",
        "    new_base_dir / \"validation\",\n",
        "    image_size=(180, 180),\n",
        "    batch_size=32)\n",
        "test_dataset = image_dataset_from_directory(\n",
        "    new_base_dir / \"test\",\n",
        "    image_size=(180, 180),\n",
        "    batch_size=32)"
      ]
    },
    {
      "cell_type": "markdown",
      "metadata": {
        "id": "u1ofxMIFp-nL"
      },
      "source": [
        "Create a datset instance from NumPy array of random numbers of 1000 samples and each sample of vector size is 16."
      ]
    },
    {
      "cell_type": "code",
      "execution_count": 9,
      "metadata": {
        "id": "q-OvV49ALJgB"
      },
      "outputs": [],
      "source": [
        "import numpy as np\n",
        "import tensorflow as tf\n",
        "random_numbers = np.random.normal(size=(1000, 16))\n",
        "dataset = tf.data.Dataset.from_tensor_slices(random_numbers)"
      ]
    },
    {
      "cell_type": "code",
      "execution_count": 10,
      "metadata": {
        "colab": {
          "base_uri": "https://localhost:8080/"
        },
        "id": "J2VciHhWLJgB",
        "outputId": "3cee1e49-3c1c-44ec-d287-58f5e6d73713"
      },
      "outputs": [
        {
          "output_type": "stream",
          "name": "stdout",
          "text": [
            "(16,)\n",
            "(16,)\n",
            "(16,)\n"
          ]
        }
      ],
      "source": [
        "for i, element in enumerate(dataset):\n",
        "    print(element.shape)\n",
        "    if i >= 2:\n",
        "        break"
      ]
    },
    {
      "cell_type": "markdown",
      "metadata": {
        "id": "ltmtIkKxq4sf"
      },
      "source": [
        "Batching the data into batches of size 32."
      ]
    },
    {
      "cell_type": "code",
      "execution_count": 11,
      "metadata": {
        "colab": {
          "base_uri": "https://localhost:8080/"
        },
        "id": "2HaIetuiLJgB",
        "outputId": "4238b595-a495-4622-d47b-541099748b74"
      },
      "outputs": [
        {
          "output_type": "stream",
          "name": "stdout",
          "text": [
            "(32, 16)\n",
            "(32, 16)\n",
            "(32, 16)\n"
          ]
        }
      ],
      "source": [
        "batched_dataset = dataset.batch(32)\n",
        "for i, element in enumerate(batched_dataset):\n",
        "    print(element.shape)\n",
        "    if i >= 2:\n",
        "        break"
      ]
    },
    {
      "cell_type": "code",
      "execution_count": 12,
      "metadata": {
        "colab": {
          "base_uri": "https://localhost:8080/"
        },
        "id": "Aqh5SrMXLJgB",
        "outputId": "59ae7b61-171d-485a-918d-6b2d59609b99"
      },
      "outputs": [
        {
          "output_type": "stream",
          "name": "stdout",
          "text": [
            "(4, 4)\n",
            "(4, 4)\n",
            "(4, 4)\n"
          ]
        }
      ],
      "source": [
        "reshaped_dataset = dataset.map(lambda x: tf.reshape(x, (4, 4)))\n",
        "for i, element in enumerate(reshaped_dataset):\n",
        "    print(element.shape)\n",
        "    if i >= 2:\n",
        "        break"
      ]
    },
    {
      "cell_type": "markdown",
      "metadata": {
        "id": "7nj0WdosLJgC"
      },
      "source": [
        "**Displaying the shapes of the data and labels yielded by the `Dataset`**"
      ]
    },
    {
      "cell_type": "code",
      "execution_count": 13,
      "metadata": {
        "colab": {
          "base_uri": "https://localhost:8080/"
        },
        "id": "YLVTY3F6LJgC",
        "outputId": "056639fd-abfb-49f2-ea5b-8cda2669a96b"
      },
      "outputs": [
        {
          "output_type": "stream",
          "name": "stdout",
          "text": [
            "data batch shape: (32, 180, 180, 3)\n",
            "labels batch shape: (32,)\n"
          ]
        }
      ],
      "source": [
        "for data_batch, labels_batch in train_dataset:\n",
        "    print(\"data batch shape:\", data_batch.shape)\n",
        "    print(\"labels batch shape:\", labels_batch.shape)\n",
        "    break"
      ]
    },
    {
      "cell_type": "markdown",
      "metadata": {
        "id": "P1hLVDnpLJf-"
      },
      "source": [
        "##Building the model"
      ]
    },
    {
      "cell_type": "markdown",
      "metadata": {
        "id": "9XAsrO-rtzd-"
      },
      "source": [
        "**Instantiating a small convnet for dogs vs. cats classification**\n"
      ]
    },
    {
      "cell_type": "code",
      "execution_count": 14,
      "metadata": {
        "id": "beY7fF_KLJf_"
      },
      "outputs": [],
      "source": [
        "from tensorflow import keras\n",
        "from tensorflow.keras import layers\n",
        "\n",
        "inputs = keras.Input(shape=(180, 180, 3))\n",
        "x = layers.Rescaling(1./255)(inputs)\n",
        "x = layers.Conv2D(filters=32, kernel_size=3, activation=\"relu\")(x)\n",
        "x = layers.MaxPooling2D(pool_size=2)(x)\n",
        "x = layers.Conv2D(filters=64, kernel_size=3, activation=\"relu\")(x)\n",
        "x = layers.MaxPooling2D(pool_size=2)(x)\n",
        "x = layers.Conv2D(filters=128, kernel_size=3, activation=\"relu\")(x)\n",
        "x = layers.MaxPooling2D(pool_size=2)(x)\n",
        "x = layers.Conv2D(filters=256, kernel_size=3, activation=\"relu\")(x)\n",
        "x = layers.MaxPooling2D(pool_size=2)(x)\n",
        "x = layers.Conv2D(filters=256, kernel_size=3, activation=\"relu\")(x)\n",
        "x = layers.Flatten()(x)\n",
        "x = layers.Dropout(0.5)(x)\n",
        "outputs = layers.Dense(1, activation=\"sigmoid\")(x)\n",
        "model = keras.Model(inputs=inputs, outputs=outputs)"
      ]
    },
    {
      "cell_type": "markdown",
      "metadata": {
        "id": "UkzEJ5iuLJgA"
      },
      "source": [
        "**Configuring the model for training**"
      ]
    },
    {
      "cell_type": "code",
      "execution_count": 15,
      "metadata": {
        "id": "1Ytsm5F8LJgA"
      },
      "outputs": [],
      "source": [
        "model.compile(loss=\"binary_crossentropy\",\n",
        "              optimizer=\"adam\",\n",
        "              metrics=[\"accuracy\"])"
      ]
    },
    {
      "cell_type": "code",
      "execution_count": 16,
      "metadata": {
        "colab": {
          "base_uri": "https://localhost:8080/"
        },
        "id": "orpQgeVVLJf_",
        "outputId": "85a1471b-0c85-4011-c26a-ae8835576c55"
      },
      "outputs": [
        {
          "output_type": "stream",
          "name": "stdout",
          "text": [
            "Model: \"model\"\n",
            "_________________________________________________________________\n",
            " Layer (type)                Output Shape              Param #   \n",
            "=================================================================\n",
            " input_1 (InputLayer)        [(None, 180, 180, 3)]     0         \n",
            "                                                                 \n",
            " rescaling (Rescaling)       (None, 180, 180, 3)       0         \n",
            "                                                                 \n",
            " conv2d (Conv2D)             (None, 178, 178, 32)      896       \n",
            "                                                                 \n",
            " max_pooling2d (MaxPooling2D  (None, 89, 89, 32)       0         \n",
            " )                                                               \n",
            "                                                                 \n",
            " conv2d_1 (Conv2D)           (None, 87, 87, 64)        18496     \n",
            "                                                                 \n",
            " max_pooling2d_1 (MaxPooling  (None, 43, 43, 64)       0         \n",
            " 2D)                                                             \n",
            "                                                                 \n",
            " conv2d_2 (Conv2D)           (None, 41, 41, 128)       73856     \n",
            "                                                                 \n",
            " max_pooling2d_2 (MaxPooling  (None, 20, 20, 128)      0         \n",
            " 2D)                                                             \n",
            "                                                                 \n",
            " conv2d_3 (Conv2D)           (None, 18, 18, 256)       295168    \n",
            "                                                                 \n",
            " max_pooling2d_3 (MaxPooling  (None, 9, 9, 256)        0         \n",
            " 2D)                                                             \n",
            "                                                                 \n",
            " conv2d_4 (Conv2D)           (None, 7, 7, 256)         590080    \n",
            "                                                                 \n",
            " flatten (Flatten)           (None, 12544)             0         \n",
            "                                                                 \n",
            " dropout (Dropout)           (None, 12544)             0         \n",
            "                                                                 \n",
            " dense (Dense)               (None, 1)                 12545     \n",
            "                                                                 \n",
            "=================================================================\n",
            "Total params: 991,041\n",
            "Trainable params: 991,041\n",
            "Non-trainable params: 0\n",
            "_________________________________________________________________\n"
          ]
        }
      ],
      "source": [
        "model.summary()"
      ]
    },
    {
      "cell_type": "markdown",
      "metadata": {
        "id": "KDMhNkahLJgC"
      },
      "source": [
        "**Fitting the model using a `Dataset`**"
      ]
    },
    {
      "cell_type": "code",
      "execution_count": 21,
      "metadata": {
        "colab": {
          "base_uri": "https://localhost:8080/"
        },
        "id": "3_Us5bFxLJgC",
        "outputId": "db384ec8-93b1-40e2-a3bb-fc27dcf89130"
      },
      "outputs": [
        {
          "output_type": "stream",
          "name": "stdout",
          "text": [
            "Epoch 1/30\n",
            "63/63 [==============================] - 9s 127ms/step - loss: 0.0422 - accuracy: 0.9865 - val_loss: 1.2599 - val_accuracy: 0.7580\n",
            "Epoch 2/30\n",
            "63/63 [==============================] - 7s 112ms/step - loss: 0.0530 - accuracy: 0.9835 - val_loss: 1.1914 - val_accuracy: 0.7450\n",
            "Epoch 3/30\n",
            "63/63 [==============================] - 7s 109ms/step - loss: 0.0201 - accuracy: 0.9935 - val_loss: 1.5122 - val_accuracy: 0.7360\n",
            "Epoch 4/30\n",
            "63/63 [==============================] - 7s 110ms/step - loss: 0.0223 - accuracy: 0.9935 - val_loss: 1.5974 - val_accuracy: 0.7410\n",
            "Epoch 5/30\n",
            "63/63 [==============================] - 7s 110ms/step - loss: 0.0281 - accuracy: 0.9905 - val_loss: 1.4385 - val_accuracy: 0.7200\n",
            "Epoch 6/30\n",
            "63/63 [==============================] - 7s 111ms/step - loss: 0.0541 - accuracy: 0.9825 - val_loss: 1.3436 - val_accuracy: 0.7350\n",
            "Epoch 7/30\n",
            "63/63 [==============================] - 7s 111ms/step - loss: 0.0344 - accuracy: 0.9885 - val_loss: 1.3745 - val_accuracy: 0.7440\n",
            "Epoch 8/30\n",
            "63/63 [==============================] - 7s 111ms/step - loss: 0.0368 - accuracy: 0.9875 - val_loss: 1.5647 - val_accuracy: 0.7220\n",
            "Epoch 9/30\n",
            "63/63 [==============================] - 7s 112ms/step - loss: 0.0180 - accuracy: 0.9970 - val_loss: 1.5233 - val_accuracy: 0.7320\n",
            "Epoch 10/30\n",
            "63/63 [==============================] - 7s 110ms/step - loss: 0.0073 - accuracy: 0.9985 - val_loss: 1.4506 - val_accuracy: 0.7600\n",
            "Epoch 11/30\n",
            "63/63 [==============================] - 7s 112ms/step - loss: 0.0060 - accuracy: 0.9975 - val_loss: 1.6297 - val_accuracy: 0.7470\n",
            "Epoch 12/30\n",
            "63/63 [==============================] - 7s 113ms/step - loss: 0.0236 - accuracy: 0.9915 - val_loss: 1.6575 - val_accuracy: 0.7270\n",
            "Epoch 13/30\n",
            "63/63 [==============================] - 8s 114ms/step - loss: 0.0061 - accuracy: 0.9980 - val_loss: 1.6793 - val_accuracy: 0.7520\n",
            "Epoch 14/30\n",
            "63/63 [==============================] - 7s 113ms/step - loss: 0.0053 - accuracy: 0.9995 - val_loss: 1.7647 - val_accuracy: 0.7550\n",
            "Epoch 15/30\n",
            "63/63 [==============================] - 7s 112ms/step - loss: 0.0092 - accuracy: 0.9975 - val_loss: 1.6739 - val_accuracy: 0.7370\n",
            "Epoch 16/30\n",
            "63/63 [==============================] - 7s 113ms/step - loss: 0.0269 - accuracy: 0.9900 - val_loss: 1.6952 - val_accuracy: 0.7240\n",
            "Epoch 17/30\n",
            "63/63 [==============================] - 7s 114ms/step - loss: 0.0296 - accuracy: 0.9890 - val_loss: 1.5458 - val_accuracy: 0.7300\n",
            "Epoch 18/30\n",
            "63/63 [==============================] - 7s 113ms/step - loss: 0.0187 - accuracy: 0.9930 - val_loss: 1.6810 - val_accuracy: 0.7420\n",
            "Epoch 19/30\n",
            "63/63 [==============================] - 7s 113ms/step - loss: 0.0381 - accuracy: 0.9880 - val_loss: 1.6726 - val_accuracy: 0.7330\n",
            "Epoch 20/30\n",
            "63/63 [==============================] - 7s 112ms/step - loss: 0.0347 - accuracy: 0.9895 - val_loss: 1.5584 - val_accuracy: 0.7350\n",
            "Epoch 21/30\n",
            "63/63 [==============================] - 7s 110ms/step - loss: 0.0187 - accuracy: 0.9925 - val_loss: 1.5367 - val_accuracy: 0.7560\n",
            "Epoch 22/30\n",
            "63/63 [==============================] - 7s 110ms/step - loss: 0.0214 - accuracy: 0.9925 - val_loss: 1.5668 - val_accuracy: 0.7610\n",
            "Epoch 23/30\n",
            "63/63 [==============================] - 7s 109ms/step - loss: 0.0228 - accuracy: 0.9935 - val_loss: 1.6441 - val_accuracy: 0.7370\n",
            "Epoch 24/30\n",
            "63/63 [==============================] - 7s 110ms/step - loss: 0.0220 - accuracy: 0.9920 - val_loss: 1.8719 - val_accuracy: 0.7370\n",
            "Epoch 25/30\n",
            "63/63 [==============================] - 7s 110ms/step - loss: 0.0175 - accuracy: 0.9945 - val_loss: 1.8001 - val_accuracy: 0.7420\n",
            "Epoch 26/30\n",
            "63/63 [==============================] - 7s 110ms/step - loss: 0.0283 - accuracy: 0.9910 - val_loss: 1.8045 - val_accuracy: 0.7240\n",
            "Epoch 27/30\n",
            "63/63 [==============================] - 7s 110ms/step - loss: 0.0183 - accuracy: 0.9930 - val_loss: 1.8354 - val_accuracy: 0.7140\n",
            "Epoch 28/30\n",
            "63/63 [==============================] - 7s 112ms/step - loss: 0.0415 - accuracy: 0.9855 - val_loss: 1.6163 - val_accuracy: 0.7290\n",
            "Epoch 29/30\n",
            "63/63 [==============================] - 7s 112ms/step - loss: 0.0295 - accuracy: 0.9920 - val_loss: 1.6427 - val_accuracy: 0.7200\n",
            "Epoch 30/30\n",
            "63/63 [==============================] - 7s 112ms/step - loss: 0.0164 - accuracy: 0.9930 - val_loss: 1.6665 - val_accuracy: 0.7420\n"
          ]
        }
      ],
      "source": [
        "from keras.callbacks import ModelCheckpoint, EarlyStopping\n",
        "\n",
        "callbacks = [\n",
        "    keras.callbacks.ModelCheckpoint(\n",
        "        filepath=\"convnet_from_scratch.keras\",\n",
        "        save_best_only=True,\n",
        "        monitor=\"val_loss\")\n",
        "]\n",
        "history = model.fit(\n",
        "    train_dataset,\n",
        "    epochs=30,\n",
        "    validation_data=validation_dataset,\n",
        "    callbacks=callbacks)"
      ]
    },
    {
      "cell_type": "markdown",
      "metadata": {
        "id": "wFh51DoALJgC"
      },
      "source": [
        "**Displaying curves of loss and accuracy during training**"
      ]
    },
    {
      "cell_type": "code",
      "execution_count": 22,
      "metadata": {
        "colab": {
          "base_uri": "https://localhost:8080/",
          "height": 1000
        },
        "id": "k4Iv3jPhLJgC",
        "outputId": "c3c758e9-a90e-4dc2-fe2a-843d9f4ebf3d"
      },
      "outputs": [
        {
          "output_type": "display_data",
          "data": {
            "text/plain": [
              "<Figure size 720x720 with 1 Axes>"
            ],
            "image/png": "[encoded data removed]"
          },
          "metadata": {
            "needs_background": "light"
          }
        },
        {
          "output_type": "display_data",
          "data": {
            "text/plain": [
              "<Figure size 432x288 with 0 Axes>"
            ]
          },
          "metadata": {}
        },
        {
          "output_type": "display_data",
          "data": {
            "text/plain": [
              "<Figure size 720x720 with 1 Axes>"
            ],
            "image/png": "[encoded data removed]"
          },
          "metadata": {
            "needs_background": "light"
          }
        }
      ],
      "source": [
        "\n",
        "import matplotlib.pyplot as plt\n",
        "\n",
        "plt.figure(figsize=(10, 10))\n",
        "accuracy = history.history[\"accuracy\"]\n",
        "val_accuracy = history.history[\"val_accuracy\"]\n",
        "loss = history.history[\"loss\"]\n",
        "val_loss = history.history[\"val_loss\"]\n",
        "epochs = range(1, len(accuracy) + 1)\n",
        "plt.plot(epochs, accuracy, \"bo\", label=\"Training accuracy\")\n",
        "plt.plot(epochs, val_accuracy, \"b\", label=\"Validation accuracy\")\n",
        "plt.title(\"Training and validation accuracy\")\n",
        "plt.legend()\n",
        "plt.figure()\n",
        "plt.figure(figsize=(10, 10))\n",
        "plt.plot(epochs, loss, \"bo\", label=\"Training loss\")\n",
        "plt.plot(epochs, val_loss, \"b\", label=\"Validation loss\")\n",
        "plt.title(\"Training and validation loss\")\n",
        "plt.legend()\n",
        "plt.show()"
      ]
    },
    {
      "cell_type": "markdown",
      "metadata": {
        "id": "IxhZlNRjLJgD"
      },
      "source": [
        "**Evaluating the model on the test set**"
      ]
    },
    {
      "cell_type": "code",
      "execution_count": 23,
      "metadata": {
        "colab": {
          "base_uri": "https://localhost:8080/"
        },
        "id": "rnkCdcr2LJgD",
        "outputId": "7f950383-c430-4f47-f2a7-1bb68a7a77a9"
      },
      "outputs": [
        {
          "output_type": "stream",
          "name": "stdout",
          "text": [
            "32/32 [==============================] - 2s 51ms/step - loss: 1.2511 - accuracy: 0.7350\n",
            "Test accuracy: 0.735\n"
          ]
        }
      ],
      "source": [
        "test_model = keras.models.load_model(\"convnet_from_scratch.keras\")\n",
        "test_loss, test_acc = test_model.evaluate(test_dataset)\n",
        "print(f\"Test accuracy: {test_acc:.3f}\")"
      ]
    },
    {
      "cell_type": "markdown",
      "metadata": {
        "id": "JYJ0Y_Jtcy7O"
      },
      "source": [
        "**Q2.  Increase your training sample size. You may pick any amount. Keep the validation and test samples the same as above. Optimize your network (again training from scratch). What performance did you achieve?**"
      ]
    },
    {
      "cell_type": "markdown",
      "metadata": {
        "id": "a-M774A19ZOx"
      },
      "source": [
        "#### Test Accuracy - 74.3%\n",
        "\n",
        "#### Training Accuraccy - 78.4%\n",
        "\n",
        "#### Validation Accuracy - 76.30% "
      ]
    },
    {
      "cell_type": "markdown",
      "metadata": {
        "id": "go8Th_HDLJgD"
      },
      "source": [
        "**Define a data augmentation stage to add to an image model**"
      ]
    },
    {
      "cell_type": "code",
      "execution_count": 24,
      "metadata": {
        "id": "Ecz_riV30EGy"
      },
      "outputs": [],
      "source": [
        "import os, shutil, pathlib\n",
        "\n",
        "shutil.rmtree(\"./cats_vs_dogs_small_Q2\", ignore_errors=True)\n",
        "\n",
        "original_dir = pathlib.Path(\"train\")\n",
        "new_base_dir = pathlib.Path(\"cats_vs_dogs_small_Q2\")\n",
        "\n",
        "def make_subset(subset_name, start_index, end_index):\n",
        "    for category in (\"cat\", \"dog\"):\n",
        "        dir = new_base_dir / subset_name / category\n",
        "        os.makedirs(dir)\n",
        "        fnames = [f\"{category}.{i}.jpg\" for i in range(start_index, end_index)]\n",
        "        for fname in fnames:\n",
        "            shutil.copyfile(src=original_dir / fname,\n",
        "                            dst=dir / fname)\n",
        "#Creating training, Test and validation sets.\n",
        "#Training has 1000 samples, test has 500 samples and validation has 500 samples.\n",
        "make_subset(\"train\", start_index=0, end_index=1500)\n",
        "make_subset(\"validation\", start_index=1500, end_index=2000)\n",
        "make_subset(\"test\", start_index=2000, end_index=2500)"
      ]
    },
    {
      "cell_type": "code",
      "execution_count": 25,
      "metadata": {
        "id": "RopcC5mFLJgE"
      },
      "outputs": [],
      "source": [
        "data_augmentation = keras.Sequential(\n",
        "    [\n",
        "        layers.RandomFlip(\"horizontal\"),\n",
        "        layers.RandomRotation(0.1),\n",
        "        layers.RandomZoom(0.2),\n",
        "    ]\n",
        ")"
      ]
    },
    {
      "cell_type": "markdown",
      "metadata": {
        "id": "cRpQ-P8eLJgE"
      },
      "source": [
        "**Displaying some randomly augmented training images**"
      ]
    },
    {
      "cell_type": "code",
      "execution_count": 26,
      "metadata": {
        "colab": {
          "base_uri": "https://localhost:8080/",
          "height": 575
        },
        "id": "w4fdl64zLJgE",
        "outputId": "5aa0680b-0c91-4208-9092-4d86c6e29f10"
      },
      "outputs": [
        {
          "output_type": "display_data",
          "data": {
            "text/plain": [
              "<Figure size 720x720 with 9 Axes>"
            ],
            "image/png": "[encoded data removed]"
          },
          "metadata": {
            "needs_background": "light"
          }
        }
      ],
      "source": [
        "plt.figure(figsize=(10, 10))\n",
        "for images, _ in train_dataset.take(1):\n",
        "    for i in range(9):\n",
        "        augmented_images = data_augmentation(images)\n",
        "        ax = plt.subplot(3, 3, i + 1)\n",
        "        plt.imshow(augmented_images[0].numpy().astype(\"uint8\"))\n",
        "        plt.axis(\"off\")"
      ]
    },
    {
      "cell_type": "markdown",
      "metadata": {
        "id": "mtaPOa7ILJgE"
      },
      "source": [
        "**Defining a new convnet that includes image augmentation and dropout**"
      ]
    },
    {
      "cell_type": "code",
      "execution_count": 27,
      "metadata": {
        "id": "zziUmvoPLJgE"
      },
      "outputs": [],
      "source": [
        "inputs = keras.Input(shape=(180, 180, 3))\n",
        "x = data_augmentation(inputs)\n",
        "x = layers.Rescaling(1./255)(x)\n",
        "x = layers.Conv2D(filters=32, kernel_size=3, activation=\"relu\")(x)\n",
        "x = layers.MaxPooling2D(pool_size=2)(x)\n",
        "x = layers.Conv2D(filters=64, kernel_size=3, activation=\"relu\")(x)\n",
        "x = layers.MaxPooling2D(pool_size=2)(x)\n",
        "x = layers.Conv2D(filters=128, kernel_size=3, activation=\"relu\")(x)\n",
        "x = layers.MaxPooling2D(pool_size=2)(x)\n",
        "x = layers.Conv2D(filters=256, kernel_size=3, activation=\"relu\")(x)\n",
        "x = layers.MaxPooling2D(pool_size=2)(x)\n",
        "x = layers.Conv2D(filters=256, kernel_size=3, activation=\"relu\")(x)\n",
        "x = layers.Flatten()(x)\n",
        "x = layers.Dropout(0.5)(x)\n",
        "outputs = layers.Dense(1, activation=\"sigmoid\")(x)\n",
        "model = keras.Model(inputs=inputs, outputs=outputs)\n",
        "\n",
        "model.compile(loss=\"binary_crossentropy\",\n",
        "              optimizer=\"adam\",\n",
        "              metrics=[\"accuracy\"])"
      ]
    },
    {
      "cell_type": "markdown",
      "metadata": {
        "id": "8cneVnr6LJgF"
      },
      "source": [
        "**Training the regularized convnet**"
      ]
    },
    {
      "cell_type": "code",
      "execution_count": 28,
      "metadata": {
        "colab": {
          "base_uri": "https://localhost:8080/"
        },
        "id": "cc6rLTqeLJgF",
        "outputId": "ecd3fb4f-7235-466e-e8ac-372214efa0bb"
      },
      "outputs": [
        {
          "output_type": "stream",
          "name": "stdout",
          "text": [
            "Epoch 1/30\n",
            "63/63 [==============================] - 12s 155ms/step - loss: 0.6969 - accuracy: 0.4970 - val_loss: 0.6929 - val_accuracy: 0.5000\n",
            "Epoch 2/30\n",
            "63/63 [==============================] - 8s 119ms/step - loss: 0.6953 - accuracy: 0.5070 - val_loss: 0.6927 - val_accuracy: 0.5000\n",
            "Epoch 3/30\n",
            "63/63 [==============================] - 8s 121ms/step - loss: 0.6932 - accuracy: 0.5110 - val_loss: 0.6916 - val_accuracy: 0.5240\n",
            "Epoch 4/30\n",
            "63/63 [==============================] - 8s 121ms/step - loss: 0.6875 - accuracy: 0.5345 - val_loss: 0.6697 - val_accuracy: 0.5550\n",
            "Epoch 5/30\n",
            "63/63 [==============================] - 8s 118ms/step - loss: 0.6848 - accuracy: 0.5400 - val_loss: 0.6694 - val_accuracy: 0.5470\n",
            "Epoch 6/30\n",
            "63/63 [==============================] - 8s 116ms/step - loss: 0.6646 - accuracy: 0.5645 - val_loss: 0.6725 - val_accuracy: 0.5910\n",
            "Epoch 7/30\n",
            "63/63 [==============================] - 8s 124ms/step - loss: 0.6651 - accuracy: 0.5855 - val_loss: 0.6726 - val_accuracy: 0.5560\n",
            "Epoch 8/30\n",
            "63/63 [==============================] - 8s 116ms/step - loss: 0.6522 - accuracy: 0.6185 - val_loss: 0.6840 - val_accuracy: 0.5330\n",
            "Epoch 9/30\n",
            "63/63 [==============================] - 8s 117ms/step - loss: 0.6608 - accuracy: 0.6130 - val_loss: 0.6372 - val_accuracy: 0.6510\n",
            "Epoch 10/30\n",
            "63/63 [==============================] - 8s 119ms/step - loss: 0.6159 - accuracy: 0.6630 - val_loss: 0.6039 - val_accuracy: 0.6600\n",
            "Epoch 11/30\n",
            "63/63 [==============================] - 8s 120ms/step - loss: 0.6230 - accuracy: 0.6715 - val_loss: 0.6127 - val_accuracy: 0.6610\n",
            "Epoch 12/30\n",
            "63/63 [==============================] - 8s 121ms/step - loss: 0.6140 - accuracy: 0.6765 - val_loss: 0.5991 - val_accuracy: 0.6650\n",
            "Epoch 13/30\n",
            "63/63 [==============================] - 8s 117ms/step - loss: 0.5734 - accuracy: 0.7075 - val_loss: 0.5982 - val_accuracy: 0.6780\n",
            "Epoch 14/30\n",
            "63/63 [==============================] - 8s 115ms/step - loss: 0.5612 - accuracy: 0.7120 - val_loss: 0.6166 - val_accuracy: 0.6540\n",
            "Epoch 15/30\n",
            "63/63 [==============================] - 8s 117ms/step - loss: 0.5791 - accuracy: 0.6955 - val_loss: 0.5827 - val_accuracy: 0.6860\n",
            "Epoch 16/30\n",
            "63/63 [==============================] - 8s 117ms/step - loss: 0.5540 - accuracy: 0.7085 - val_loss: 0.5729 - val_accuracy: 0.7000\n",
            "Epoch 17/30\n",
            "63/63 [==============================] - 8s 118ms/step - loss: 0.5463 - accuracy: 0.7295 - val_loss: 0.5572 - val_accuracy: 0.7130\n",
            "Epoch 18/30\n",
            "63/63 [==============================] - 8s 117ms/step - loss: 0.5299 - accuracy: 0.7305 - val_loss: 0.5533 - val_accuracy: 0.7110\n",
            "Epoch 19/30\n",
            "63/63 [==============================] - 8s 117ms/step - loss: 0.5158 - accuracy: 0.7490 - val_loss: 0.5599 - val_accuracy: 0.7020\n",
            "Epoch 20/30\n",
            "63/63 [==============================] - 8s 119ms/step - loss: 0.5211 - accuracy: 0.7485 - val_loss: 0.5333 - val_accuracy: 0.7310\n",
            "Epoch 21/30\n",
            "63/63 [==============================] - 8s 120ms/step - loss: 0.4934 - accuracy: 0.7675 - val_loss: 0.5285 - val_accuracy: 0.7220\n",
            "Epoch 22/30\n",
            "63/63 [==============================] - 8s 119ms/step - loss: 0.4917 - accuracy: 0.7580 - val_loss: 0.5551 - val_accuracy: 0.7260\n",
            "Epoch 23/30\n",
            "63/63 [==============================] - 8s 117ms/step - loss: 0.4975 - accuracy: 0.7660 - val_loss: 0.5078 - val_accuracy: 0.7390\n",
            "Epoch 24/30\n",
            "63/63 [==============================] - 8s 116ms/step - loss: 0.4816 - accuracy: 0.7645 - val_loss: 0.5635 - val_accuracy: 0.7180\n",
            "Epoch 25/30\n",
            "63/63 [==============================] - 8s 116ms/step - loss: 0.4710 - accuracy: 0.7830 - val_loss: 0.5368 - val_accuracy: 0.7300\n",
            "Epoch 26/30\n",
            "63/63 [==============================] - 8s 115ms/step - loss: 0.4661 - accuracy: 0.7760 - val_loss: 0.5213 - val_accuracy: 0.7580\n",
            "Epoch 27/30\n",
            "63/63 [==============================] - 8s 116ms/step - loss: 0.4663 - accuracy: 0.7790 - val_loss: 0.5090 - val_accuracy: 0.7510\n",
            "Epoch 28/30\n",
            "63/63 [==============================] - 8s 118ms/step - loss: 0.4631 - accuracy: 0.7850 - val_loss: 0.4765 - val_accuracy: 0.7790\n",
            "Epoch 29/30\n",
            "63/63 [==============================] - 8s 117ms/step - loss: 0.4446 - accuracy: 0.7915 - val_loss: 0.5017 - val_accuracy: 0.7520\n",
            "Epoch 30/30\n",
            "63/63 [==============================] - 8s 116ms/step - loss: 0.4556 - accuracy: 0.7840 - val_loss: 0.4992 - val_accuracy: 0.7630\n"
          ]
        }
      ],
      "source": [
        "callbacks = [\n",
        "    keras.callbacks.ModelCheckpoint(\n",
        "        filepath=\"convnet_from_scratch_with_augmentation.keras\",\n",
        "        save_best_only=True,\n",
        "        monitor=\"val_loss\")\n",
        "]\n",
        "history = model.fit(\n",
        "    train_dataset,\n",
        "    epochs=30,\n",
        "    validation_data=validation_dataset,\n",
        "    callbacks=callbacks)"
      ]
    },
    {
      "cell_type": "markdown",
      "metadata": {
        "id": "K7R_41A7LJgF"
      },
      "source": [
        "**Evaluating the model on the test set**"
      ]
    },
    {
      "cell_type": "code",
      "execution_count": 29,
      "metadata": {
        "colab": {
          "base_uri": "https://localhost:8080/"
        },
        "id": "LWMgTFPOLJgF",
        "outputId": "714401ee-9713-409a-b8a3-5f8d254dad89"
      },
      "outputs": [
        {
          "output_type": "stream",
          "name": "stdout",
          "text": [
            "32/32 [==============================] - 2s 51ms/step - loss: 0.5432 - accuracy: 0.7430\n",
            "Test accuracy: 0.743\n"
          ]
        }
      ],
      "source": [
        "test_model = keras.models.load_model(\n",
        "    \"convnet_from_scratch_with_augmentation.keras\")\n",
        "test_loss, test_acc = test_model.evaluate(test_dataset)\n",
        "print(f\"Test accuracy: {test_acc:.3f}\")"
      ]
    },
    {
      "cell_type": "markdown",
      "metadata": {
        "id": "ZBTatsuzYBsL"
      },
      "source": [
        "**Q3. Now change your training sample so that you achieve better performance than those from Steps 1 and 2. This sample size may be larger, or smaller than those in the previous steps. The objective is to find the ideal training sample size to get best prediction results.**\n",
        "\n",
        "\n"
      ]
    },
    {
      "cell_type": "markdown",
      "metadata": {
        "id": "1JTDXQOn8ndK"
      },
      "source": [
        "#### Test Accuracy - 76.1%\n",
        "\n",
        "#### Training Accuraccy - 85.1%\n",
        "\n",
        "#### Validation Accuracy - 78.30%\n"
      ]
    },
    {
      "cell_type": "markdown",
      "metadata": {
        "id": "RCwHLictwLGl"
      },
      "source": [
        "### Here we will increase the training sample to 2000, keeping the Validation and test sets the same as 500 samples."
      ]
    },
    {
      "cell_type": "code",
      "execution_count": 30,
      "metadata": {
        "id": "WNwoFRIWwzCa"
      },
      "outputs": [],
      "source": [
        "original_dir = pathlib.Path(\"train\")\n",
        "new_base_dir = pathlib.Path(\"cats_vs_dogs_small_Q3\")\n",
        "\n",
        "def make_subset(subset_name, start_index, end_index):\n",
        "    for category in (\"cat\", \"dog\"):\n",
        "        dir = new_base_dir / subset_name / category\n",
        "        os.makedirs(dir)\n",
        "        fnames = [f\"{category}.{i}.jpg\" for i in range(start_index, end_index)]\n",
        "        for fname in fnames:\n",
        "            shutil.copyfile(src=original_dir / fname,\n",
        "                            dst=dir / fname)\n",
        "#Creating training, Test and validation sets.\n",
        "#Training has 1000 samples, test has 500 samples and validation has 500 samples.\n",
        "make_subset(\"train\", start_index=0, end_index=2000)\n",
        "make_subset(\"validation\", start_index=2000, end_index=2500)\n",
        "make_subset(\"test\", start_index=2500, end_index=3000)"
      ]
    },
    {
      "cell_type": "markdown",
      "metadata": {
        "id": "q4Dy_A0exWqN"
      },
      "source": [
        "**Defining a new convnet with increased training samples,image augmentation and dropout**"
      ]
    },
    {
      "cell_type": "code",
      "execution_count": 31,
      "metadata": {
        "id": "2HIQ8cHQxWOF"
      },
      "outputs": [],
      "source": [
        "inputs = keras.Input(shape=(180, 180, 3))\n",
        "x = data_augmentation(inputs)\n",
        "x = layers.Rescaling(1./255)(x)\n",
        "x = layers.Conv2D(filters=32, kernel_size=3, activation=\"relu\")(x)\n",
        "x = layers.MaxPooling2D(pool_size=2)(x)\n",
        "x = layers.Conv2D(filters=64, kernel_size=3, activation=\"relu\")(x)\n",
        "x = layers.MaxPooling2D(pool_size=2)(x)\n",
        "x = layers.Conv2D(filters=128, kernel_size=3, activation=\"relu\")(x)\n",
        "x = layers.MaxPooling2D(pool_size=2)(x)\n",
        "x = layers.Conv2D(filters=256, kernel_size=3, activation=\"relu\")(x)\n",
        "x = layers.MaxPooling2D(pool_size=2)(x)\n",
        "x = layers.Conv2D(filters=256, kernel_size=3, activation=\"relu\")(x)\n",
        "x = layers.Flatten()(x)\n",
        "x = layers.Dropout(0.5)(x)\n",
        "outputs = layers.Dense(1, activation=\"sigmoid\")(x)\n",
        "model = keras.Model(inputs=inputs, outputs=outputs)\n",
        "\n",
        "model.compile(loss=\"binary_crossentropy\",\n",
        "              optimizer=\"adam\",\n",
        "              metrics=[\"accuracy\"])"
      ]
    },
    {
      "cell_type": "code",
      "execution_count": 35,
      "metadata": {
        "colab": {
          "base_uri": "https://localhost:8080/"
        },
        "id": "TC3vdZWhQLu3",
        "outputId": "3fd99f28-0be3-41a7-d90f-eaedab6ca16d"
      },
      "outputs": [
        {
          "output_type": "stream",
          "name": "stdout",
          "text": [
            "Epoch 1/35\n",
            "63/63 [==============================] - 9s 132ms/step - loss: 0.5544 - accuracy: 0.7255 - val_loss: 0.6111 - val_accuracy: 0.6730\n",
            "Epoch 2/35\n",
            "63/63 [==============================] - 8s 121ms/step - loss: 0.5311 - accuracy: 0.7330 - val_loss: 0.5637 - val_accuracy: 0.7070\n",
            "Epoch 3/35\n",
            "63/63 [==============================] - 8s 117ms/step - loss: 0.5403 - accuracy: 0.7350 - val_loss: 0.5827 - val_accuracy: 0.6880\n",
            "Epoch 4/35\n",
            "63/63 [==============================] - 8s 122ms/step - loss: 0.5245 - accuracy: 0.7440 - val_loss: 0.5594 - val_accuracy: 0.7190\n",
            "Epoch 5/35\n",
            "63/63 [==============================] - 8s 120ms/step - loss: 0.5166 - accuracy: 0.7465 - val_loss: 0.5528 - val_accuracy: 0.7140\n",
            "Epoch 6/35\n",
            "63/63 [==============================] - 8s 120ms/step - loss: 0.5096 - accuracy: 0.7460 - val_loss: 0.5449 - val_accuracy: 0.7320\n",
            "Epoch 7/35\n",
            "63/63 [==============================] - 8s 121ms/step - loss: 0.5031 - accuracy: 0.7595 - val_loss: 0.5215 - val_accuracy: 0.7390\n",
            "Epoch 8/35\n",
            "63/63 [==============================] - 8s 119ms/step - loss: 0.4810 - accuracy: 0.7680 - val_loss: 0.5178 - val_accuracy: 0.7500\n",
            "Epoch 9/35\n",
            "63/63 [==============================] - 8s 121ms/step - loss: 0.4719 - accuracy: 0.7815 - val_loss: 0.5225 - val_accuracy: 0.7510\n",
            "Epoch 10/35\n",
            "63/63 [==============================] - 8s 116ms/step - loss: 0.5051 - accuracy: 0.7555 - val_loss: 0.5452 - val_accuracy: 0.7160\n",
            "Epoch 11/35\n",
            "63/63 [==============================] - 8s 117ms/step - loss: 0.4802 - accuracy: 0.7705 - val_loss: 0.5150 - val_accuracy: 0.7470\n",
            "Epoch 12/35\n",
            "63/63 [==============================] - 8s 118ms/step - loss: 0.4555 - accuracy: 0.7950 - val_loss: 0.4828 - val_accuracy: 0.7640\n",
            "Epoch 13/35\n",
            "63/63 [==============================] - 8s 117ms/step - loss: 0.4556 - accuracy: 0.7860 - val_loss: 0.4926 - val_accuracy: 0.7690\n",
            "Epoch 14/35\n",
            "63/63 [==============================] - 8s 116ms/step - loss: 0.4441 - accuracy: 0.7960 - val_loss: 0.4595 - val_accuracy: 0.7890\n",
            "Epoch 15/35\n",
            "63/63 [==============================] - 8s 115ms/step - loss: 0.4284 - accuracy: 0.7985 - val_loss: 0.5009 - val_accuracy: 0.7640\n",
            "Epoch 16/35\n",
            "63/63 [==============================] - 8s 118ms/step - loss: 0.4321 - accuracy: 0.8090 - val_loss: 0.4813 - val_accuracy: 0.7760\n",
            "Epoch 17/35\n",
            "63/63 [==============================] - 8s 116ms/step - loss: 0.4462 - accuracy: 0.7940 - val_loss: 0.4887 - val_accuracy: 0.7690\n",
            "Epoch 18/35\n",
            "63/63 [==============================] - 8s 117ms/step - loss: 0.4189 - accuracy: 0.8095 - val_loss: 0.4508 - val_accuracy: 0.7840\n",
            "Epoch 19/35\n",
            "63/63 [==============================] - 8s 115ms/step - loss: 0.4046 - accuracy: 0.8110 - val_loss: 0.4634 - val_accuracy: 0.7890\n",
            "Epoch 20/35\n",
            "63/63 [==============================] - 8s 116ms/step - loss: 0.3887 - accuracy: 0.8245 - val_loss: 0.4703 - val_accuracy: 0.7850\n",
            "Epoch 21/35\n",
            "63/63 [==============================] - 8s 115ms/step - loss: 0.3916 - accuracy: 0.8160 - val_loss: 0.4592 - val_accuracy: 0.7980\n",
            "Epoch 22/35\n",
            "63/63 [==============================] - 8s 115ms/step - loss: 0.3923 - accuracy: 0.8245 - val_loss: 0.4512 - val_accuracy: 0.7900\n",
            "Epoch 23/35\n",
            "63/63 [==============================] - 8s 115ms/step - loss: 0.3752 - accuracy: 0.8330 - val_loss: 0.4894 - val_accuracy: 0.7760\n",
            "Epoch 24/35\n",
            "63/63 [==============================] - 8s 117ms/step - loss: 0.3699 - accuracy: 0.8365 - val_loss: 0.4524 - val_accuracy: 0.8090\n",
            "Epoch 25/35\n",
            "63/63 [==============================] - 8s 115ms/step - loss: 0.3784 - accuracy: 0.8395 - val_loss: 0.5086 - val_accuracy: 0.7850\n",
            "Epoch 26/35\n",
            "63/63 [==============================] - 8s 116ms/step - loss: 0.3864 - accuracy: 0.8155 - val_loss: 0.4876 - val_accuracy: 0.7790\n",
            "Epoch 27/35\n",
            "63/63 [==============================] - 8s 119ms/step - loss: 0.3440 - accuracy: 0.8440 - val_loss: 0.5008 - val_accuracy: 0.7960\n",
            "Epoch 28/35\n",
            "63/63 [==============================] - 8s 119ms/step - loss: 0.3618 - accuracy: 0.8350 - val_loss: 0.4538 - val_accuracy: 0.7950\n",
            "Epoch 29/35\n",
            "63/63 [==============================] - 8s 119ms/step - loss: 0.3461 - accuracy: 0.8385 - val_loss: 0.4949 - val_accuracy: 0.7880\n",
            "Epoch 30/35\n",
            "63/63 [==============================] - 8s 119ms/step - loss: 0.3334 - accuracy: 0.8555 - val_loss: 0.5062 - val_accuracy: 0.7870\n",
            "Epoch 31/35\n",
            "63/63 [==============================] - 8s 117ms/step - loss: 0.3152 - accuracy: 0.8660 - val_loss: 0.5685 - val_accuracy: 0.7630\n",
            "Epoch 32/35\n",
            "63/63 [==============================] - 8s 118ms/step - loss: 0.3365 - accuracy: 0.8525 - val_loss: 0.4869 - val_accuracy: 0.8020\n",
            "Epoch 33/35\n",
            "63/63 [==============================] - 8s 116ms/step - loss: 0.3118 - accuracy: 0.8620 - val_loss: 0.5080 - val_accuracy: 0.7830\n",
            "Epoch 34/35\n",
            "63/63 [==============================] - 8s 119ms/step - loss: 0.3323 - accuracy: 0.8515 - val_loss: 0.5248 - val_accuracy: 0.7810\n",
            "Epoch 35/35\n",
            "63/63 [==============================] - 8s 118ms/step - loss: 0.3285 - accuracy: 0.8510 - val_loss: 0.4905 - val_accuracy: 0.7830\n"
          ]
        }
      ],
      "source": [
        "callbacks = [\n",
        "    keras.callbacks.ModelCheckpoint(\n",
        "        filepath=\"convnet_from_scratch_with_augmentation1.keras\",\n",
        "        save_best_only=True,\n",
        "        monitor=\"val_loss\")\n",
        "]\n",
        "history = model.fit(\n",
        "    train_dataset,\n",
        "    epochs=35,\n",
        "    validation_data=validation_dataset,\n",
        "    callbacks=callbacks)"
      ]
    },
    {
      "cell_type": "code",
      "execution_count": 36,
      "metadata": {
        "colab": {
          "base_uri": "https://localhost:8080/"
        },
        "id": "dl-PYvrHR2GC",
        "outputId": "342e08a8-be5d-443a-e9a2-8f2897f18500"
      },
      "outputs": [
        {
          "output_type": "stream",
          "name": "stdout",
          "text": [
            "32/32 [==============================] - 2s 50ms/step - loss: 0.5052 - accuracy: 0.7610\n",
            "Test accuracy: 0.761\n"
          ]
        }
      ],
      "source": [
        "test_model = keras.models.load_model(\n",
        "    \"convnet_from_scratch_with_augmentation1.keras\")\n",
        "test_loss, test_acc = test_model.evaluate(test_dataset)\n",
        "print(f\"Test accuracy: {test_acc:.3f}\")"
      ]
    },
    {
      "cell_type": "markdown",
      "metadata": {
        "id": "iLu-7fNMCykm"
      },
      "source": [
        "# Overall Summary for above three questions:\n",
        "---\n",
        "\n",
        "\n",
        "\n",
        "### Initially we started by training a small convnet on 1,000 training samples, without any optimization to set a baseline which got us a classification accuracy of 73.5%. The main issue that was identified was overfitting. \n",
        "\n",
        "###Then we introduced data augmentation and other optimization techniques like earlystopping(which determines the optimal number of epochs), Regularization and Dropout. By using data augmentation, we improved the model to reach an accuracy of 74.3%.\n",
        "\n",
        "###Then we tried to find the optimal training sample to increase classification accuracy and we observed by the manipulating of training sample and by using other optimization techniques the best way to prevent overfitting are as follows:\n",
        "### 1. **Getting more training samples** \n",
        "### 2. **Reducing the capacity of the network** - It is observed that reducing the size of the model which is essentially the  number of layers  and the number of units in layers, considerably prevents overfitting\n",
        "### 3. **Adding weight regularization** - Putting constraint on the complexity of a network by forcing the weights  to take only small values, which helps in regularizing the distribution of the weight values which in turns helps in preventing or minimizing overfitting.\n",
        "### 4. **Adding dropout** - Zeroing out a number of output features of the layer during training, helps in minimizing overfitting as well. \n",
        "\n",
        "---\n",
        "\n",
        "\n"
      ]
    },
    {
      "cell_type": "markdown",
      "metadata": {
        "id": "LrPR3elMLJgF"
      },
      "source": [
        "#Q4. Repeat Steps 1-3, but now using a pretrained network. The sample sizes you use in Steps 2 and 3 for the pretrained network may be the same or different from those using the network where you trained from scratch. Again, use any and all optimization techniques to get best performance."
      ]
    },
    {
      "cell_type": "markdown",
      "metadata": {
        "id": "Mwki7ouMMs11"
      },
      "source": [
        "#### A highly effective approach to apply deep learning on small image datasets is to use a pretrained model. A pretrained model is a model that was previously trained on a large dataset, typically on a large-scale image-classification task.\n",
        "\n",
        "#### In this case, we will use a large convnet trained on the ImageNet dataset (1.4 million labeled images and 1,000 different classes). We will use VGG16 architecture, however, there are multiple architectures available namely VGG, ResNet, Inception, Xception, and so on.\n",
        "\n"
      ]
    },
    {
      "cell_type": "markdown",
      "metadata": {
        "id": "j69jWRr_LJgF"
      },
      "source": [
        "### Feature extraction with a pretrained model\n",
        "\n",
        "#### Feature extraction means using the representations learned by a previously trained model (ImageNet, in our case) to extract interesting features from new samples. These features are then run through a new classifier, which is trained from scratch."
      ]
    },
    {
      "cell_type": "markdown",
      "metadata": {
        "id": "zz2pq2ajLJgG"
      },
      "source": [
        "**Instantiating the VGG16 convolutional base**"
      ]
    },
    {
      "cell_type": "code",
      "execution_count": 37,
      "metadata": {
        "colab": {
          "base_uri": "https://localhost:8080/"
        },
        "id": "skbTdg2GLJgG",
        "outputId": "e9e0da82-c0b8-4cc4-fa39-e93ced0546e5"
      },
      "outputs": [
        {
          "output_type": "stream",
          "name": "stdout",
          "text": [
            "Downloading data from https://storage.googleapis.com/tensorflow/keras-applications/vgg16/vgg16_weights_tf_dim_ordering_tf_kernels_notop.h5\n",
            "58892288/58889256 [==============================] - 0s 0us/step\n",
            "58900480/58889256 [==============================] - 0s 0us/step\n"
          ]
        }
      ],
      "source": [
        "conv_base = keras.applications.vgg16.VGG16(\n",
        "    weights=\"imagenet\",\n",
        "    include_top=False,\n",
        "    input_shape=(180, 180, 3))"
      ]
    },
    {
      "cell_type": "code",
      "execution_count": 38,
      "metadata": {
        "colab": {
          "base_uri": "https://localhost:8080/"
        },
        "id": "pE4zRVz7LJgG",
        "outputId": "dc51163d-a640-4461-af26-9e0bdcb91282"
      },
      "outputs": [
        {
          "output_type": "stream",
          "name": "stdout",
          "text": [
            "Model: \"vgg16\"\n",
            "_________________________________________________________________\n",
            " Layer (type)                Output Shape              Param #   \n",
            "=================================================================\n",
            " input_4 (InputLayer)        [(None, 180, 180, 3)]     0         \n",
            "                                                                 \n",
            " block1_conv1 (Conv2D)       (None, 180, 180, 64)      1792      \n",
            "                                                                 \n",
            " block1_conv2 (Conv2D)       (None, 180, 180, 64)      36928     \n",
            "                                                                 \n",
            " block1_pool (MaxPooling2D)  (None, 90, 90, 64)        0         \n",
            "                                                                 \n",
            " block2_conv1 (Conv2D)       (None, 90, 90, 128)       73856     \n",
            "                                                                 \n",
            " block2_conv2 (Conv2D)       (None, 90, 90, 128)       147584    \n",
            "                                                                 \n",
            " block2_pool (MaxPooling2D)  (None, 45, 45, 128)       0         \n",
            "                                                                 \n",
            " block3_conv1 (Conv2D)       (None, 45, 45, 256)       295168    \n",
            "                                                                 \n",
            " block3_conv2 (Conv2D)       (None, 45, 45, 256)       590080    \n",
            "                                                                 \n",
            " block3_conv3 (Conv2D)       (None, 45, 45, 256)       590080    \n",
            "                                                                 \n",
            " block3_pool (MaxPooling2D)  (None, 22, 22, 256)       0         \n",
            "                                                                 \n",
            " block4_conv1 (Conv2D)       (None, 22, 22, 512)       1180160   \n",
            "                                                                 \n",
            " block4_conv2 (Conv2D)       (None, 22, 22, 512)       2359808   \n",
            "                                                                 \n",
            " block4_conv3 (Conv2D)       (None, 22, 22, 512)       2359808   \n",
            "                                                                 \n",
            " block4_pool (MaxPooling2D)  (None, 11, 11, 512)       0         \n",
            "                                                                 \n",
            " block5_conv1 (Conv2D)       (None, 11, 11, 512)       2359808   \n",
            "                                                                 \n",
            " block5_conv2 (Conv2D)       (None, 11, 11, 512)       2359808   \n",
            "                                                                 \n",
            " block5_conv3 (Conv2D)       (None, 11, 11, 512)       2359808   \n",
            "                                                                 \n",
            " block5_pool (MaxPooling2D)  (None, 5, 5, 512)         0         \n",
            "                                                                 \n",
            "=================================================================\n",
            "Total params: 14,714,688\n",
            "Trainable params: 14,714,688\n",
            "Non-trainable params: 0\n",
            "_________________________________________________________________\n"
          ]
        }
      ],
      "source": [
        "conv_base.summary()"
      ]
    },
    {
      "cell_type": "markdown",
      "metadata": {
        "id": "SfdIeb-CLJgG"
      },
      "source": [
        "### Feature extraction without data augmentation using a pretrained model"
      ]
    },
    {
      "cell_type": "markdown",
      "metadata": {
        "id": "IuoRUabiLJgG"
      },
      "source": [
        "**Extracting the VGG16 features and corresponding labels**"
      ]
    },
    {
      "cell_type": "code",
      "execution_count": 39,
      "metadata": {
        "id": "diN5BO8WLJgG"
      },
      "outputs": [],
      "source": [
        "import numpy as np\n",
        "\n",
        "def get_features_and_labels(dataset):\n",
        "    all_features = []\n",
        "    all_labels = []\n",
        "    for images, labels in dataset:\n",
        "        preprocessed_images = keras.applications.vgg16.preprocess_input(images)\n",
        "        features = conv_base.predict(preprocessed_images)\n",
        "        all_features.append(features)\n",
        "        all_labels.append(labels)\n",
        "    return np.concatenate(all_features), np.concatenate(all_labels)\n",
        "\n",
        "train_features, train_labels =  get_features_and_labels(train_dataset)\n",
        "val_features, val_labels =  get_features_and_labels(validation_dataset)\n",
        "test_features, test_labels =  get_features_and_labels(test_dataset)"
      ]
    },
    {
      "cell_type": "code",
      "execution_count": 40,
      "metadata": {
        "colab": {
          "base_uri": "https://localhost:8080/"
        },
        "id": "Sfa_c6LQLJgG",
        "outputId": "752a73a4-5102-4c44-c3a1-b07ff604da8c"
      },
      "outputs": [
        {
          "output_type": "execute_result",
          "data": {
            "text/plain": [
              "(2000, 5, 5, 512)"
            ]
          },
          "metadata": {},
          "execution_count": 40
        }
      ],
      "source": [
        "train_features.shape"
      ]
    },
    {
      "cell_type": "markdown",
      "metadata": {
        "id": "3hK0qBZZLJgH"
      },
      "source": [
        "**Defining and training the densely connected classifier**"
      ]
    },
    {
      "cell_type": "code",
      "execution_count": 41,
      "metadata": {
        "colab": {
          "base_uri": "https://localhost:8080/"
        },
        "id": "taVrYpkcLJgH",
        "outputId": "45a21e93-bd0a-45d7-ca69-f0d4cdb337de"
      },
      "outputs": [
        {
          "output_type": "stream",
          "name": "stdout",
          "text": [
            "Epoch 1/25\n",
            "63/63 [==============================] - 2s 14ms/step - loss: 13.0898 - accuracy: 0.9290 - val_loss: 3.5451 - val_accuracy: 0.9730\n",
            "Epoch 2/25\n",
            "63/63 [==============================] - 1s 10ms/step - loss: 4.5696 - accuracy: 0.9695 - val_loss: 5.1553 - val_accuracy: 0.9650\n",
            "Epoch 3/25\n",
            "63/63 [==============================] - 1s 11ms/step - loss: 1.8141 - accuracy: 0.9880 - val_loss: 4.4878 - val_accuracy: 0.9750\n",
            "Epoch 4/25\n",
            "63/63 [==============================] - 1s 11ms/step - loss: 1.9143 - accuracy: 0.9885 - val_loss: 5.2317 - val_accuracy: 0.9760\n",
            "Epoch 5/25\n",
            "63/63 [==============================] - 1s 11ms/step - loss: 1.4776 - accuracy: 0.9870 - val_loss: 4.6075 - val_accuracy: 0.9760\n",
            "Epoch 6/25\n",
            "63/63 [==============================] - 1s 11ms/step - loss: 1.1422 - accuracy: 0.9900 - val_loss: 5.9955 - val_accuracy: 0.9700\n",
            "Epoch 7/25\n",
            "63/63 [==============================] - 1s 10ms/step - loss: 0.4514 - accuracy: 0.9965 - val_loss: 5.1019 - val_accuracy: 0.9750\n",
            "Epoch 8/25\n",
            "63/63 [==============================] - 1s 11ms/step - loss: 0.3472 - accuracy: 0.9965 - val_loss: 7.2202 - val_accuracy: 0.9690\n",
            "Epoch 9/25\n",
            "63/63 [==============================] - 1s 10ms/step - loss: 0.5285 - accuracy: 0.9950 - val_loss: 6.0009 - val_accuracy: 0.9750\n",
            "Epoch 10/25\n",
            "63/63 [==============================] - 1s 11ms/step - loss: 0.2552 - accuracy: 0.9955 - val_loss: 3.8293 - val_accuracy: 0.9750\n",
            "Epoch 11/25\n",
            "63/63 [==============================] - 1s 10ms/step - loss: 0.1620 - accuracy: 0.9985 - val_loss: 6.2568 - val_accuracy: 0.9710\n",
            "Epoch 12/25\n",
            "63/63 [==============================] - 1s 11ms/step - loss: 0.4747 - accuracy: 0.9945 - val_loss: 6.8401 - val_accuracy: 0.9750\n",
            "Epoch 13/25\n",
            "63/63 [==============================] - 1s 11ms/step - loss: 0.4325 - accuracy: 0.9965 - val_loss: 5.0992 - val_accuracy: 0.9730\n",
            "Epoch 14/25\n",
            "63/63 [==============================] - 1s 10ms/step - loss: 0.0240 - accuracy: 0.9985 - val_loss: 4.8284 - val_accuracy: 0.9760\n",
            "Epoch 15/25\n",
            "63/63 [==============================] - 1s 10ms/step - loss: 0.0551 - accuracy: 0.9995 - val_loss: 4.7444 - val_accuracy: 0.9830\n",
            "Epoch 16/25\n",
            "63/63 [==============================] - 1s 11ms/step - loss: 0.0625 - accuracy: 0.9990 - val_loss: 4.5019 - val_accuracy: 0.9770\n",
            "Epoch 17/25\n",
            "63/63 [==============================] - 1s 10ms/step - loss: 0.1987 - accuracy: 0.9990 - val_loss: 5.0285 - val_accuracy: 0.9780\n",
            "Epoch 18/25\n",
            "63/63 [==============================] - 1s 11ms/step - loss: 0.0819 - accuracy: 0.9990 - val_loss: 6.1690 - val_accuracy: 0.9770\n",
            "Epoch 19/25\n",
            "63/63 [==============================] - 1s 10ms/step - loss: 4.5434e-15 - accuracy: 1.0000 - val_loss: 6.1690 - val_accuracy: 0.9770\n",
            "Epoch 20/25\n",
            "63/63 [==============================] - 1s 11ms/step - loss: 0.0896 - accuracy: 0.9985 - val_loss: 5.6202 - val_accuracy: 0.9800\n",
            "Epoch 21/25\n",
            "63/63 [==============================] - 1s 11ms/step - loss: 0.0853 - accuracy: 0.9990 - val_loss: 5.4220 - val_accuracy: 0.9790\n",
            "Epoch 22/25\n",
            "63/63 [==============================] - 1s 12ms/step - loss: 0.0000e+00 - accuracy: 1.0000 - val_loss: 5.4220 - val_accuracy: 0.9790\n",
            "Epoch 23/25\n",
            "63/63 [==============================] - 1s 11ms/step - loss: 0.0000e+00 - accuracy: 1.0000 - val_loss: 5.4220 - val_accuracy: 0.9790\n",
            "Epoch 24/25\n",
            "63/63 [==============================] - 1s 11ms/step - loss: 0.0000e+00 - accuracy: 1.0000 - val_loss: 5.4220 - val_accuracy: 0.9790\n",
            "Epoch 25/25\n",
            "63/63 [==============================] - 1s 10ms/step - loss: 0.0000e+00 - accuracy: 1.0000 - val_loss: 5.4220 - val_accuracy: 0.9790\n"
          ]
        }
      ],
      "source": [
        "inputs = keras.Input(shape=(5, 5, 512))\n",
        "x = layers.Flatten()(inputs)\n",
        "x = layers.Dense(256)(x)\n",
        "x = layers.Dropout(0.5)(x)\n",
        "outputs = layers.Dense(1, activation=\"sigmoid\")(x)\n",
        "model = keras.Model(inputs, outputs)\n",
        "model.compile(loss=\"binary_crossentropy\",\n",
        "              optimizer=\"rmsprop\",\n",
        "              metrics=[\"accuracy\"])\n",
        "\n",
        "callbacks = [\n",
        "    keras.callbacks.ModelCheckpoint(\n",
        "      filepath=\"feature_extraction.keras\",\n",
        "      save_best_only=True,\n",
        "      monitor=\"val_loss\")\n",
        "]\n",
        "history = model.fit(\n",
        "    train_features, train_labels,\n",
        "    epochs=25,\n",
        "    validation_data=(val_features, val_labels),\n",
        "    callbacks=callbacks)"
      ]
    },
    {
      "cell_type": "markdown",
      "metadata": {
        "id": "OIgzvXnHLJgH"
      },
      "source": [
        "**Plotting the results**"
      ]
    },
    {
      "cell_type": "code",
      "execution_count": 42,
      "metadata": {
        "colab": {
          "base_uri": "https://localhost:8080/",
          "height": 545
        },
        "id": "8_s5AqAjLJgH",
        "outputId": "a8c00cd4-2c62-4bfe-ee0b-2a8a8cbf5862"
      },
      "outputs": [
        {
          "output_type": "display_data",
          "data": {
            "text/plain": [
              "<Figure size 432x288 with 1 Axes>"
            ],
            "image/png": "[encoded data removed]"
          },
          "metadata": {
            "needs_background": "light"
          }
        },
        {
          "output_type": "display_data",
          "data": {
            "text/plain": [
              "<Figure size 432x288 with 1 Axes>"
            ],
            "image/png": "[encoded data removed]"
          },
          "metadata": {
            "needs_background": "light"
          }
        }
      ],
      "source": [
        "import matplotlib.pyplot as plt\n",
        "acc = history.history[\"accuracy\"]\n",
        "val_acc = history.history[\"val_accuracy\"]\n",
        "loss = history.history[\"loss\"]\n",
        "val_loss = history.history[\"val_loss\"]\n",
        "epochs = range(1, len(acc) + 1)\n",
        "plt.plot(epochs, acc, \"bo\", label=\"Training accuracy\")\n",
        "plt.plot(epochs, val_acc, \"b\", label=\"Validation accuracy\")\n",
        "plt.title(\"Training and validation accuracy\")\n",
        "plt.legend()\n",
        "plt.figure()\n",
        "plt.plot(epochs, loss, \"bo\", label=\"Training loss\")\n",
        "plt.plot(epochs, val_loss, \"b\", label=\"Validation loss\")\n",
        "plt.title(\"Training and validation loss\")\n",
        "plt.legend()\n",
        "plt.show()"
      ]
    },
    {
      "cell_type": "markdown",
      "metadata": {
        "id": "0XzEsaqmLJgH"
      },
      "source": [
        "### Feature extraction with data augmentation using a pretrained model"
      ]
    },
    {
      "cell_type": "markdown",
      "metadata": {
        "id": "xbNGfHSmLJgH"
      },
      "source": [
        "**Instantiating and freezing the VGG16 convolutional base**"
      ]
    },
    {
      "cell_type": "code",
      "execution_count": 43,
      "metadata": {
        "id": "4dQb9DQCLJgI"
      },
      "outputs": [],
      "source": [
        "conv_base  = keras.applications.vgg16.VGG16(\n",
        "    weights=\"imagenet\",\n",
        "    include_top=False)\n",
        "conv_base.trainable = False"
      ]
    },
    {
      "cell_type": "markdown",
      "metadata": {
        "id": "lo4EDoRLLJgI"
      },
      "source": [
        "**Printing the list of trainable weights before and after freezing**"
      ]
    },
    {
      "cell_type": "code",
      "execution_count": 44,
      "metadata": {
        "colab": {
          "base_uri": "https://localhost:8080/"
        },
        "id": "uXuWbLaXLJgI",
        "outputId": "249bbf1a-a438-47f7-9d20-a9e84e9e83fe"
      },
      "outputs": [
        {
          "output_type": "stream",
          "name": "stdout",
          "text": [
            "This is the number of trainable weights before freezing the conv base: 26\n"
          ]
        }
      ],
      "source": [
        "conv_base.trainable = True\n",
        "print(\"This is the number of trainable weights \"\n",
        "      \"before freezing the conv base:\", len(conv_base.trainable_weights))"
      ]
    },
    {
      "cell_type": "code",
      "execution_count": 45,
      "metadata": {
        "colab": {
          "base_uri": "https://localhost:8080/"
        },
        "id": "ymDWZ8j4LJgI",
        "outputId": "95051c4f-e68b-4556-e33f-75c52392b752"
      },
      "outputs": [
        {
          "output_type": "stream",
          "name": "stdout",
          "text": [
            "This is the number of trainable weights after freezing the conv base: 0\n"
          ]
        }
      ],
      "source": [
        "conv_base.trainable = False\n",
        "print(\"This is the number of trainable weights \"\n",
        "      \"after freezing the conv base:\", len(conv_base.trainable_weights))"
      ]
    },
    {
      "cell_type": "markdown",
      "metadata": {
        "id": "23uNfxn6LJgI"
      },
      "source": [
        "**Adding a data augmentation stage and a classifier to the convolutional base**"
      ]
    },
    {
      "cell_type": "code",
      "execution_count": 46,
      "metadata": {
        "id": "VNgRDR0hLJgI"
      },
      "outputs": [],
      "source": [
        "data_augmentation = keras.Sequential(\n",
        "    [\n",
        "        layers.RandomFlip(\"horizontal\"),\n",
        "        layers.RandomRotation(0.1),\n",
        "        layers.RandomZoom(0.2),\n",
        "    ]\n",
        ")\n",
        "\n",
        "inputs = keras.Input(shape=(180, 180, 3))\n",
        "x = data_augmentation(inputs)\n",
        "x = keras.applications.vgg16.preprocess_input(x)\n",
        "x = conv_base(x)\n",
        "x = layers.Flatten()(x)\n",
        "x = layers.Dense(256)(x)\n",
        "x = layers.Dropout(0.5)(x)\n",
        "outputs = layers.Dense(1, activation=\"sigmoid\")(x)\n",
        "model = keras.Model(inputs, outputs)\n",
        "model.compile(loss=\"binary_crossentropy\",\n",
        "              optimizer=\"rmsprop\",\n",
        "              metrics=[\"accuracy\"])"
      ]
    },
    {
      "cell_type": "code",
      "execution_count": 47,
      "metadata": {
        "colab": {
          "base_uri": "https://localhost:8080/"
        },
        "id": "rktZ-i64LJgI",
        "outputId": "4de04898-be80-43fa-94e4-2626bbb4f307"
      },
      "outputs": [
        {
          "output_type": "stream",
          "name": "stdout",
          "text": [
            "Epoch 1/30\n",
            "63/63 [==============================] - 25s 351ms/step - loss: 15.5778 - accuracy: 0.8960 - val_loss: 3.0534 - val_accuracy: 0.9760\n",
            "Epoch 2/30\n",
            "63/63 [==============================] - 22s 344ms/step - loss: 8.4205 - accuracy: 0.9360 - val_loss: 3.8696 - val_accuracy: 0.9720\n",
            "Epoch 3/30\n",
            "63/63 [==============================] - 22s 344ms/step - loss: 5.6019 - accuracy: 0.9540 - val_loss: 4.0089 - val_accuracy: 0.9770\n",
            "Epoch 4/30\n",
            "63/63 [==============================] - 22s 343ms/step - loss: 5.6236 - accuracy: 0.9595 - val_loss: 3.6372 - val_accuracy: 0.9790\n",
            "Epoch 5/30\n",
            "63/63 [==============================] - 22s 343ms/step - loss: 4.5770 - accuracy: 0.9675 - val_loss: 4.0001 - val_accuracy: 0.9730\n",
            "Epoch 6/30\n",
            "63/63 [==============================] - 22s 344ms/step - loss: 4.2715 - accuracy: 0.9680 - val_loss: 3.1907 - val_accuracy: 0.9790\n",
            "Epoch 7/30\n",
            "63/63 [==============================] - 22s 349ms/step - loss: 2.6289 - accuracy: 0.9700 - val_loss: 2.8241 - val_accuracy: 0.9820\n",
            "Epoch 8/30\n",
            "63/63 [==============================] - 22s 342ms/step - loss: 3.4203 - accuracy: 0.9705 - val_loss: 3.6956 - val_accuracy: 0.9730\n",
            "Epoch 9/30\n",
            "63/63 [==============================] - 22s 344ms/step - loss: 2.9949 - accuracy: 0.9710 - val_loss: 3.5895 - val_accuracy: 0.9740\n",
            "Epoch 10/30\n",
            "63/63 [==============================] - 22s 344ms/step - loss: 2.7917 - accuracy: 0.9695 - val_loss: 4.2273 - val_accuracy: 0.9770\n",
            "Epoch 11/30\n",
            "63/63 [==============================] - 22s 344ms/step - loss: 1.8761 - accuracy: 0.9835 - val_loss: 3.0687 - val_accuracy: 0.9830\n",
            "Epoch 12/30\n",
            "63/63 [==============================] - 22s 344ms/step - loss: 3.0505 - accuracy: 0.9745 - val_loss: 3.8771 - val_accuracy: 0.9800\n",
            "Epoch 13/30\n",
            "63/63 [==============================] - 22s 343ms/step - loss: 2.0626 - accuracy: 0.9750 - val_loss: 3.0829 - val_accuracy: 0.9820\n",
            "Epoch 14/30\n",
            "63/63 [==============================] - 22s 347ms/step - loss: 1.8148 - accuracy: 0.9740 - val_loss: 2.2493 - val_accuracy: 0.9810\n",
            "Epoch 15/30\n",
            "63/63 [==============================] - 22s 348ms/step - loss: 1.4301 - accuracy: 0.9820 - val_loss: 1.7653 - val_accuracy: 0.9800\n",
            "Epoch 16/30\n",
            "63/63 [==============================] - 22s 343ms/step - loss: 1.3817 - accuracy: 0.9835 - val_loss: 2.5304 - val_accuracy: 0.9800\n",
            "Epoch 17/30\n",
            "63/63 [==============================] - 22s 345ms/step - loss: 1.4537 - accuracy: 0.9820 - val_loss: 2.8069 - val_accuracy: 0.9780\n",
            "Epoch 18/30\n",
            "63/63 [==============================] - 22s 343ms/step - loss: 1.6596 - accuracy: 0.9795 - val_loss: 2.3529 - val_accuracy: 0.9780\n",
            "Epoch 19/30\n",
            "63/63 [==============================] - 22s 344ms/step - loss: 1.3085 - accuracy: 0.9835 - val_loss: 2.2434 - val_accuracy: 0.9760\n",
            "Epoch 20/30\n",
            "63/63 [==============================] - 22s 344ms/step - loss: 0.9271 - accuracy: 0.9855 - val_loss: 1.8565 - val_accuracy: 0.9810\n",
            "Epoch 21/30\n",
            "63/63 [==============================] - 22s 343ms/step - loss: 0.9747 - accuracy: 0.9860 - val_loss: 2.4986 - val_accuracy: 0.9760\n",
            "Epoch 22/30\n",
            "63/63 [==============================] - 22s 344ms/step - loss: 1.0141 - accuracy: 0.9860 - val_loss: 2.1724 - val_accuracy: 0.9800\n",
            "Epoch 23/30\n",
            "63/63 [==============================] - 22s 346ms/step - loss: 1.1451 - accuracy: 0.9830 - val_loss: 1.6304 - val_accuracy: 0.9810\n",
            "Epoch 24/30\n",
            "63/63 [==============================] - 22s 343ms/step - loss: 1.2226 - accuracy: 0.9850 - val_loss: 2.1959 - val_accuracy: 0.9810\n",
            "Epoch 25/30\n",
            "63/63 [==============================] - 22s 344ms/step - loss: 1.3365 - accuracy: 0.9825 - val_loss: 1.8826 - val_accuracy: 0.9820\n",
            "Epoch 26/30\n",
            "63/63 [==============================] - 22s 345ms/step - loss: 1.2217 - accuracy: 0.9810 - val_loss: 2.5280 - val_accuracy: 0.9760\n",
            "Epoch 27/30\n",
            "63/63 [==============================] - 22s 344ms/step - loss: 0.9193 - accuracy: 0.9880 - val_loss: 1.8130 - val_accuracy: 0.9790\n",
            "Epoch 28/30\n",
            "63/63 [==============================] - 22s 345ms/step - loss: 1.0731 - accuracy: 0.9845 - val_loss: 2.3352 - val_accuracy: 0.9740\n",
            "Epoch 29/30\n",
            "63/63 [==============================] - 22s 343ms/step - loss: 1.1265 - accuracy: 0.9835 - val_loss: 2.1058 - val_accuracy: 0.9770\n",
            "Epoch 30/30\n",
            "63/63 [==============================] - 22s 344ms/step - loss: 0.6070 - accuracy: 0.9880 - val_loss: 1.8988 - val_accuracy: 0.9780\n"
          ]
        }
      ],
      "source": [
        "callbacks = [\n",
        "    keras.callbacks.ModelCheckpoint(\n",
        "        filepath=\"feature_extraction_with_data_augmentation.keras\",\n",
        "        save_best_only=True,\n",
        "        monitor=\"val_loss\")\n",
        "]\n",
        "history = model.fit(\n",
        "    train_dataset,\n",
        "    epochs=30,\n",
        "    validation_data=validation_dataset,\n",
        "    callbacks=callbacks)"
      ]
    },
    {
      "cell_type": "markdown",
      "metadata": {
        "id": "NZeVqDgrLJgJ"
      },
      "source": [
        "**Evaluating the model on the test set**"
      ]
    },
    {
      "cell_type": "code",
      "execution_count": 48,
      "metadata": {
        "colab": {
          "base_uri": "https://localhost:8080/"
        },
        "id": "1a7rXKp5LJgJ",
        "outputId": "0be70a46-5dac-4f50-ec03-af1c5c485361"
      },
      "outputs": [
        {
          "output_type": "stream",
          "name": "stdout",
          "text": [
            "32/32 [==============================] - 8s 218ms/step - loss: 2.6642 - accuracy: 0.9790\n",
            "Test accuracy: 0.979\n"
          ]
        }
      ],
      "source": [
        "test_model = keras.models.load_model(\n",
        "    \"feature_extraction_with_data_augmentation.keras\")\n",
        "test_loss, test_acc = test_model.evaluate(test_dataset)\n",
        "print(f\"Test accuracy: {test_acc:.3f}\")"
      ]
    },
    {
      "cell_type": "markdown",
      "metadata": {
        "id": "D51I3dJALJgJ"
      },
      "source": [
        "### A pre-trained model is a saved network that was previously trained on a large dataset, typically on a large-scale image-classification task. You either use the pretrained model as is or use transfer learning to customize this model to a given task.\n",
        "\n",
        "### The intuition behind transfer learning for image classification is that if a model is trained on a large and general enough dataset, this model will effectively serve as a generic model of the visual world. You can then take advantage of these learned feature maps without having to start from scratch by training a large model on a large dataset.\n",
        "\n",
        "### A pretrained VGG16 model with Fine-tuning is a way to customize a pre trained model:\n",
        "\n",
        "#### Unfreeze a few of the top layers of a frozen model base and jointly train both the newly-added classifier layers and the last layers of the base model. This allows us to \"fine-tune\" the higher-order feature representations in the base model in order to make them more relevant for the specific task.\n",
        "\n",
        "### You will follow the general machine learning workflow.\n",
        "\n",
        "### Examine and understand the data\n",
        "### Build an input pipeline, in this case using Keras ImageDataGenerator\n",
        "### Compose the model\n",
        "### Load in the pretrained base model (and pretrained weights)\n",
        "### Stack the classification layers on top\n",
        "### Train the model\n",
        "### Evaluate model\n"
      ]
    },
    {
      "cell_type": "code",
      "execution_count": 49,
      "metadata": {
        "colab": {
          "base_uri": "https://localhost:8080/"
        },
        "id": "N0V2rv5RLJgJ",
        "outputId": "cb9dce46-fb59-4ffc-f06b-3af1c6dc663d"
      },
      "outputs": [
        {
          "output_type": "stream",
          "name": "stdout",
          "text": [
            "Model: \"vgg16\"\n",
            "_________________________________________________________________\n",
            " Layer (type)                Output Shape              Param #   \n",
            "=================================================================\n",
            " input_6 (InputLayer)        [(None, None, None, 3)]   0         \n",
            "                                                                 \n",
            " block1_conv1 (Conv2D)       (None, None, None, 64)    1792      \n",
            "                                                                 \n",
            " block1_conv2 (Conv2D)       (None, None, None, 64)    36928     \n",
            "                                                                 \n",
            " block1_pool (MaxPooling2D)  (None, None, None, 64)    0         \n",
            "                                                                 \n",
            " block2_conv1 (Conv2D)       (None, None, None, 128)   73856     \n",
            "                                                                 \n",
            " block2_conv2 (Conv2D)       (None, None, None, 128)   147584    \n",
            "                                                                 \n",
            " block2_pool (MaxPooling2D)  (None, None, None, 128)   0         \n",
            "                                                                 \n",
            " block3_conv1 (Conv2D)       (None, None, None, 256)   295168    \n",
            "                                                                 \n",
            " block3_conv2 (Conv2D)       (None, None, None, 256)   590080    \n",
            "                                                                 \n",
            " block3_conv3 (Conv2D)       (None, None, None, 256)   590080    \n",
            "                                                                 \n",
            " block3_pool (MaxPooling2D)  (None, None, None, 256)   0         \n",
            "                                                                 \n",
            " block4_conv1 (Conv2D)       (None, None, None, 512)   1180160   \n",
            "                                                                 \n",
            " block4_conv2 (Conv2D)       (None, None, None, 512)   2359808   \n",
            "                                                                 \n",
            " block4_conv3 (Conv2D)       (None, None, None, 512)   2359808   \n",
            "                                                                 \n",
            " block4_pool (MaxPooling2D)  (None, None, None, 512)   0         \n",
            "                                                                 \n",
            " block5_conv1 (Conv2D)       (None, None, None, 512)   2359808   \n",
            "                                                                 \n",
            " block5_conv2 (Conv2D)       (None, None, None, 512)   2359808   \n",
            "                                                                 \n",
            " block5_conv3 (Conv2D)       (None, None, None, 512)   2359808   \n",
            "                                                                 \n",
            " block5_pool (MaxPooling2D)  (None, None, None, 512)   0         \n",
            "                                                                 \n",
            "=================================================================\n",
            "Total params: 14,714,688\n",
            "Trainable params: 0\n",
            "Non-trainable params: 14,714,688\n",
            "_________________________________________________________________\n"
          ]
        }
      ],
      "source": [
        "conv_base.summary()"
      ]
    },
    {
      "cell_type": "markdown",
      "metadata": {
        "id": "cUR7EUYmLJgJ"
      },
      "source": [
        "**Freezing all layers until the fourth from the last**"
      ]
    },
    {
      "cell_type": "code",
      "execution_count": 50,
      "metadata": {
        "id": "9afcG21WLJgJ"
      },
      "outputs": [],
      "source": [
        "conv_base.trainable = True\n",
        "for layer in conv_base.layers[:-4]:\n",
        "    layer.trainable = False"
      ]
    },
    {
      "cell_type": "markdown",
      "metadata": {
        "id": "44SPsGOiLJgJ"
      },
      "source": [
        "**Fine-tuning the model**"
      ]
    },
    {
      "cell_type": "code",
      "execution_count": 51,
      "metadata": {
        "colab": {
          "base_uri": "https://localhost:8080/"
        },
        "id": "BNfNf5C6LJgJ",
        "outputId": "ae42cb48-6352-4a93-bca6-c3dac72a3f87"
      },
      "outputs": [
        {
          "output_type": "stream",
          "name": "stdout",
          "text": [
            "Epoch 1/30\n",
            "63/63 [==============================] - 26s 383ms/step - loss: 0.5814 - accuracy: 0.9875 - val_loss: 1.4266 - val_accuracy: 0.9840\n",
            "Epoch 2/30\n",
            "63/63 [==============================] - 24s 374ms/step - loss: 0.4128 - accuracy: 0.9920 - val_loss: 1.7940 - val_accuracy: 0.9800\n",
            "Epoch 3/30\n",
            "63/63 [==============================] - 24s 372ms/step - loss: 0.3807 - accuracy: 0.9905 - val_loss: 1.9125 - val_accuracy: 0.9820\n",
            "Epoch 4/30\n",
            "63/63 [==============================] - 24s 373ms/step - loss: 0.5942 - accuracy: 0.9865 - val_loss: 1.8604 - val_accuracy: 0.9800\n",
            "Epoch 5/30\n",
            "63/63 [==============================] - 24s 374ms/step - loss: 0.4721 - accuracy: 0.9870 - val_loss: 2.1151 - val_accuracy: 0.9770\n",
            "Epoch 6/30\n",
            "63/63 [==============================] - 24s 372ms/step - loss: 0.2160 - accuracy: 0.9920 - val_loss: 1.5881 - val_accuracy: 0.9870\n",
            "Epoch 7/30\n",
            "63/63 [==============================] - 24s 375ms/step - loss: 0.2265 - accuracy: 0.9935 - val_loss: 1.7081 - val_accuracy: 0.9830\n",
            "Epoch 8/30\n",
            "63/63 [==============================] - 24s 372ms/step - loss: 0.3631 - accuracy: 0.9945 - val_loss: 1.5449 - val_accuracy: 0.9840\n",
            "Epoch 9/30\n",
            "63/63 [==============================] - 24s 372ms/step - loss: 0.2537 - accuracy: 0.9930 - val_loss: 1.8471 - val_accuracy: 0.9820\n",
            "Epoch 10/30\n",
            "63/63 [==============================] - 24s 378ms/step - loss: 0.4543 - accuracy: 0.9905 - val_loss: 1.3822 - val_accuracy: 0.9810\n",
            "Epoch 11/30\n",
            "63/63 [==============================] - 24s 373ms/step - loss: 0.1612 - accuracy: 0.9955 - val_loss: 1.8804 - val_accuracy: 0.9790\n",
            "Epoch 12/30\n",
            "63/63 [==============================] - 24s 373ms/step - loss: 0.0892 - accuracy: 0.9955 - val_loss: 1.5662 - val_accuracy: 0.9810\n",
            "Epoch 13/30\n",
            "63/63 [==============================] - 24s 372ms/step - loss: 0.1540 - accuracy: 0.9935 - val_loss: 1.8931 - val_accuracy: 0.9820\n",
            "Epoch 14/30\n",
            "63/63 [==============================] - 24s 372ms/step - loss: 0.2093 - accuracy: 0.9935 - val_loss: 1.9239 - val_accuracy: 0.9780\n",
            "Epoch 15/30\n",
            "63/63 [==============================] - 24s 371ms/step - loss: 0.2199 - accuracy: 0.9940 - val_loss: 1.4063 - val_accuracy: 0.9820\n",
            "Epoch 16/30\n",
            "63/63 [==============================] - 24s 372ms/step - loss: 0.1354 - accuracy: 0.9950 - val_loss: 1.5499 - val_accuracy: 0.9840\n",
            "Epoch 17/30\n",
            "63/63 [==============================] - 24s 372ms/step - loss: 0.1098 - accuracy: 0.9955 - val_loss: 1.5810 - val_accuracy: 0.9820\n",
            "Epoch 18/30\n",
            "63/63 [==============================] - 24s 373ms/step - loss: 0.2418 - accuracy: 0.9935 - val_loss: 1.7464 - val_accuracy: 0.9810\n",
            "Epoch 19/30\n",
            "63/63 [==============================] - 24s 372ms/step - loss: 0.2256 - accuracy: 0.9955 - val_loss: 1.8673 - val_accuracy: 0.9790\n",
            "Epoch 20/30\n",
            "63/63 [==============================] - 24s 372ms/step - loss: 0.2093 - accuracy: 0.9935 - val_loss: 1.5397 - val_accuracy: 0.9830\n",
            "Epoch 21/30\n",
            "63/63 [==============================] - 24s 372ms/step - loss: 0.1638 - accuracy: 0.9945 - val_loss: 1.5254 - val_accuracy: 0.9840\n",
            "Epoch 22/30\n",
            "63/63 [==============================] - 24s 372ms/step - loss: 0.1530 - accuracy: 0.9950 - val_loss: 1.4105 - val_accuracy: 0.9820\n",
            "Epoch 23/30\n",
            "63/63 [==============================] - 24s 373ms/step - loss: 0.1294 - accuracy: 0.9950 - val_loss: 1.6638 - val_accuracy: 0.9840\n",
            "Epoch 24/30\n",
            "63/63 [==============================] - 24s 374ms/step - loss: 0.1987 - accuracy: 0.9960 - val_loss: 1.6943 - val_accuracy: 0.9830\n",
            "Epoch 25/30\n",
            "63/63 [==============================] - 24s 372ms/step - loss: 0.1572 - accuracy: 0.9965 - val_loss: 1.5266 - val_accuracy: 0.9800\n",
            "Epoch 26/30\n",
            "63/63 [==============================] - 24s 380ms/step - loss: 0.1322 - accuracy: 0.9950 - val_loss: 1.3403 - val_accuracy: 0.9830\n",
            "Epoch 27/30\n",
            "63/63 [==============================] - 24s 379ms/step - loss: 0.1454 - accuracy: 0.9960 - val_loss: 1.1734 - val_accuracy: 0.9870\n",
            "Epoch 28/30\n",
            "63/63 [==============================] - 24s 374ms/step - loss: 0.0833 - accuracy: 0.9960 - val_loss: 1.4497 - val_accuracy: 0.9840\n",
            "Epoch 29/30\n",
            "63/63 [==============================] - 24s 373ms/step - loss: 0.1074 - accuracy: 0.9970 - val_loss: 1.3371 - val_accuracy: 0.9870\n",
            "Epoch 30/30\n",
            "63/63 [==============================] - 24s 373ms/step - loss: 0.2060 - accuracy: 0.9935 - val_loss: 1.3172 - val_accuracy: 0.9850\n"
          ]
        }
      ],
      "source": [
        "model.compile(loss=\"binary_crossentropy\",\n",
        "              optimizer=keras.optimizers.RMSprop(learning_rate=1e-5),\n",
        "              metrics=[\"accuracy\"])\n",
        "\n",
        "callbacks = [\n",
        "    keras.callbacks.ModelCheckpoint(\n",
        "        filepath=\"fine_tuning.keras\",\n",
        "        save_best_only=True,\n",
        "        monitor=\"val_loss\")\n",
        "]\n",
        "history = model.fit(\n",
        "    train_dataset,\n",
        "    epochs=30,\n",
        "    validation_data=validation_dataset,\n",
        "    callbacks=callbacks)"
      ]
    },
    {
      "cell_type": "code",
      "execution_count": 52,
      "metadata": {
        "colab": {
          "base_uri": "https://localhost:8080/"
        },
        "id": "QTO5M9XHLJgK",
        "outputId": "28b07ba6-a8b5-4516-e98e-7e70f6dc7188"
      },
      "outputs": [
        {
          "output_type": "stream",
          "name": "stdout",
          "text": [
            "32/32 [==============================] - 8s 218ms/step - loss: 1.8811 - accuracy: 0.9750\n",
            "Test accuracy: 0.975\n"
          ]
        }
      ],
      "source": [
        "model = keras.models.load_model(\"fine_tuning.keras\")\n",
        "test_loss, test_acc = model.evaluate(test_dataset)\n",
        "print(f\"Test accuracy: {test_acc:.3f}\")"
      ]
    },
    {
      "cell_type": "markdown",
      "metadata": {
        "id": "47PdlIiBTRnO"
      },
      "source": [
        "## Summary\n",
        "\n",
        "### Using a Pre-trained model without Augmentation\n",
        "\n",
        "#### We reach a validation accuracy of about 97.80% which is better than what we achieved while training the small model from scratch. This won’t always be the case when you use pretrained features.\n",
        "#### However, the plots also indicate that we’re overfitting almost from the start—despite using dropout with a fairly large rate. That’s because this technique doesn’t use data augmentation, which is essential for preventing overfitting with small image datasets.\n",
        "\n",
        "### Using a Pre-trained model without Augmentation\n",
        "\n",
        "#### A model’s accuracy always depends on the set of samples one evaluates it on! Some sample sets may be more difficult than others, and strong results on one set won’t necessarily fully translate to all other sets. because of this reason, Pretrained model With Augmentation, there was just a minor increase in the accuracy from 97.80% to 98.50%.\n",
        "\n",
        "### Using Pretrained model with fine tuning\n",
        "#### Here, we get a test accuracy of 97.5%\n",
        "\n",
        "### These accuracy results might change within one percentage range of point."
      ]
    }
  ],
  "metadata": {
    "colab": {
      "collapsed_sections": [],
      "machine_shape": "hm",
      "name": "Assignment2_AML_Convnet_v4.0",
      "provenance": []
    },
    "kernelspec": {
      "display_name": "Python 3",
      "language": "python",
      "name": "python3"
    },
    "language_info": {
      "codemirror_mode": {
        "name": "ipython",
        "version": 3
      },
      "file_extension": ".py",
      "mimetype": "text/x-python",
      "name": "python",
      "nbconvert_exporter": "python",
      "pygments_lexer": "ipython3",
      "version": "3.7.0"
    },
    "accelerator": "GPU"
  },
  "nbformat": 4,
  "nbformat_minor": 0
}